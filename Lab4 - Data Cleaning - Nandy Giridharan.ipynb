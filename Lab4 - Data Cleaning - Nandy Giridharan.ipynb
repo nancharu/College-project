{
 "cells": [
  {
   "cell_type": "markdown",
   "metadata": {},
   "source": [
    "# Lab 4: Data Cleaning\n",
    "\n",
    "# Instructor: Li Zeng (lizeng@uw.edu)\n",
    "\n",
    "\n",
    "Learning Objectives:\n",
    "\n",
    "By the end of the lab, you will be able to:\n",
    "1. Report missing values and deal with them.\n",
    "2. Convert one datatype to another\n",
    "3. Detect outliers and deal with them\n",
    "4. Get clean text and extract required information\n",
    "5. Use Regular Expressions"
   ]
  },
  {
   "cell_type": "markdown",
   "metadata": {},
   "source": [
    "### Import Data"
   ]
  },
  {
   "cell_type": "code",
   "execution_count": 1,
   "metadata": {},
   "outputs": [],
   "source": [
    "import pandas as pd\n",
    "import numpy as np\n",
    "import matplotlib.pyplot as plt\n",
    "%matplotlib inline\n",
    "import re"
   ]
  },
  {
   "cell_type": "code",
   "execution_count": 2,
   "metadata": {},
   "outputs": [],
   "source": [
    "# Read from csv file\n",
    "original_strava_df = pd.read_csv('strava_activity.csv')\n",
    "# Let's make a copy of the original strava df and make sure we don't overwrite the original copy\n",
    "strava_df = original_strava_df.copy()"
   ]
  },
  {
   "cell_type": "markdown",
   "metadata": {},
   "source": [
    "### What does the data look like?"
   ]
  },
  {
   "cell_type": "code",
   "execution_count": 3,
   "metadata": {},
   "outputs": [
    {
     "data": {
      "text/plain": [
       "(8093, 53)"
      ]
     },
     "execution_count": 3,
     "metadata": {},
     "output_type": "execute_result"
    }
   ],
   "source": [
    "# What is the size of this dataset?\n",
    "strava_df.shape"
   ]
  },
  {
   "cell_type": "code",
   "execution_count": 4,
   "metadata": {},
   "outputs": [
    {
     "data": {
      "text/html": [
       "<div>\n",
       "<style scoped>\n",
       "    .dataframe tbody tr th:only-of-type {\n",
       "        vertical-align: middle;\n",
       "    }\n",
       "\n",
       "    .dataframe tbody tr th {\n",
       "        vertical-align: top;\n",
       "    }\n",
       "\n",
       "    .dataframe thead th {\n",
       "        text-align: right;\n",
       "    }\n",
       "</style>\n",
       "<table border=\"1\" class=\"dataframe\">\n",
       "  <thead>\n",
       "    <tr style=\"text-align: right;\">\n",
       "      <th></th>\n",
       "      <th>achievement_count</th>\n",
       "      <th>athlete.badge_type_id</th>\n",
       "      <th>athlete.city</th>\n",
       "      <th>athlete.country</th>\n",
       "      <th>athlete.premium</th>\n",
       "      <th>athlete.resource_state</th>\n",
       "      <th>athlete.sex</th>\n",
       "      <th>athlete.state</th>\n",
       "      <th>athlete_count</th>\n",
       "      <th>average_cadence</th>\n",
       "      <th>...</th>\n",
       "      <th>start_latlng</th>\n",
       "      <th>start_longitude</th>\n",
       "      <th>suffer_score</th>\n",
       "      <th>timezone</th>\n",
       "      <th>total_elevation_gain</th>\n",
       "      <th>total_photo_count</th>\n",
       "      <th>trainer</th>\n",
       "      <th>type</th>\n",
       "      <th>weighted_average_watts</th>\n",
       "      <th>workout_type</th>\n",
       "    </tr>\n",
       "  </thead>\n",
       "  <tbody>\n",
       "    <tr>\n",
       "      <th>0</th>\n",
       "      <td>6</td>\n",
       "      <td>0</td>\n",
       "      <td>Quito</td>\n",
       "      <td>Ecuador</td>\n",
       "      <td>0</td>\n",
       "      <td>2</td>\n",
       "      <td>F</td>\n",
       "      <td>Pichincha</td>\n",
       "      <td>3</td>\n",
       "      <td>NaN</td>\n",
       "      <td>...</td>\n",
       "      <td>[-0.17 -78.49]</td>\n",
       "      <td>-78.49</td>\n",
       "      <td>NaN</td>\n",
       "      <td>(GMT-05:00) America/Guayaquil</td>\n",
       "      <td>476.3</td>\n",
       "      <td>0</td>\n",
       "      <td>0</td>\n",
       "      <td>Ride</td>\n",
       "      <td>NaN</td>\n",
       "      <td>NaN</td>\n",
       "    </tr>\n",
       "    <tr>\n",
       "      <th>1</th>\n",
       "      <td>0</td>\n",
       "      <td>0</td>\n",
       "      <td>Oisterwijk</td>\n",
       "      <td>The Netherlands</td>\n",
       "      <td>0</td>\n",
       "      <td>2</td>\n",
       "      <td>M</td>\n",
       "      <td>NB</td>\n",
       "      <td>1</td>\n",
       "      <td>NaN</td>\n",
       "      <td>...</td>\n",
       "      <td>[38.68 0.09]</td>\n",
       "      <td>0.09</td>\n",
       "      <td>NaN</td>\n",
       "      <td>(GMT+01:00) Europe/Madrid</td>\n",
       "      <td>456.9</td>\n",
       "      <td>0</td>\n",
       "      <td>0</td>\n",
       "      <td>Ride</td>\n",
       "      <td>NaN</td>\n",
       "      <td>0.0</td>\n",
       "    </tr>\n",
       "    <tr>\n",
       "      <th>2</th>\n",
       "      <td>8</td>\n",
       "      <td>0</td>\n",
       "      <td>Ypsilanti</td>\n",
       "      <td>United States</td>\n",
       "      <td>0</td>\n",
       "      <td>2</td>\n",
       "      <td>M</td>\n",
       "      <td>MI</td>\n",
       "      <td>2</td>\n",
       "      <td>NaN</td>\n",
       "      <td>...</td>\n",
       "      <td>[42.42 -83.96]</td>\n",
       "      <td>-83.96</td>\n",
       "      <td>NaN</td>\n",
       "      <td>(GMT-05:00) America/Detroit</td>\n",
       "      <td>292.2</td>\n",
       "      <td>0</td>\n",
       "      <td>0</td>\n",
       "      <td>Ride</td>\n",
       "      <td>NaN</td>\n",
       "      <td>NaN</td>\n",
       "    </tr>\n",
       "    <tr>\n",
       "      <th>3</th>\n",
       "      <td>11</td>\n",
       "      <td>1</td>\n",
       "      <td>Harrogate</td>\n",
       "      <td>United Kingdom</td>\n",
       "      <td>1</td>\n",
       "      <td>2</td>\n",
       "      <td>F</td>\n",
       "      <td>England</td>\n",
       "      <td>2</td>\n",
       "      <td>NaN</td>\n",
       "      <td>...</td>\n",
       "      <td>[53.93 -1.82]</td>\n",
       "      <td>-1.82</td>\n",
       "      <td>NaN</td>\n",
       "      <td>(GMT+00:00) Europe/London</td>\n",
       "      <td>1273.3</td>\n",
       "      <td>0</td>\n",
       "      <td>0</td>\n",
       "      <td>Ride</td>\n",
       "      <td>NaN</td>\n",
       "      <td>0.0</td>\n",
       "    </tr>\n",
       "    <tr>\n",
       "      <th>4</th>\n",
       "      <td>0</td>\n",
       "      <td>0</td>\n",
       "      <td>Alamo</td>\n",
       "      <td>United States</td>\n",
       "      <td>0</td>\n",
       "      <td>2</td>\n",
       "      <td>F</td>\n",
       "      <td>CA</td>\n",
       "      <td>1</td>\n",
       "      <td>NaN</td>\n",
       "      <td>...</td>\n",
       "      <td>[37.86 -121.97]</td>\n",
       "      <td>-121.97</td>\n",
       "      <td>NaN</td>\n",
       "      <td>(GMT-08:00) America/Los_Angeles</td>\n",
       "      <td>166.6</td>\n",
       "      <td>0</td>\n",
       "      <td>0</td>\n",
       "      <td>Hike</td>\n",
       "      <td>NaN</td>\n",
       "      <td>NaN</td>\n",
       "    </tr>\n",
       "  </tbody>\n",
       "</table>\n",
       "<p>5 rows × 53 columns</p>\n",
       "</div>"
      ],
      "text/plain": [
       "   achievement_count  athlete.badge_type_id athlete.city  athlete.country  \\\n",
       "0                  6                      0        Quito          Ecuador   \n",
       "1                  0                      0   Oisterwijk  The Netherlands   \n",
       "2                  8                      0    Ypsilanti    United States   \n",
       "3                 11                      1    Harrogate   United Kingdom   \n",
       "4                  0                      0        Alamo    United States   \n",
       "\n",
       "   athlete.premium  athlete.resource_state athlete.sex athlete.state  \\\n",
       "0                0                       2           F     Pichincha   \n",
       "1                0                       2           M            NB   \n",
       "2                0                       2           M            MI   \n",
       "3                1                       2           F       England   \n",
       "4                0                       2           F            CA   \n",
       "\n",
       "   athlete_count  average_cadence      ...          start_latlng  \\\n",
       "0              3              NaN      ...        [-0.17 -78.49]   \n",
       "1              1              NaN      ...          [38.68 0.09]   \n",
       "2              2              NaN      ...        [42.42 -83.96]   \n",
       "3              2              NaN      ...         [53.93 -1.82]   \n",
       "4              1              NaN      ...       [37.86 -121.97]   \n",
       "\n",
       "   start_longitude  suffer_score                         timezone  \\\n",
       "0           -78.49           NaN    (GMT-05:00) America/Guayaquil   \n",
       "1             0.09           NaN        (GMT+01:00) Europe/Madrid   \n",
       "2           -83.96           NaN      (GMT-05:00) America/Detroit   \n",
       "3            -1.82           NaN        (GMT+00:00) Europe/London   \n",
       "4          -121.97           NaN  (GMT-08:00) America/Los_Angeles   \n",
       "\n",
       "   total_elevation_gain  total_photo_count  trainer  type  \\\n",
       "0                 476.3                  0        0  Ride   \n",
       "1                 456.9                  0        0  Ride   \n",
       "2                 292.2                  0        0  Ride   \n",
       "3                1273.3                  0        0  Ride   \n",
       "4                 166.6                  0        0  Hike   \n",
       "\n",
       "   weighted_average_watts  workout_type  \n",
       "0                     NaN           NaN  \n",
       "1                     NaN           0.0  \n",
       "2                     NaN           NaN  \n",
       "3                     NaN           0.0  \n",
       "4                     NaN           NaN  \n",
       "\n",
       "[5 rows x 53 columns]"
      ]
     },
     "execution_count": 4,
     "metadata": {},
     "output_type": "execute_result"
    }
   ],
   "source": [
    "# A quick look at the raw data\n",
    "strava_df.head()"
   ]
  },
  {
   "cell_type": "code",
   "execution_count": 5,
   "metadata": {},
   "outputs": [
    {
     "data": {
      "text/plain": [
       "achievement_count           int64\n",
       "athlete.badge_type_id       int64\n",
       "athlete.city               object\n",
       "athlete.country            object\n",
       "athlete.premium             int64\n",
       "athlete.resource_state      int64\n",
       "athlete.sex                object\n",
       "athlete.state              object\n",
       "athlete_count               int64\n",
       "average_cadence           float64\n",
       "average_heartrate         float64\n",
       "average_speed             float64\n",
       "average_temp              float64\n",
       "average_watts             float64\n",
       "comment_count               int64\n",
       "commute                     int64\n",
       "device_watts              float64\n",
       "distance                  float64\n",
       "elapsed_time                int64\n",
       "elev_high                 float64\n",
       "elev_low                  float64\n",
       "end_latlng                 object\n",
       "flagged                     int64\n",
       "gear_id                    object\n",
       "has_heartrate             float64\n",
       "has_kudoed                  int64\n",
       "kilojoules                float64\n",
       "kudos_count                 int64\n",
       "location_city              object\n",
       "location_country           object\n",
       "location_state             object\n",
       "manual                      int64\n",
       "max_heartrate             float64\n",
       "max_speed                 float64\n",
       "max_watts                 float64\n",
       "moving_time                 int64\n",
       "name                       object\n",
       "photo_count                 int64\n",
       "private                     int64\n",
       "resource_state              int64\n",
       "start_date                 object\n",
       "start_date_local           object\n",
       "start_latitude            float64\n",
       "start_latlng               object\n",
       "start_longitude           float64\n",
       "suffer_score              float64\n",
       "timezone                   object\n",
       "total_elevation_gain      float64\n",
       "total_photo_count           int64\n",
       "trainer                     int64\n",
       "type                       object\n",
       "weighted_average_watts    float64\n",
       "workout_type              float64\n",
       "dtype: object"
      ]
     },
     "execution_count": 5,
     "metadata": {},
     "output_type": "execute_result"
    }
   ],
   "source": [
    "# Examine the type of each variable\n",
    "strava_df.dtypes"
   ]
  },
  {
   "cell_type": "code",
   "execution_count": 6,
   "metadata": {},
   "outputs": [
    {
     "data": {
      "text/html": [
       "<div>\n",
       "<style scoped>\n",
       "    .dataframe tbody tr th:only-of-type {\n",
       "        vertical-align: middle;\n",
       "    }\n",
       "\n",
       "    .dataframe tbody tr th {\n",
       "        vertical-align: top;\n",
       "    }\n",
       "\n",
       "    .dataframe thead th {\n",
       "        text-align: right;\n",
       "    }\n",
       "</style>\n",
       "<table border=\"1\" class=\"dataframe\">\n",
       "  <thead>\n",
       "    <tr style=\"text-align: right;\">\n",
       "      <th></th>\n",
       "      <th>achievement_count</th>\n",
       "      <th>athlete.badge_type_id</th>\n",
       "      <th>athlete.premium</th>\n",
       "      <th>athlete.resource_state</th>\n",
       "      <th>athlete_count</th>\n",
       "      <th>average_cadence</th>\n",
       "      <th>average_heartrate</th>\n",
       "      <th>average_speed</th>\n",
       "      <th>average_temp</th>\n",
       "      <th>average_watts</th>\n",
       "      <th>...</th>\n",
       "      <th>private</th>\n",
       "      <th>resource_state</th>\n",
       "      <th>start_latitude</th>\n",
       "      <th>start_longitude</th>\n",
       "      <th>suffer_score</th>\n",
       "      <th>total_elevation_gain</th>\n",
       "      <th>total_photo_count</th>\n",
       "      <th>trainer</th>\n",
       "      <th>weighted_average_watts</th>\n",
       "      <th>workout_type</th>\n",
       "    </tr>\n",
       "  </thead>\n",
       "  <tbody>\n",
       "    <tr>\n",
       "      <th>count</th>\n",
       "      <td>8093.000000</td>\n",
       "      <td>8093.000000</td>\n",
       "      <td>8093.000000</td>\n",
       "      <td>8093.0</td>\n",
       "      <td>8093.000000</td>\n",
       "      <td>1666.000000</td>\n",
       "      <td>1929.000000</td>\n",
       "      <td>8093.000000</td>\n",
       "      <td>1528.000000</td>\n",
       "      <td>3884.000000</td>\n",
       "      <td>...</td>\n",
       "      <td>8093.0</td>\n",
       "      <td>8093.0</td>\n",
       "      <td>7432.000000</td>\n",
       "      <td>7432.000000</td>\n",
       "      <td>682.000000</td>\n",
       "      <td>8093.000000</td>\n",
       "      <td>8093.000000</td>\n",
       "      <td>8093.000000</td>\n",
       "      <td>309.000000</td>\n",
       "      <td>3486.000000</td>\n",
       "    </tr>\n",
       "    <tr>\n",
       "      <th>mean</th>\n",
       "      <td>3.841715</td>\n",
       "      <td>0.207093</td>\n",
       "      <td>0.203262</td>\n",
       "      <td>2.0</td>\n",
       "      <td>2.027555</td>\n",
       "      <td>77.380852</td>\n",
       "      <td>138.369311</td>\n",
       "      <td>4.776164</td>\n",
       "      <td>16.852094</td>\n",
       "      <td>129.217817</td>\n",
       "      <td>...</td>\n",
       "      <td>0.0</td>\n",
       "      <td>2.0</td>\n",
       "      <td>32.468071</td>\n",
       "      <td>-15.664773</td>\n",
       "      <td>71.890029</td>\n",
       "      <td>225.484765</td>\n",
       "      <td>0.076980</td>\n",
       "      <td>0.043989</td>\n",
       "      <td>182.323625</td>\n",
       "      <td>1.216007</td>\n",
       "    </tr>\n",
       "    <tr>\n",
       "      <th>std</th>\n",
       "      <td>8.710141</td>\n",
       "      <td>0.421686</td>\n",
       "      <td>0.402451</td>\n",
       "      <td>0.0</td>\n",
       "      <td>8.495287</td>\n",
       "      <td>16.753410</td>\n",
       "      <td>23.334950</td>\n",
       "      <td>23.155401</td>\n",
       "      <td>7.799240</td>\n",
       "      <td>54.808192</td>\n",
       "      <td>...</td>\n",
       "      <td>0.0</td>\n",
       "      <td>0.0</td>\n",
       "      <td>28.494918</td>\n",
       "      <td>77.450225</td>\n",
       "      <td>66.407220</td>\n",
       "      <td>645.911446</td>\n",
       "      <td>0.464648</td>\n",
       "      <td>0.205082</td>\n",
       "      <td>51.676492</td>\n",
       "      <td>3.104601</td>\n",
       "    </tr>\n",
       "    <tr>\n",
       "      <th>min</th>\n",
       "      <td>0.000000</td>\n",
       "      <td>0.000000</td>\n",
       "      <td>0.000000</td>\n",
       "      <td>2.0</td>\n",
       "      <td>1.000000</td>\n",
       "      <td>0.000000</td>\n",
       "      <td>0.000000</td>\n",
       "      <td>0.000000</td>\n",
       "      <td>-23.000000</td>\n",
       "      <td>0.000000</td>\n",
       "      <td>...</td>\n",
       "      <td>0.0</td>\n",
       "      <td>2.0</td>\n",
       "      <td>-46.400000</td>\n",
       "      <td>-158.060000</td>\n",
       "      <td>0.000000</td>\n",
       "      <td>0.000000</td>\n",
       "      <td>0.000000</td>\n",
       "      <td>0.000000</td>\n",
       "      <td>43.000000</td>\n",
       "      <td>0.000000</td>\n",
       "    </tr>\n",
       "    <tr>\n",
       "      <th>25%</th>\n",
       "      <td>0.000000</td>\n",
       "      <td>0.000000</td>\n",
       "      <td>0.000000</td>\n",
       "      <td>2.0</td>\n",
       "      <td>1.000000</td>\n",
       "      <td>73.300000</td>\n",
       "      <td>128.000000</td>\n",
       "      <td>2.647000</td>\n",
       "      <td>11.000000</td>\n",
       "      <td>92.200000</td>\n",
       "      <td>...</td>\n",
       "      <td>0.0</td>\n",
       "      <td>2.0</td>\n",
       "      <td>33.480000</td>\n",
       "      <td>-80.675000</td>\n",
       "      <td>30.000000</td>\n",
       "      <td>10.700000</td>\n",
       "      <td>0.000000</td>\n",
       "      <td>0.000000</td>\n",
       "      <td>148.000000</td>\n",
       "      <td>0.000000</td>\n",
       "    </tr>\n",
       "    <tr>\n",
       "      <th>50%</th>\n",
       "      <td>1.000000</td>\n",
       "      <td>0.000000</td>\n",
       "      <td>0.000000</td>\n",
       "      <td>2.0</td>\n",
       "      <td>1.000000</td>\n",
       "      <td>80.700000</td>\n",
       "      <td>141.700000</td>\n",
       "      <td>3.790000</td>\n",
       "      <td>17.000000</td>\n",
       "      <td>126.500000</td>\n",
       "      <td>...</td>\n",
       "      <td>0.0</td>\n",
       "      <td>2.0</td>\n",
       "      <td>42.350000</td>\n",
       "      <td>-2.160000</td>\n",
       "      <td>56.000000</td>\n",
       "      <td>63.700000</td>\n",
       "      <td>0.000000</td>\n",
       "      <td>0.000000</td>\n",
       "      <td>179.000000</td>\n",
       "      <td>0.000000</td>\n",
       "    </tr>\n",
       "    <tr>\n",
       "      <th>75%</th>\n",
       "      <td>4.000000</td>\n",
       "      <td>0.000000</td>\n",
       "      <td>0.000000</td>\n",
       "      <td>2.0</td>\n",
       "      <td>1.000000</td>\n",
       "      <td>85.900000</td>\n",
       "      <td>152.000000</td>\n",
       "      <td>6.379000</td>\n",
       "      <td>22.000000</td>\n",
       "      <td>161.125000</td>\n",
       "      <td>...</td>\n",
       "      <td>0.0</td>\n",
       "      <td>2.0</td>\n",
       "      <td>51.470000</td>\n",
       "      <td>7.705000</td>\n",
       "      <td>91.000000</td>\n",
       "      <td>246.600000</td>\n",
       "      <td>0.000000</td>\n",
       "      <td>0.000000</td>\n",
       "      <td>215.000000</td>\n",
       "      <td>0.000000</td>\n",
       "    </tr>\n",
       "    <tr>\n",
       "      <th>max</th>\n",
       "      <td>135.000000</td>\n",
       "      <td>4.000000</td>\n",
       "      <td>1.000000</td>\n",
       "      <td>2.0</td>\n",
       "      <td>424.000000</td>\n",
       "      <td>210.300000</td>\n",
       "      <td>199.200000</td>\n",
       "      <td>1888.900000</td>\n",
       "      <td>41.000000</td>\n",
       "      <td>506.600000</td>\n",
       "      <td>...</td>\n",
       "      <td>0.0</td>\n",
       "      <td>2.0</td>\n",
       "      <td>69.960000</td>\n",
       "      <td>176.390000</td>\n",
       "      <td>697.000000</td>\n",
       "      <td>19803.000000</td>\n",
       "      <td>11.000000</td>\n",
       "      <td>1.000000</td>\n",
       "      <td>330.000000</td>\n",
       "      <td>12.000000</td>\n",
       "    </tr>\n",
       "  </tbody>\n",
       "</table>\n",
       "<p>8 rows × 38 columns</p>\n",
       "</div>"
      ],
      "text/plain": [
       "       achievement_count  athlete.badge_type_id  athlete.premium  \\\n",
       "count        8093.000000            8093.000000      8093.000000   \n",
       "mean            3.841715               0.207093         0.203262   \n",
       "std             8.710141               0.421686         0.402451   \n",
       "min             0.000000               0.000000         0.000000   \n",
       "25%             0.000000               0.000000         0.000000   \n",
       "50%             1.000000               0.000000         0.000000   \n",
       "75%             4.000000               0.000000         0.000000   \n",
       "max           135.000000               4.000000         1.000000   \n",
       "\n",
       "       athlete.resource_state  athlete_count  average_cadence  \\\n",
       "count                  8093.0    8093.000000      1666.000000   \n",
       "mean                      2.0       2.027555        77.380852   \n",
       "std                       0.0       8.495287        16.753410   \n",
       "min                       2.0       1.000000         0.000000   \n",
       "25%                       2.0       1.000000        73.300000   \n",
       "50%                       2.0       1.000000        80.700000   \n",
       "75%                       2.0       1.000000        85.900000   \n",
       "max                       2.0     424.000000       210.300000   \n",
       "\n",
       "       average_heartrate  average_speed  average_temp  average_watts  \\\n",
       "count        1929.000000    8093.000000   1528.000000    3884.000000   \n",
       "mean          138.369311       4.776164     16.852094     129.217817   \n",
       "std            23.334950      23.155401      7.799240      54.808192   \n",
       "min             0.000000       0.000000    -23.000000       0.000000   \n",
       "25%           128.000000       2.647000     11.000000      92.200000   \n",
       "50%           141.700000       3.790000     17.000000     126.500000   \n",
       "75%           152.000000       6.379000     22.000000     161.125000   \n",
       "max           199.200000    1888.900000     41.000000     506.600000   \n",
       "\n",
       "           ...       private  resource_state  start_latitude  start_longitude  \\\n",
       "count      ...        8093.0          8093.0     7432.000000      7432.000000   \n",
       "mean       ...           0.0             2.0       32.468071       -15.664773   \n",
       "std        ...           0.0             0.0       28.494918        77.450225   \n",
       "min        ...           0.0             2.0      -46.400000      -158.060000   \n",
       "25%        ...           0.0             2.0       33.480000       -80.675000   \n",
       "50%        ...           0.0             2.0       42.350000        -2.160000   \n",
       "75%        ...           0.0             2.0       51.470000         7.705000   \n",
       "max        ...           0.0             2.0       69.960000       176.390000   \n",
       "\n",
       "       suffer_score  total_elevation_gain  total_photo_count      trainer  \\\n",
       "count    682.000000           8093.000000        8093.000000  8093.000000   \n",
       "mean      71.890029            225.484765           0.076980     0.043989   \n",
       "std       66.407220            645.911446           0.464648     0.205082   \n",
       "min        0.000000              0.000000           0.000000     0.000000   \n",
       "25%       30.000000             10.700000           0.000000     0.000000   \n",
       "50%       56.000000             63.700000           0.000000     0.000000   \n",
       "75%       91.000000            246.600000           0.000000     0.000000   \n",
       "max      697.000000          19803.000000          11.000000     1.000000   \n",
       "\n",
       "       weighted_average_watts  workout_type  \n",
       "count              309.000000   3486.000000  \n",
       "mean               182.323625      1.216007  \n",
       "std                 51.676492      3.104601  \n",
       "min                 43.000000      0.000000  \n",
       "25%                148.000000      0.000000  \n",
       "50%                179.000000      0.000000  \n",
       "75%                215.000000      0.000000  \n",
       "max                330.000000     12.000000  \n",
       "\n",
       "[8 rows x 38 columns]"
      ]
     },
     "execution_count": 6,
     "metadata": {},
     "output_type": "execute_result"
    }
   ],
   "source": [
    "# Check descriptive statistics of each column variable\n",
    "strava_df.describe()"
   ]
  },
  {
   "cell_type": "markdown",
   "metadata": {},
   "source": [
    "### Deal with Missing Values"
   ]
  },
  {
   "cell_type": "code",
   "execution_count": 7,
   "metadata": {},
   "outputs": [
    {
     "data": {
      "text/plain": [
       "M      4084\n",
       "F      3824\n",
       "NaN     185\n",
       "Name: athlete.sex, dtype: int64"
      ]
     },
     "execution_count": 7,
     "metadata": {},
     "output_type": "execute_result"
    }
   ],
   "source": [
    "# You can detect how distinct values for a variable - set dropna = False to include missing value\n",
    "strava_df['athlete.sex'].value_counts(dropna = False)"
   ]
  },
  {
   "cell_type": "code",
   "execution_count": 9,
   "metadata": {},
   "outputs": [],
   "source": [
    "# remove missing values\n",
    "# when inplace = True, do operation inplace and return None\n",
    "strava_df['athlete.sex'].dropna(axis=0, inplace=True)"
   ]
  },
  {
   "cell_type": "code",
   "execution_count": 10,
   "metadata": {},
   "outputs": [
    {
     "data": {
      "text/plain": [
       "M    4084\n",
       "F    3824\n",
       "Name: athlete.sex, dtype: int64"
      ]
     },
     "execution_count": 10,
     "metadata": {},
     "output_type": "execute_result"
    }
   ],
   "source": [
    "# check again for missing value\n",
    "strava_df['athlete.sex'].value_counts(dropna = False)"
   ]
  },
  {
   "cell_type": "code",
   "execution_count": 11,
   "metadata": {},
   "outputs": [
    {
     "data": {
      "text/plain": [
       "7411"
      ]
     },
     "execution_count": 11,
     "metadata": {},
     "output_type": "execute_result"
    }
   ],
   "source": [
    "# Alternatively, you can just count the number of missing values. Especially when you deal with numeric variables\n",
    "pd.isnull(strava_df['suffer_score']).sum()"
   ]
  },
  {
   "cell_type": "code",
   "execution_count": 12,
   "metadata": {},
   "outputs": [
    {
     "data": {
      "text/plain": [
       "10    55.0\n",
       "11     NaN\n",
       "12     NaN\n",
       "13     NaN\n",
       "14     NaN\n",
       "15     NaN\n",
       "16     NaN\n",
       "17     NaN\n",
       "18     NaN\n",
       "19     NaN\n",
       "Name: suffer_score, dtype: float64"
      ]
     },
     "execution_count": 12,
     "metadata": {},
     "output_type": "execute_result"
    }
   ],
   "source": [
    "# let's take a look at a small extract of this variable\n",
    "strava_df['suffer_score'].iloc[10:20]"
   ]
  },
  {
   "cell_type": "code",
   "execution_count": 13,
   "metadata": {},
   "outputs": [
    {
     "name": "stdout",
     "output_type": "stream",
     "text": [
      "10    55.0\n",
      "11    56.0\n",
      "12    56.0\n",
      "13    56.0\n",
      "14    56.0\n",
      "15    56.0\n",
      "16    56.0\n",
      "17    56.0\n",
      "18    56.0\n",
      "19    56.0\n",
      "Name: suffer_score, dtype: float64\n"
     ]
    }
   ],
   "source": [
    "# instead of removing missing values, you can fill missing values - data imputation\n",
    "# for example, we can use median to replace missing values\n",
    "value_to_fill = strava_df['suffer_score'].median() \n",
    "strava_df['suffer_score'].fillna(value = value_to_fill, axis = 0, inplace = True)\n",
    "# Let's look at the data extract again\n",
    "print(strava_df['suffer_score'].iloc[10:20])"
   ]
  },
  {
   "cell_type": "markdown",
   "metadata": {},
   "source": [
    "### Correct Data Type"
   ]
  },
  {
   "cell_type": "code",
   "execution_count": 14,
   "metadata": {},
   "outputs": [
    {
     "data": {
      "text/plain": [
       "0    2014-08-27T20:55:26Z\n",
       "1    2015-08-04T07:25:02Z\n",
       "2    2015-05-17T18:38:04Z\n",
       "3    2014-05-26T08:20:53Z\n",
       "4    2013-12-19T17:05:16Z\n",
       "Name: start_date, dtype: object"
      ]
     },
     "execution_count": 14,
     "metadata": {},
     "output_type": "execute_result"
    }
   ],
   "source": [
    "# Examine the data type of the variable \"start_date\"\n",
    "strava_df['start_date'].head()"
   ]
  },
  {
   "cell_type": "markdown",
   "metadata": {},
   "source": [
    "We can see the start_date is of type object"
   ]
  },
  {
   "cell_type": "code",
   "execution_count": 15,
   "metadata": {},
   "outputs": [],
   "source": [
    "# Convert the object type to date \n",
    "strava_df['start_date'] = pd.to_datetime(strava_df['start_date'])"
   ]
  },
  {
   "cell_type": "code",
   "execution_count": 16,
   "metadata": {},
   "outputs": [
    {
     "data": {
      "text/plain": [
       "0   2014-08-27 20:55:26\n",
       "1   2015-08-04 07:25:02\n",
       "2   2015-05-17 18:38:04\n",
       "3   2014-05-26 08:20:53\n",
       "4   2013-12-19 17:05:16\n",
       "Name: start_date, dtype: datetime64[ns]"
      ]
     },
     "execution_count": 16,
     "metadata": {},
     "output_type": "execute_result"
    }
   ],
   "source": [
    "# Examine the result\n",
    "strava_df['start_date'].head()"
   ]
  },
  {
   "cell_type": "markdown",
   "metadata": {},
   "source": [
    "The start date is now converted to datetime"
   ]
  },
  {
   "cell_type": "markdown",
   "metadata": {},
   "source": [
    "### Detect Outliers"
   ]
  },
  {
   "cell_type": "code",
   "execution_count": 17,
   "metadata": {},
   "outputs": [
    {
     "data": {
      "image/png": "[encoded data removed]",
      "text/plain": [
       "<matplotlib.figure.Figure at 0x23b225a75f8>"
      ]
     },
     "metadata": {},
     "output_type": "display_data"
    }
   ],
   "source": [
    "# Detecting Outliers using visualization\n",
    "plt.boxplot(strava_df['distance'])\n",
    "plt.show()"
   ]
  },
  {
   "cell_type": "code",
   "execution_count": 18,
   "metadata": {},
   "outputs": [
    {
     "name": "stdout",
     "output_type": "stream",
     "text": [
      "23904.6\n"
     ]
    }
   ],
   "source": [
    "# Finding Interquartile range -  the difference between 75th and 25th quantiles\n",
    "# lower quantile\n",
    "Q1 = strava_df['distance'].quantile(0.25)\n",
    "# upper quantile\n",
    "Q3 = strava_df['distance'].quantile(0.75)\n",
    "IQR = Q3 - Q1\n",
    "print(IQR)"
   ]
  },
  {
   "cell_type": "code",
   "execution_count": 19,
   "metadata": {},
   "outputs": [
    {
     "data": {
      "text/plain": [
       "(565,)"
      ]
     },
     "execution_count": 19,
     "metadata": {},
     "output_type": "execute_result"
    }
   ],
   "source": [
    "# IQR Rule for Outliers\n",
    "condition = (strava_df['distance'] < (Q1 - 1.5 * IQR)) |(strava_df['distance'] > (Q3 + 1.5 * IQR))\n",
    "outliers = strava_df['distance'][condition]\n",
    "outliers.shape"
   ]
  },
  {
   "cell_type": "code",
   "execution_count": 20,
   "metadata": {},
   "outputs": [
    {
     "data": {
      "text/plain": [
       "0       21580.0\n",
       "1       19092.8\n",
       "2       23023.4\n",
       "4        2739.8\n",
       "5       13056.7\n",
       "6       24438.8\n",
       "7        9447.6\n",
       "8           0.0\n",
       "9        4814.0\n",
       "10      33632.8\n",
       "11      15818.6\n",
       "12      16014.5\n",
       "13       3157.1\n",
       "14      10628.8\n",
       "15      62910.9\n",
       "16       5000.0\n",
       "17      28765.1\n",
       "19      32186.9\n",
       "20      41926.3\n",
       "21      43609.3\n",
       "22      25781.1\n",
       "23       8371.3\n",
       "24      48415.5\n",
       "25       6042.5\n",
       "26      34499.3\n",
       "27      21587.8\n",
       "28      63273.8\n",
       "29      54424.2\n",
       "30      10122.0\n",
       "31       6063.5\n",
       "         ...   \n",
       "8060    22881.0\n",
       "8061     6124.9\n",
       "8063    37085.1\n",
       "8064    56494.4\n",
       "8065    30373.0\n",
       "8066     1786.8\n",
       "8067    15114.6\n",
       "8068    24143.9\n",
       "8070      833.4\n",
       "8071     6041.3\n",
       "8072    38748.2\n",
       "8073    24481.5\n",
       "8074     8011.4\n",
       "8075    22547.9\n",
       "8076    21009.2\n",
       "8077    30143.3\n",
       "8078     6523.1\n",
       "8079     2680.4\n",
       "8080     3366.2\n",
       "8081    54122.9\n",
       "8082    33359.0\n",
       "8084        0.0\n",
       "8085     8155.3\n",
       "8086     3218.7\n",
       "8087     3521.8\n",
       "8088    36105.8\n",
       "8089    15747.0\n",
       "8090    14904.3\n",
       "8091     4638.6\n",
       "8092    38714.9\n",
       "Name: distance, Length: 7528, dtype: float64"
      ]
     },
     "execution_count": 20,
     "metadata": {},
     "output_type": "execute_result"
    }
   ],
   "source": [
    "# You can have a subset without the outlier\n",
    "# But outliers are not errors so I don't recommend that you remove it from the dataset unless there is a good reason\n",
    "strava_df['distance'][~condition]\n",
    "# If you want to drop it\n",
    "#strava_df['distance'].dropna(axis=0, inplace = True)\n",
    "#strava_df.shape"
   ]
  },
  {
   "cell_type": "code",
   "execution_count": 21,
   "metadata": {},
   "outputs": [
    {
     "data": {
      "image/png": "[encoded data removed]",
      "text/plain": [
       "<matplotlib.figure.Figure at 0x23b225a9d68>"
      ]
     },
     "metadata": {},
     "output_type": "display_data"
    }
   ],
   "source": [
    "# to not show outliers in a boxplot - set showfliers = false\n",
    "plt.boxplot(strava_df['distance'], showfliers = False)\n",
    "plt.show()"
   ]
  },
  {
   "cell_type": "markdown",
   "metadata": {},
   "source": [
    "The plot looks better now"
   ]
  },
  {
   "cell_type": "markdown",
   "metadata": {},
   "source": [
    "### Text Cleaning"
   ]
  },
  {
   "cell_type": "code",
   "execution_count": 22,
   "metadata": {},
   "outputs": [
    {
     "data": {
      "text/plain": [
       "0     [-0.17 -78.49]\n",
       "1       [38.68 0.09]\n",
       "2     [42.42 -83.96]\n",
       "3      [53.93 -1.82]\n",
       "4    [37.86 -121.97]\n",
       "Name: end_latlng, dtype: object"
      ]
     },
     "execution_count": 22,
     "metadata": {},
     "output_type": "execute_result"
    }
   ],
   "source": [
    "# Let's take a look at the end latitude/longitude data\n",
    "strava_df['end_latlng'].head()"
   ]
  },
  {
   "cell_type": "markdown",
   "metadata": {},
   "source": [
    "#### Let's start with using strip() for text cleaning"
   ]
  },
  {
   "cell_type": "code",
   "execution_count": 23,
   "metadata": {},
   "outputs": [
    {
     "name": "stdout",
     "output_type": "stream",
     "text": [
      "0     -0.17 -78.49\n",
      "1       38.68 0.09\n",
      "2     42.42 -83.96\n",
      "3      53.93 -1.82\n",
      "4    37.86 -121.97\n",
      "Name: end_latlng, dtype: object\n"
     ]
    }
   ],
   "source": [
    "# Cleaning Text and extracting required information\n",
    "# Extract end point latitude and longitude in separate columns\n",
    "# First, let's get rid of the brackets\n",
    "processed_latlng = strava_df['end_latlng'].str.strip('[').str.strip(']')\n",
    "print(processed_latlng.head())"
   ]
  },
  {
   "cell_type": "code",
   "execution_count": 24,
   "metadata": {},
   "outputs": [],
   "source": [
    "# The data is in a text format \n",
    "# We want to seperate lat and lng just as how the start lat/lng are stored in this dataset\n",
    "end_lat, end_lng = processed_latlng.str.split(' ').str"
   ]
  },
  {
   "cell_type": "code",
   "execution_count": 25,
   "metadata": {},
   "outputs": [
    {
     "name": "stdout",
     "output_type": "stream",
     "text": [
      "0    -0.17\n",
      "1    38.68\n",
      "2    42.42\n",
      "3    53.93\n",
      "4    37.86\n",
      "Name: end_lat, dtype: float64\n"
     ]
    }
   ],
   "source": [
    "strava_df['end_lat'] = pd.to_numeric(end_lat)\n",
    "print(strava_df['end_lat'].head())"
   ]
  },
  {
   "cell_type": "code",
   "execution_count": 26,
   "metadata": {},
   "outputs": [
    {
     "name": "stdout",
     "output_type": "stream",
     "text": [
      "0    -78.49\n",
      "1      0.09\n",
      "2    -83.96\n",
      "3     -1.82\n",
      "4   -121.97\n",
      "Name: end_lng, dtype: float64\n"
     ]
    }
   ],
   "source": [
    "strava_df['end_lng'] = pd.to_numeric(end_lng)\n",
    "print(strava_df['end_lng'].head())"
   ]
  },
  {
   "cell_type": "markdown",
   "metadata": {},
   "source": [
    "#### Now, let's try to clean the text using regular expressions!"
   ]
  },
  {
   "cell_type": "code",
   "execution_count": 27,
   "metadata": {},
   "outputs": [],
   "source": [
    "def regex_func(x):\n",
    "    if x == x:\n",
    "        return re.findall(r\"[\\d\\-\\.]+\", x)\n",
    "    else:\n",
    "        return [np.NaN, np.NaN]"
   ]
  },
  {
   "cell_type": "code",
   "execution_count": 28,
   "metadata": {},
   "outputs": [],
   "source": [
    "end_lat, end_lng = strava_df['end_latlng'].apply(lambda x: regex_func(x)).str"
   ]
  },
  {
   "cell_type": "code",
   "execution_count": 29,
   "metadata": {},
   "outputs": [
    {
     "name": "stdout",
     "output_type": "stream",
     "text": [
      "0    -0.17\n",
      "1    38.68\n",
      "2    42.42\n",
      "3    53.93\n",
      "4    37.86\n",
      "Name: end_lat_2, dtype: float64\n"
     ]
    }
   ],
   "source": [
    "strava_df['end_lat_2'] = pd.to_numeric(end_lat)\n",
    "print(strava_df['end_lat_2'].head())"
   ]
  },
  {
   "cell_type": "code",
   "execution_count": 30,
   "metadata": {},
   "outputs": [
    {
     "name": "stdout",
     "output_type": "stream",
     "text": [
      "0    -78.49\n",
      "1      0.09\n",
      "2    -83.96\n",
      "3     -1.82\n",
      "4   -121.97\n",
      "Name: end_lng_2, dtype: float64\n"
     ]
    }
   ],
   "source": [
    "strava_df['end_lng_2'] = pd.to_numeric(end_lng)\n",
    "print(strava_df['end_lng_2'].head())"
   ]
  },
  {
   "cell_type": "markdown",
   "metadata": {},
   "source": [
    "## Exercise\n",
    "\n",
    "1. Report the number of missing values of countries of athletes.\n",
    "2. Report the outliers of time elapsed. Can you reason why there may be outliers in this column?\n",
    "3. Extract Time Zone without the location name. Eg: extract GMT+01:00 from (GMT+01:00) Europe/Amsterdam"
   ]
  },
  {
   "cell_type": "code",
   "execution_count": 31,
   "metadata": {},
   "outputs": [],
   "source": [
    "# Let's try to do it using regular expressions!\n",
    "def regex_func(x):\n",
    "    if x == x:\n",
    "        return re.search(r\"\\((.*)\\)\", x).group(1)\n",
    "    else:\n",
    "        return np.NaN\n",
    "time_zone = strava_df['timezone'].apply(lambda x: regex_func(x))"
   ]
  },
  {
   "cell_type": "code",
   "execution_count": 33,
   "metadata": {},
   "outputs": [
    {
     "data": {
      "text/plain": [
       "200"
      ]
     },
     "execution_count": 33,
     "metadata": {},
     "output_type": "execute_result"
    }
   ],
   "source": [
    "#Missing values in athlete countries\n",
    "strava_df['athlete.country'].isnull().sum() "
   ]
  },
  {
   "cell_type": "markdown",
   "metadata": {},
   "source": [
    "Number of missing values in Athlete countries is 200 "
   ]
  },
  {
   "cell_type": "code",
   "execution_count": 34,
   "metadata": {},
   "outputs": [
    {
     "data": {
      "image/png": "[encoded data removed]",
      "text/plain": [
       "<matplotlib.figure.Figure at 0x23b22624470>"
      ]
     },
     "metadata": {},
     "output_type": "display_data"
    }
   ],
   "source": [
    "#Outliers in Elapsed time\n",
    "\n",
    "plt.boxplot(strava_df['elapsed_time'])\n",
    "plt.show()"
   ]
  },
  {
   "cell_type": "code",
   "execution_count": 37,
   "metadata": {},
   "outputs": [
    {
     "name": "stdout",
     "output_type": "stream",
     "text": [
      "4648.0\n",
      "3         20117\n",
      "20        14304\n",
      "24        52457\n",
      "34        19935\n",
      "36        37782\n",
      "43        20222\n",
      "56        15511\n",
      "66        18579\n",
      "71       137935\n",
      "106      176919\n",
      "108       15864\n",
      "122       26210\n",
      "125       14674\n",
      "126       17629\n",
      "140       24937\n",
      "153       38618\n",
      "164       14393\n",
      "175       14721\n",
      "181       18938\n",
      "219       39230\n",
      "223       14256\n",
      "241       33554\n",
      "250       25009\n",
      "256     6475149\n",
      "305       15963\n",
      "306       15154\n",
      "311      810885\n",
      "342       18720\n",
      "344       15618\n",
      "359       14476\n",
      "         ...   \n",
      "7633      18260\n",
      "7641      52836\n",
      "7650      19422\n",
      "7658      16608\n",
      "7685      18583\n",
      "7698      34315\n",
      "7704      20178\n",
      "7716      17853\n",
      "7737      13701\n",
      "7743      21640\n",
      "7753      17054\n",
      "7798      37141\n",
      "7834      20557\n",
      "7846      52105\n",
      "7851      62921\n",
      "7858      17529\n",
      "7867      21079\n",
      "7885      17955\n",
      "7896      23721\n",
      "7910      15485\n",
      "7943      14185\n",
      "7944      17397\n",
      "7977      14882\n",
      "8025      15209\n",
      "8043      29372\n",
      "8052      19584\n",
      "8069      15500\n",
      "8081      15132\n",
      "8083      19979\n",
      "8088      21244\n",
      "Name: elapsed_time, Length: 638, dtype: int64\n"
     ]
    }
   ],
   "source": [
    "Q1 = strava_df['elapsed_time'].quantile(0.25)\n",
    "# upper quantile\n",
    "Q3 = strava_df['elapsed_time'].quantile(0.75)\n",
    "IQR = Q3 - Q1\n",
    "print(IQR)\n",
    "\n",
    "condition = (strava_df['elapsed_time'] < (Q1 - 1.5 * IQR)) |(strava_df['elapsed_time'] > (Q3 + 1.5 * IQR))\n",
    "outliers = strava_df['elapsed_time'][condition]\n",
    "print(outliers)"
   ]
  },
  {
   "cell_type": "markdown",
   "metadata": {},
   "source": [
    "Outliers are displayed above. The elapsed time might have outliers, if it was using wrong units or if the person forgot to stop the activity."
   ]
  },
  {
   "cell_type": "code",
   "execution_count": 52,
   "metadata": {},
   "outputs": [
    {
     "name": "stdout",
     "output_type": "stream",
     "text": [
      "Original text:\n",
      " 0      (GMT-05:00) America/Guayaquil\n",
      "1          (GMT+01:00) Europe/Madrid\n",
      "2        (GMT-05:00) America/Detroit\n",
      "3          (GMT+00:00) Europe/London\n",
      "4    (GMT-08:00) America/Los_Angeles\n",
      "Name: timezone, dtype: object\n",
      "\n",
      "\n",
      "Extracting time:\n",
      " 0    (GMT-05:00)\n",
      "1    (GMT+01:00)\n",
      "2    (GMT-05:00)\n",
      "3    (GMT+00:00)\n",
      "4    (GMT-08:00)\n",
      "Name: timezone, dtype: object\n",
      "\n",
      "\n",
      "Printing just text:\n",
      " 0    GMT-05:00\n",
      "1    GMT+01:00\n",
      "2    GMT-05:00\n",
      "3    GMT+00:00\n",
      "4    GMT-08:00\n",
      "Name: timezone, dtype: object\n"
     ]
    }
   ],
   "source": [
    "#Extract Time Zone without the location name. Eg: extract GMT+01:00 from (GMT+01:00) Europe/Amsterdam\n",
    "\n",
    "print(\"Original text:\\n\",strava_df['timezone'].head(5))\n",
    "time_1, country_1 = strava_df['timezone'].str.split(' ').str\n",
    "print(\"\\n\\nExtracting time:\\n\",time_1.head(5))\n",
    "time_2=time_1.str.strip('(').str.strip(')')\n",
    "print(\"\\n\\nPrinting just text:\\n\",time_2.head(5))"
   ]
  },
  {
   "cell_type": "markdown",
   "metadata": {},
   "source": [
    "Timezones without location name is stored in time_2 variable. I have printed the first 5 records for reference above."
   ]
  },
  {
   "cell_type": "code",
   "execution_count": null,
   "metadata": {},
   "outputs": [],
   "source": []
  }
 ],
 "metadata": {
  "kernelspec": {
   "display_name": "Python 3",
   "language": "python",
   "name": "python3"
  },
  "language_info": {
   "codemirror_mode": {
    "name": "ipython",
    "version": 3
   },
   "file_extension": ".py",
   "mimetype": "text/x-python",
   "name": "python",
   "nbconvert_exporter": "python",
   "pygments_lexer": "ipython3",
   "version": "3.6.4"
  }
 },
 "nbformat": 4,
 "nbformat_minor": 2
}
