{
 "cells": [
  {
   "cell_type": "code",
   "execution_count": 1,
   "metadata": {},
   "outputs": [],
   "source": [
    "# IMT 547 SP19 - Python Basics Exercise\n",
    "### Instructor: Li Zeng (lizeng@uw.edu) - Due: April 21, Sunday at 11:59 pm\n",
    "### Name: Nandy Giridharan\n",
    "### Collaborators:"
   ]
  },
  {
   "cell_type": "markdown",
   "metadata": {},
   "source": [
    "### Instructions\n",
    "\n",
    "0. Please complete the lab tutorial which accounts for two points before you work on this exerise.\n",
    "\n",
    "1. Please write down your name and your collaborators (if any).\n",
    "\n",
    "2. In this exercise you will get hands-on experiences in importing data into structured format, summarizing data using descriptive statistics (e,g, sum, average, etc.), manipulating data including indexing, slicing and grouping, as well as visualizing data using a foundamental (but believe me also powerful) matplotlib package.\n",
    "\n",
    "3. The data you will be working with was collected from an activity-tracking platform: Strava. It is a collection of physical activities that Strava users recorded and posted on this platform. For simplicity, this exercise focuses on several selected fields. You can find the data description by reading the Strava API doc, following this link: https://developers.strava.com/docs/reference/#api-models-DetailedActivity\n",
    "\n",
    "4. For each question, please type your codes in a *Code* cell and your written response which summarizes your results in a *Markdown* cell."
   ]
  },
  {
   "cell_type": "code",
   "execution_count": 2,
   "metadata": {},
   "outputs": [],
   "source": [
    "# import packages\n",
    "import numpy as np\n",
    "import pandas as pd\n",
    "import matplotlib.pyplot as plt\n",
    "import datetime\n",
    "%matplotlib inline\n",
    "\n",
    "# you may import other packages if necessary"
   ]
  },
  {
   "cell_type": "markdown",
   "metadata": {},
   "source": [
    "### 1. Data Import and Data Summary"
   ]
  },
  {
   "cell_type": "markdown",
   "metadata": {},
   "source": [
    "**(a) Load the data lab_strava_activity.csv into a pandas dataframe.**"
   ]
  },
  {
   "cell_type": "code",
   "execution_count": 160,
   "metadata": {},
   "outputs": [
    {
     "data": {
      "text/html": [
       "<div>\n",
       "<style scoped>\n",
       "    .dataframe tbody tr th:only-of-type {\n",
       "        vertical-align: middle;\n",
       "    }\n",
       "\n",
       "    .dataframe tbody tr th {\n",
       "        vertical-align: top;\n",
       "    }\n",
       "\n",
       "    .dataframe thead th {\n",
       "        text-align: right;\n",
       "    }\n",
       "</style>\n",
       "<table border=\"1\" class=\"dataframe\">\n",
       "  <thead>\n",
       "    <tr style=\"text-align: right;\">\n",
       "      <th></th>\n",
       "      <th>name</th>\n",
       "      <th>athlete.sex</th>\n",
       "      <th>athlete.country</th>\n",
       "      <th>start_date_local</th>\n",
       "      <th>distance</th>\n",
       "      <th>achievement_count</th>\n",
       "      <th>type</th>\n",
       "      <th>kudos_count</th>\n",
       "    </tr>\n",
       "  </thead>\n",
       "  <tbody>\n",
       "    <tr>\n",
       "      <th>0</th>\n",
       "      <td>Mitro\"\" :)</td>\n",
       "      <td>F</td>\n",
       "      <td>Ecuador</td>\n",
       "      <td>2014-08-27T15:55:26Z</td>\n",
       "      <td>21580.0</td>\n",
       "      <td>6</td>\n",
       "      <td>Ride</td>\n",
       "      <td>0</td>\n",
       "    </tr>\n",
       "    <tr>\n",
       "      <th>1</th>\n",
       "      <td>Ochtendrit</td>\n",
       "      <td>M</td>\n",
       "      <td>The Netherlands</td>\n",
       "      <td>2015-08-04T09:25:02Z</td>\n",
       "      <td>19092.8</td>\n",
       "      <td>0</td>\n",
       "      <td>Ride</td>\n",
       "      <td>0</td>\n",
       "    </tr>\n",
       "    <tr>\n",
       "      <th>2</th>\n",
       "      <td>Enough time for a quick and hot 14</td>\n",
       "      <td>M</td>\n",
       "      <td>United States</td>\n",
       "      <td>2015-05-17T14:38:04Z</td>\n",
       "      <td>23023.4</td>\n",
       "      <td>8</td>\n",
       "      <td>Ride</td>\n",
       "      <td>4</td>\n",
       "    </tr>\n",
       "    <tr>\n",
       "      <th>3</th>\n",
       "      <td>Ilkley Grassington Buckden and back</td>\n",
       "      <td>F</td>\n",
       "      <td>United Kingdom</td>\n",
       "      <td>2014-05-26T09:20:53Z</td>\n",
       "      <td>101702.0</td>\n",
       "      <td>11</td>\n",
       "      <td>Ride</td>\n",
       "      <td>6</td>\n",
       "    </tr>\n",
       "    <tr>\n",
       "      <th>4</th>\n",
       "      <td>Morning Short hike</td>\n",
       "      <td>F</td>\n",
       "      <td>United States</td>\n",
       "      <td>2013-12-19T09:05:16Z</td>\n",
       "      <td>2739.8</td>\n",
       "      <td>0</td>\n",
       "      <td>Hike</td>\n",
       "      <td>0</td>\n",
       "    </tr>\n",
       "  </tbody>\n",
       "</table>\n",
       "</div>"
      ],
      "text/plain": [
       "                                  name athlete.sex  athlete.country  \\\n",
       "0                           Mitro\"\" :)           F          Ecuador   \n",
       "1                           Ochtendrit           M  The Netherlands   \n",
       "2   Enough time for a quick and hot 14           M    United States   \n",
       "3  Ilkley Grassington Buckden and back           F   United Kingdom   \n",
       "4                   Morning Short hike           F    United States   \n",
       "\n",
       "       start_date_local  distance  achievement_count  type  kudos_count  \n",
       "0  2014-08-27T15:55:26Z   21580.0                  6  Ride            0  \n",
       "1  2015-08-04T09:25:02Z   19092.8                  0  Ride            0  \n",
       "2  2015-05-17T14:38:04Z   23023.4                  8  Ride            4  \n",
       "3  2014-05-26T09:20:53Z  101702.0                 11  Ride            6  \n",
       "4  2013-12-19T09:05:16Z    2739.8                  0  Hike            0  "
      ]
     },
     "execution_count": 160,
     "metadata": {},
     "output_type": "execute_result"
    }
   ],
   "source": [
    "ds1 = pd.read_csv('C:/Users/Sakura/Documents/Social Media Analysis/lab_strava_activity.csv')\n",
    "ds1.head(5) #display top 5 rows"
   ]
  },
  {
   "cell_type": "markdown",
   "metadata": {},
   "source": [
    "I have used read_csv to load the file. Second line of code checks whether the data is loaded successfully."
   ]
  },
  {
   "cell_type": "markdown",
   "metadata": {},
   "source": [
    "**(b) It's time to get to know your data! Report the number of rows and columns in the dataset.**"
   ]
  },
  {
   "cell_type": "code",
   "execution_count": 161,
   "metadata": {},
   "outputs": [
    {
     "name": "stdout",
     "output_type": "stream",
     "text": [
      "(8093, 8)\n",
      "Number of rows: 8093\n",
      "Number of columns: 8\n"
     ]
    }
   ],
   "source": [
    "print(ds1.shape)\n",
    "print(\"Number of rows:\", ds1.shape[0])\n",
    "print(\"Number of columns:\", ds1.shape[1])"
   ]
  },
  {
   "cell_type": "markdown",
   "metadata": {},
   "source": [
    "The data has 8093 rows and 8 columns"
   ]
  },
  {
   "cell_type": "markdown",
   "metadata": {},
   "source": [
    "**(c) What variables does this dataset have? Report the variable names along with the data type of each variable.**"
   ]
  },
  {
   "cell_type": "code",
   "execution_count": 162,
   "metadata": {},
   "outputs": [
    {
     "name": "stdout",
     "output_type": "stream",
     "text": [
      "Variable names: \n",
      " Index(['name', 'athlete.sex', 'athlete.country', 'start_date_local',\n",
      "       'distance', 'achievement_count', 'type', 'kudos_count'],\n",
      "      dtype='object')\n",
      "\n",
      "Variable names & Datatype:\n",
      " name                  object\n",
      "athlete.sex           object\n",
      "athlete.country       object\n",
      "start_date_local      object\n",
      "distance             float64\n",
      "achievement_count      int64\n",
      "type                  object\n",
      "kudos_count            int64\n",
      "dtype: object\n"
     ]
    }
   ],
   "source": [
    "print(\"Variable names: \\n\",ds1.columns)\n",
    "print(\"\\nVariable names & Datatype:\\n\",ds1.dtypes)"
   ]
  },
  {
   "cell_type": "markdown",
   "metadata": {},
   "source": [
    "Variable names & data type are displayed above using dtypes "
   ]
  },
  {
   "cell_type": "markdown",
   "metadata": {},
   "source": [
    "### 2. Data Manipulation - Explore Achievement Count by Country"
   ]
  },
  {
   "cell_type": "markdown",
   "metadata": {},
   "source": [
    "**(a) What are the top 3 countries most Strava users are from in this dataset?**"
   ]
  },
  {
   "cell_type": "code",
   "execution_count": 184,
   "metadata": {
    "scrolled": true
   },
   "outputs": [
    {
     "name": "stdout",
     "output_type": "stream",
     "text": [
      "Top 3 countries with most Strava users:\n",
      "\n",
      "     athlete.country  name\n",
      "126   United States  2424\n",
      "125  United Kingdom  1770\n",
      "1         Australia   632\n"
     ]
    }
   ],
   "source": [
    "ds2=ds1.groupby(['athlete.country']).count()['name'].reset_index()\n",
    "ds2_b = ds2.sort_values(by=['name'], ascending=False)\n",
    "print(\"Top 3 countries with most Strava users:\\n\\n\",ds2_b.head(3))"
   ]
  },
  {
   "cell_type": "markdown",
   "metadata": {},
   "source": [
    "US, UK & Australia are top 3 countries"
   ]
  },
  {
   "cell_type": "markdown",
   "metadata": {},
   "source": [
    "**(b) What is the total achievement count of athletes from the United States?**"
   ]
  },
  {
   "cell_type": "code",
   "execution_count": 74,
   "metadata": {},
   "outputs": [
    {
     "name": "stdout",
     "output_type": "stream",
     "text": [
      "athlete.country\n",
      "United States    7257\n",
      "Name: achievement_count, dtype: int64\n"
     ]
    }
   ],
   "source": [
    "print(ds1[ds1['athlete.country']==\"United States\"].groupby(['athlete.country']).sum()['achievement_count'])"
   ]
  },
  {
   "cell_type": "markdown",
   "metadata": {},
   "source": [
    "Total achievement count of athletes from US is 7257\n"
   ]
  },
  {
   "cell_type": "markdown",
   "metadata": {},
   "source": [
    "**(c) What is the average achievement count of male athletes from the United Kingdom? How is it compared to the counterpart females?**"
   ]
  },
  {
   "cell_type": "code",
   "execution_count": 75,
   "metadata": {},
   "outputs": [
    {
     "name": "stdout",
     "output_type": "stream",
     "text": [
      "athlete.country  athlete.sex\n",
      "United Kingdom   F              4.016413\n",
      "                 M              5.997745\n",
      "Name: achievement_count, dtype: float64\n"
     ]
    }
   ],
   "source": [
    "print(ds1[ds1['athlete.country']==\"United Kingdom\"].groupby(['athlete.country','athlete.sex']).mean()['achievement_count'])"
   ]
  },
  {
   "cell_type": "markdown",
   "metadata": {},
   "source": [
    "Average achievement count of Male atheletes is 5.997745 compared to Female's 4.016413. "
   ]
  },
  {
   "cell_type": "markdown",
   "metadata": {},
   "source": [
    "### 3. Data Manipulation - Explore Activity Type"
   ]
  },
  {
   "cell_type": "markdown",
   "metadata": {},
   "source": [
    "**(a) How many different kinds of activities are there in this data set? Report the name and the total number of completed activities for each type.**"
   ]
  },
  {
   "cell_type": "code",
   "execution_count": 124,
   "metadata": {},
   "outputs": [
    {
     "name": "stdout",
     "output_type": "stream",
     "text": [
      "Number of activities in dataset= 22\n",
      "\n",
      " Activity & total number of completed activites:\n",
      " Ride               4512\n",
      "Run                3001\n",
      "Walk                194\n",
      "Swim                178\n",
      "Workout              66\n",
      "Hike                 37\n",
      "VirtualRide          26\n",
      "NordicSki            20\n",
      "WeightTraining       14\n",
      "Yoga                  9\n",
      "AlpineSki             7\n",
      "Crossfit              5\n",
      "BackcountrySki        4\n",
      "IceSkate              4\n",
      "Rowing                3\n",
      "Elliptical            3\n",
      "Snowboard             3\n",
      "Kayaking              3\n",
      "StandUpPaddling       1\n",
      "Snowshoe              1\n",
      "RockClimbing          1\n",
      "EBikeRide             1\n",
      "Name: type, dtype: int64\n"
     ]
    }
   ],
   "source": [
    "x=pd.value_counts(ds1.type)\n",
    "print(\"Number of activity types in dataset=\",x.shape[0])\n",
    "\n",
    "print(\"\\n Activity & total number of completed activites:\\n\",pd.value_counts(ds1.type))\n",
    "#print(ds1.groupby(['type']).count()['name'].reset_index())\n"
   ]
  },
  {
   "cell_type": "markdown",
   "metadata": {},
   "source": [
    "There are 22 activities in the dataset. I have used \"Type\" variable to determine kind of activity(did not use name, as it has lot of junk values)."
   ]
  },
  {
   "cell_type": "markdown",
   "metadata": {},
   "source": [
    "**(b) Which type of activity do most male and female users participate in?**"
   ]
  },
  {
   "cell_type": "code",
   "execution_count": 185,
   "metadata": {},
   "outputs": [
    {
     "name": "stdout",
     "output_type": "stream",
     "text": [
      "Most Male users participate in Ride activity\n",
      "Most Female users participate in Run activity\n",
      "\n",
      "Data for Reference:\n",
      "    athlete.sex             type  name\n",
      "0            F        AlpineSki     3\n",
      "1            F   BackcountrySki     3\n",
      "2            F         Crossfit     1\n",
      "3            F       Elliptical     1\n",
      "4            F             Hike    21\n",
      "5            F         Kayaking     2\n",
      "6            F        NordicSki    12\n",
      "7            F             Ride  1596\n",
      "8            F     RockClimbing     1\n",
      "9            F           Rowing     2\n",
      "10           F              Run  1886\n",
      "11           F        Snowboard     2\n",
      "12           F         Snowshoe     1\n",
      "13           F  StandUpPaddling     1\n",
      "14           F             Swim    90\n",
      "15           F      VirtualRide     7\n",
      "16           F             Walk   138\n",
      "17           F   WeightTraining     9\n",
      "18           F          Workout    40\n",
      "19           F             Yoga     8\n",
      "20           M        AlpineSki     4\n",
      "21           M   BackcountrySki     1\n",
      "22           M         Crossfit     4\n",
      "23           M        EBikeRide     1\n",
      "24           M       Elliptical     2\n",
      "25           M             Hike    14\n",
      "26           M         IceSkate     3\n",
      "27           M         Kayaking     1\n",
      "28           M        NordicSki     8\n",
      "29           M             Ride  2818\n",
      "30           M              Run  1044\n",
      "31           M        Snowboard     1\n",
      "32           M             Swim    82\n",
      "33           M      VirtualRide    19\n",
      "34           M             Walk    51\n",
      "35           M   WeightTraining     5\n",
      "36           M          Workout    25\n",
      "37           M             Yoga     1\n"
     ]
    }
   ],
   "source": [
    "ds3=ds1.groupby(['athlete.sex','type']).count()['name'].reset_index()\n",
    "\n",
    "ds3_m=ds3[ds3['athlete.sex']==\"M\"].sort_values(by=['athlete.sex','name'],ascending=False)\n",
    "ds3_f=ds3[ds3['athlete.sex']==\"F\"].sort_values(by=['athlete.sex','name'],ascending=False)\n",
    "\n",
    "\n",
    "print(\"Most Male users participate in\",ds3_m.iloc[0,1],\"activity\")\n",
    "print(\"Most Female users participate in\",ds3_f.iloc[0,1],\"activity\\n\")\n",
    "\n",
    "print(\"Data for Reference:\\n\",ds3)\n",
    "\n"
   ]
  },
  {
   "cell_type": "markdown",
   "metadata": {},
   "source": [
    "Most males participate in Ride activity(2818 individuals) and females participate in Run activity(1886 individuals)\n"
   ]
  },
  {
   "cell_type": "markdown",
   "metadata": {},
   "source": [
    "**(c) What is the average distance covered by users for each type of activity?**"
   ]
  },
  {
   "cell_type": "code",
   "execution_count": 133,
   "metadata": {},
   "outputs": [
    {
     "name": "stdout",
     "output_type": "stream",
     "text": [
      "Average Distance by Activity Type:\n",
      "\n",
      "       Activity_type  Average Distance\n",
      "0         AlpineSki      30430.657143\n",
      "1    BackcountrySki       6390.875000\n",
      "2          Crossfit       2952.600000\n",
      "3         EBikeRide       7315.700000\n",
      "4        Elliptical       4436.966667\n",
      "5              Hike       6812.375676\n",
      "6          IceSkate      11122.950000\n",
      "7          Kayaking       5170.033333\n",
      "8         NordicSki      15314.775000\n",
      "9              Ride      33102.721121\n",
      "10     RockClimbing          0.000000\n",
      "11           Rowing       7558.400000\n",
      "12              Run       7874.806131\n",
      "13        Snowboard      20426.433333\n",
      "14         Snowshoe       3369.600000\n",
      "15  StandUpPaddling       6816.300000\n",
      "16             Swim       2303.249438\n",
      "17      VirtualRide      23320.523077\n",
      "18             Walk       5024.981959\n",
      "19   WeightTraining         73.364286\n",
      "20          Workout       1869.342424\n",
      "21             Yoga         21.111111\n"
     ]
    }
   ],
   "source": [
    "ds2=pd.DataFrame(ds1.groupby(['type']).mean()['distance'].reset_index())\n",
    "ds2.columns=['Activity_type','Average Distance']\n",
    "print(\"Average Distance by Activity Type:\\n\\n\",ds2)"
   ]
  },
  {
   "cell_type": "markdown",
   "metadata": {},
   "source": [
    "Average distance by activity type is displayed in table above.\n"
   ]
  },
  {
   "cell_type": "markdown",
   "metadata": {},
   "source": [
    "### 4. Basic Visualization"
   ]
  },
  {
   "cell_type": "markdown",
   "metadata": {},
   "source": [
    "**(a) How is the number of kudos received by male users different from female users? Create a visualization in support of your answer.**"
   ]
  },
  {
   "cell_type": "code",
   "execution_count": 140,
   "metadata": {},
   "outputs": [
    {
     "data": {
      "image/png": "[encoded data removed]",
      "text/plain": [
       "<matplotlib.figure.Figure at 0x13a0977dfd0>"
      ]
     },
     "metadata": {},
     "output_type": "display_data"
    },
    {
     "data": {
      "image/png": "[encoded data removed]",
      "text/plain": [
       "<matplotlib.figure.Figure at 0x13a0ac287b8>"
      ]
     },
     "metadata": {},
     "output_type": "display_data"
    }
   ],
   "source": [
    "ds2=ds1.groupby(['athlete.sex']).mean()['kudos_count'].reset_index()\n",
    "ds2.columns=['athlete.sex','kudos_count']\n",
    "plt.bar(ds2['athlete.sex'], ds2['kudos_count'], align='center', alpha=0.5)\n",
    "plt.ylabel('Average kudos')\n",
    "plt.title('Kudos by Gender')\n",
    "plt.show()\n",
    "\n",
    "ds2=ds1.groupby(['athlete.sex']).sum()['kudos_count'].reset_index()\n",
    "ds2.columns=['athlete.sex','kudos_count']\n",
    "plt.bar(ds2['athlete.sex'], ds2['kudos_count'], align='center', alpha=0.5)\n",
    "plt.ylabel('Total kudos')\n",
    "plt.title('Kudos by Gender')\n",
    "plt.show()"
   ]
  },
  {
   "cell_type": "markdown",
   "metadata": {},
   "source": [
    "Males have more Kudos than Female. I have displayed both average kudos & total kudos to answer the question."
   ]
  },
  {
   "cell_type": "markdown",
   "metadata": {},
   "source": [
    "**(b) Finally, let's explore the best time of day to exercise. Create a visualization to show the diurnal patterns of exercise.**"
   ]
  },
  {
   "cell_type": "code",
   "execution_count": 186,
   "metadata": {},
   "outputs": [
    {
     "name": "stdout",
     "output_type": "stream",
     "text": [
      "    activity_hour  count\n",
      "0               0     13\n",
      "1               1      8\n",
      "2               2      4\n",
      "3               3     12\n",
      "4               4     46\n",
      "5               5    274\n",
      "6               6    525\n",
      "7               7    607\n",
      "8               8    760\n",
      "9               9    709\n",
      "10             10    525\n",
      "11             11    443\n",
      "12             12    431\n",
      "13             13    358\n",
      "14             14    335\n",
      "15             15    379\n",
      "16             16    538\n",
      "17             17    650\n",
      "18             18    655\n",
      "19             19    461\n",
      "20             20    212\n",
      "21             21     79\n",
      "22             22     42\n",
      "23             23     27\n"
     ]
    },
    {
     "data": {
      "text/plain": [
       "[<matplotlib.lines.Line2D at 0x13a19b73908>]"
      ]
     },
     "execution_count": 186,
     "metadata": {},
     "output_type": "execute_result"
    },
    {
     "data": {
      "image/png": "[encoded data removed]",
      "text/plain": [
       "<matplotlib.figure.Figure at 0x13a1672de80>"
      ]
     },
     "metadata": {},
     "output_type": "display_data"
    }
   ],
   "source": [
    "d1 = pd.to_datetime(ds1['start_date_local'])\n",
    "ds1['activity_hour']=d1.dt.hour\n",
    "\n",
    "ds2=ds1.groupby(['activity_hour']).count()['name'].reset_index()\n",
    "ds2.columns=['activity_hour','count']\n",
    "\n",
    "print(ds2)\n",
    "\n",
    "plt.xticks(np.arange(x.min(), x.max(), 2))\n",
    "plt.grid(True)\n",
    "plt.plot(ds2['activity_hour'],ds2['count'])\n"
   ]
  },
  {
   "cell_type": "markdown",
   "metadata": {},
   "source": [
    "Best Time to exercise is at morning 8-9 AM & evening 5 or 6pm."
   ]
  },
  {
   "cell_type": "markdown",
   "metadata": {},
   "source": [
    "### 5. Discussion\n",
    "\n",
    "Congratulations! You just completed all heavy coding and got a taste of exploratory data analysis! You should feel confident (at least for now) in working with data using Python! As we have done with the coding part, I want to ask you a couple of final questions:\n",
    "\n",
    "**Do you have any concerns with the quality of this data set? Whether and how does any data quality issue affect your analysis?**"
   ]
  },
  {
   "cell_type": "markdown",
   "metadata": {},
   "source": [
    "This dataset has 'Name\" field which has lot of junk values. Though data description says it is activity name- it has date, time, non english characters. This makes it difficult to assess data quality. This data also has missing/blank gender values - the results might be affected because of this."
   ]
  },
  {
   "cell_type": "code",
   "execution_count": null,
   "metadata": {},
   "outputs": [],
   "source": []
  }
 ],
 "metadata": {
  "kernelspec": {
   "display_name": "Python 3",
   "language": "python",
   "name": "python3"
  },
  "language_info": {
   "codemirror_mode": {
    "name": "ipython",
    "version": 3
   },
   "file_extension": ".py",
   "mimetype": "text/x-python",
   "name": "python",
   "nbconvert_exporter": "python",
   "pygments_lexer": "ipython3",
   "version": "3.6.4"
  }
 },
 "nbformat": 4,
 "nbformat_minor": 2
}
