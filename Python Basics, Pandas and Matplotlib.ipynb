{
 "cells": [
  {
   "cell_type": "markdown",
   "metadata": {},
   "source": [
    "# Python Basics, Pandas and Matplotlib\n",
    "## IMT 547: Social Media Data Mining and Analysis\n",
    "### Instructor: Li Zeng (lizeng@uw.edu)\n"
   ]
  },
  {
   "cell_type": "markdown",
   "metadata": {},
   "source": [
    "This section will serve as a quick crash course on python programming language and some of the commonly used packages - numpy, pandas, matplotlib."
   ]
  },
  {
   "cell_type": "markdown",
   "metadata": {},
   "source": [
    "*Note*: this tutorial is developed based on Python 3. If you are using Python 2, you might encounter syntax errors (e.g. from print statements). To check your python version, run python --version at the command line."
   ]
  },
  {
   "cell_type": "markdown",
   "metadata": {},
   "source": [
    "## Basic Data Types"
   ]
  },
  {
   "cell_type": "markdown",
   "metadata": {},
   "source": [
    "Python has the same data types as any other programming language - Integer, Float, Boolean, String.\n",
    "\n",
    "Let's start with Integer and Float"
   ]
  },
  {
   "cell_type": "markdown",
   "metadata": {},
   "source": [
    "### Integer"
   ]
  },
  {
   "cell_type": "code",
   "execution_count": 1,
   "metadata": {},
   "outputs": [
    {
     "name": "stdout",
     "output_type": "stream",
     "text": [
      "5 <class 'int'>\n",
      "6\n"
     ]
    }
   ],
   "source": [
    "x = 5\n",
    "print(x, type(x)) # \"Type\" prints the type/class of the object\n",
    "print(x+1)"
   ]
  },
  {
   "cell_type": "markdown",
   "metadata": {},
   "source": [
    "### Float"
   ]
  },
  {
   "cell_type": "code",
   "execution_count": 2,
   "metadata": {},
   "outputs": [
    {
     "name": "stdout",
     "output_type": "stream",
     "text": [
      "6.5 <class 'float'>\n",
      "8.5\n"
     ]
    }
   ],
   "source": [
    "y = 6.5\n",
    "print(y, type(y))\n",
    "print(y+2)"
   ]
  },
  {
   "cell_type": "markdown",
   "metadata": {},
   "source": [
    "Unlike many other languages, Python does not support unary increment (x++) or decrement(x--)"
   ]
  },
  {
   "cell_type": "markdown",
   "metadata": {},
   "source": [
    "### Boolean"
   ]
  },
  {
   "cell_type": "markdown",
   "metadata": {},
   "source": [
    "Python uses english words(and, or) rather than symbols(&&, ||). Make sure that True and False are capitalized. a= true will report an error."
   ]
  },
  {
   "cell_type": "code",
   "execution_count": 3,
   "metadata": {},
   "outputs": [
    {
     "name": "stdout",
     "output_type": "stream",
     "text": [
      "False\n",
      "True\n",
      "<class 'bool'>\n"
     ]
    }
   ],
   "source": [
    "a = True\n",
    "b = False\n",
    "print(a and b)\n",
    "print(a or b)\n",
    "print(type(a))"
   ]
  },
  {
   "cell_type": "markdown",
   "metadata": {},
   "source": [
    "### Strings"
   ]
  },
  {
   "cell_type": "markdown",
   "metadata": {},
   "source": [
    "Python uses both single and double quotes for strings."
   ]
  },
  {
   "cell_type": "code",
   "execution_count": 4,
   "metadata": {},
   "outputs": [
    {
     "name": "stdout",
     "output_type": "stream",
     "text": [
      "5\n",
      "Hello World\n",
      "hello\n"
     ]
    }
   ],
   "source": [
    "a = 'Hello'\n",
    "b = \"World\"\n",
    "print(len(a)) # prints length of string\n",
    "print(a+' '+b) # concatenates a and b\n",
    "print(a.lower()) #Converts string to lowercase"
   ]
  },
  {
   "cell_type": "markdown",
   "metadata": {},
   "source": [
    "To remove the leading and trailing zeros, use strip() method. You will be using strip() and lower() a lot while cleaning data."
   ]
  },
  {
   "cell_type": "code",
   "execution_count": 5,
   "metadata": {},
   "outputs": [
    {
     "name": "stdout",
     "output_type": "stream",
     "text": [
      "    String  \n",
      "String\n"
     ]
    }
   ],
   "source": [
    "a = '    String  '\n",
    "print(a)\n",
    "print(a.strip())"
   ]
  },
  {
   "cell_type": "markdown",
   "metadata": {},
   "source": [
    "For more details on strings, check out python documentation: https://docs.python.org/3/tutorial/introduction.html#strings"
   ]
  },
  {
   "cell_type": "markdown",
   "metadata": {},
   "source": [
    "## Collections"
   ]
  },
  {
   "cell_type": "markdown",
   "metadata": {},
   "source": [
    "Python has in-built collections - list, dictionary, sets, tuples."
   ]
  },
  {
   "cell_type": "markdown",
   "metadata": {},
   "source": [
    "### List"
   ]
  },
  {
   "cell_type": "markdown",
   "metadata": {},
   "source": [
    "List is python equivalent of array but can contain elements of different datatypes. They preserve order and can be accessed by position."
   ]
  },
  {
   "cell_type": "code",
   "execution_count": 6,
   "metadata": {},
   "outputs": [
    {
     "name": "stdout",
     "output_type": "stream",
     "text": [
      "[45, 90, 34, 1, 0, 6]\n",
      "45\n",
      "6\n"
     ]
    }
   ],
   "source": [
    "numbers = [45,90,34,1,0,6]\n",
    "print(numbers)\n",
    "print(numbers[0]) # displays first element\n",
    "print(numbers[-1]) # accesses elemets from the end of the list. The first element from the end is indexed at -1."
   ]
  },
  {
   "cell_type": "markdown",
   "metadata": {},
   "source": [
    "### Slicing"
   ]
  },
  {
   "cell_type": "markdown",
   "metadata": {},
   "source": [
    "You can also access a part of the list -  [start:stop:step]. By default step is 1."
   ]
  },
  {
   "cell_type": "code",
   "execution_count": 7,
   "metadata": {},
   "outputs": [
    {
     "name": "stdout",
     "output_type": "stream",
     "text": [
      "[1, 2]\n",
      "[1, 2]\n",
      "[1, 2, 3, 4, 5, 6, 7, 8, 9, 0]\n",
      "[3, 4, 5, 6, 7, 8, 9, 0]\n",
      "[9, 0]\n"
     ]
    }
   ],
   "source": [
    "a = [1,2,3,4,5,6,7,8,9,0]\n",
    "print(a[0:2]) # slices from index 0 to 2 (exluding 2nd index). Nth index is always excluded\n",
    "print(a[:2]) # slices from start to 2nd index(exluding 2nd index)\n",
    "print(a[:]) # slices whole list\n",
    "print(a[2:]) # slices from 2nd till the last index\n",
    "print(a[-2:]) # slices from 2nd index at the end to the start of the list. "
   ]
  },
  {
   "cell_type": "markdown",
   "metadata": {},
   "source": [
    "### Loops (and Indentation)"
   ]
  },
  {
   "cell_type": "markdown",
   "metadata": {},
   "source": [
    "Blocks are identified by indentation."
   ]
  },
  {
   "cell_type": "code",
   "execution_count": 8,
   "metadata": {},
   "outputs": [
    {
     "name": "stdout",
     "output_type": "stream",
     "text": [
      "2\n",
      "4\n",
      "6\n",
      "8\n",
      "10\n"
     ]
    }
   ],
   "source": [
    "num = [1,2,3,4,5]\n",
    "# print each element multipled by 2\n",
    "for i in num:\n",
    "    print(i*2)"
   ]
  },
  {
   "cell_type": "markdown",
   "metadata": {},
   "source": [
    "### List Comprehension"
   ]
  },
  {
   "cell_type": "markdown",
   "metadata": {},
   "source": [
    "We can write the above loop in a single line using list comprehension. These come in handy when simple operations are to be done in the loop."
   ]
  },
  {
   "cell_type": "code",
   "execution_count": 9,
   "metadata": {},
   "outputs": [
    {
     "name": "stdout",
     "output_type": "stream",
     "text": [
      "[2, 4, 6, 8, 10]\n"
     ]
    }
   ],
   "source": [
    "new_num= [i*2 for i in num] # new_num is the new list created and i*2 is what is returned in each index of the list\n",
    "print(new_num)"
   ]
  },
  {
   "cell_type": "markdown",
   "metadata": {},
   "source": [
    "### Dictionary"
   ]
  },
  {
   "cell_type": "markdown",
   "metadata": {},
   "source": [
    "Dictionaries are look-up tables with key,value pairs. They are unordered and have unique keys.\n",
    "{key:value}\n",
    "These are similar to Map in java."
   ]
  },
  {
   "cell_type": "code",
   "execution_count": 10,
   "metadata": {},
   "outputs": [
    {
     "name": "stdout",
     "output_type": "stream",
     "text": [
      "{'cat': 1, 'dog': 2, 'monkey': 3}\n",
      "2\n",
      "0\n",
      "4\n",
      "True\n"
     ]
    }
   ],
   "source": [
    "animals = {\"cat\":1, \"dog\":2, \"monkey\":3}\n",
    "print(animals)\n",
    "print(animals[\"dog\"]) # prints value of key \"dog\"\n",
    "print(animals.get(\"lion\", 0)) #prints value of key \"lion\". If lion is not in dictionary, it will print 0 as default value.\n",
    "animals[\"lion\"] = 4 # insert new key, value pair\n",
    "print(animals.get(\"lion\", 0)) # lion is now in the dictionary. Its value will be printed\n",
    "print(\"cat\" in animals) #prints True if cat is a key in the dictionary"
   ]
  },
  {
   "cell_type": "markdown",
   "metadata": {},
   "source": [
    "### Dictionary: Loops"
   ]
  },
  {
   "cell_type": "code",
   "execution_count": 11,
   "metadata": {},
   "outputs": [
    {
     "name": "stdout",
     "output_type": "stream",
     "text": [
      "1\n",
      "2\n",
      "3\n",
      "4\n"
     ]
    }
   ],
   "source": [
    "for animal in animals: #animal is the key here, animals is the dictionary created above\n",
    "    print(animals[animal]) # print values of all animals"
   ]
  },
  {
   "cell_type": "code",
   "execution_count": 12,
   "metadata": {},
   "outputs": [
    {
     "name": "stdout",
     "output_type": "stream",
     "text": [
      "cat 1\n",
      "dog 2\n",
      "monkey 3\n",
      "lion 4\n"
     ]
    }
   ],
   "source": [
    "for key, value in animals.items(): # to access keys and their corresponding values\n",
    "    print(key, value)"
   ]
  },
  {
   "cell_type": "markdown",
   "metadata": {},
   "source": [
    "### Dictionary Comprehension"
   ]
  },
  {
   "cell_type": "markdown",
   "metadata": {},
   "source": [
    "The above loop can be written in a single line for simplification using dictionary comprehension"
   ]
  },
  {
   "cell_type": "code",
   "execution_count": 13,
   "metadata": {},
   "outputs": [
    {
     "name": "stdout",
     "output_type": "stream",
     "text": [
      "{1: 'cat', 2: 'dog', 3: 'monkey', 4: 'lion'}\n"
     ]
    }
   ],
   "source": [
    "d = {v:k for k, v in animals.items()} # display all key,value pairs\n",
    "print(d)"
   ]
  },
  {
   "cell_type": "markdown",
   "metadata": {},
   "source": [
    "### Sets"
   ]
  },
  {
   "cell_type": "markdown",
   "metadata": {},
   "source": [
    "A set is an unordered collection of distinct elements."
   ]
  },
  {
   "cell_type": "code",
   "execution_count": 14,
   "metadata": {},
   "outputs": [
    {
     "name": "stdout",
     "output_type": "stream",
     "text": [
      "{9, 4, 1}\n",
      "False\n",
      "{'abc', 9, 4, 1}\n"
     ]
    }
   ],
   "source": [
    "num = {4,9,1}\n",
    "print(num)\n",
    "print(2 in num) #checks if 2 is there in num\n",
    "num.add(\"abc\")# adds new element to the set\n",
    "print(num)# prints set again"
   ]
  },
  {
   "cell_type": "markdown",
   "metadata": {},
   "source": [
    "### Tuples"
   ]
  },
  {
   "cell_type": "markdown",
   "metadata": {},
   "source": [
    "Tuple is an immutable ordered list of values"
   ]
  },
  {
   "cell_type": "code",
   "execution_count": 15,
   "metadata": {},
   "outputs": [
    {
     "name": "stdout",
     "output_type": "stream",
     "text": [
      "(1, 2, 3, 4, 5)\n",
      "(1, 2, 3)\n"
     ]
    }
   ],
   "source": [
    "x = (1,2,3,4,5)\n",
    "print(x)\n",
    "print(x[:3]) # concept of slicing remains the same"
   ]
  },
  {
   "cell_type": "code",
   "execution_count": 16,
   "metadata": {},
   "outputs": [],
   "source": [
    "#x[2] = 0 \n",
    "#Since tuples are immutable, assigning values will throw an error. Uncomment the above to test the same."
   ]
  },
  {
   "cell_type": "markdown",
   "metadata": {},
   "source": [
    "If you wish to change a value, convert the tuple to a list and then assign the value"
   ]
  },
  {
   "cell_type": "code",
   "execution_count": 17,
   "metadata": {},
   "outputs": [
    {
     "name": "stdout",
     "output_type": "stream",
     "text": [
      "678\n"
     ]
    }
   ],
   "source": [
    "t_1 = list(x)\n",
    "t_1 = 678\n",
    "print(t_1)"
   ]
  },
  {
   "cell_type": "markdown",
   "metadata": {},
   "source": [
    "## Operations"
   ]
  },
  {
   "cell_type": "code",
   "execution_count": 18,
   "metadata": {},
   "outputs": [
    {
     "name": "stdout",
     "output_type": "stream",
     "text": [
      "10\n",
      "2\n",
      "1.5\n",
      "1\n",
      "24\n",
      "216\n",
      "2\n"
     ]
    }
   ],
   "source": [
    "a,b = 6,4\n",
    "print(a+b) # addition\n",
    "print(a-b) # subtraction\n",
    "print(a/b) #division\n",
    "print(a//b) #floor division - If negative then floors towards negative infinity ( away from 0)\n",
    "print(a*b) # multiplication\n",
    "print(a**3) # a to the power 3\n",
    "print(a%b) # returns remainder when a/b"
   ]
  },
  {
   "cell_type": "code",
   "execution_count": 19,
   "metadata": {},
   "outputs": [
    {
     "name": "stdout",
     "output_type": "stream",
     "text": [
      "True\n",
      "False\n"
     ]
    }
   ],
   "source": [
    "print(a>b)\n",
    "print(a==b)"
   ]
  },
  {
   "cell_type": "markdown",
   "metadata": {},
   "source": [
    "## Function"
   ]
  },
  {
   "cell_type": "markdown",
   "metadata": {},
   "source": [
    "Functions are defined using the def keyword."
   ]
  },
  {
   "cell_type": "code",
   "execution_count": 20,
   "metadata": {},
   "outputs": [],
   "source": [
    "# Find maximum of two numbers\n",
    "def findMax(first,second):      \n",
    "    if first > second:\n",
    "        return first\n",
    "    else:\n",
    "        return second"
   ]
  },
  {
   "cell_type": "code",
   "execution_count": 21,
   "metadata": {},
   "outputs": [
    {
     "name": "stdout",
     "output_type": "stream",
     "text": [
      "6\n"
     ]
    }
   ],
   "source": [
    "print (findMax(5,6))"
   ]
  },
  {
   "cell_type": "markdown",
   "metadata": {},
   "source": [
    "## NumPy"
   ]
  },
  {
   "cell_type": "markdown",
   "metadata": {},
   "source": [
    "NumPy(Numerical Python) is the fundamental package for computations in Python. It provides multidimensional array object and many functions to perform preprocessing over these multidimesional arrays.\n",
    "\n",
    "Numpy's class is called a ndarray. All the elements of numpy array of same data type unlike Python's lists.\n",
    "\n",
    "NumPy addresses the slowness problem partly by providing multidimensional arrays, and functions and operators that operate efficiently on arrays."
   ]
  },
  {
   "cell_type": "code",
   "execution_count": 22,
   "metadata": {},
   "outputs": [
    {
     "name": "stdout",
     "output_type": "stream",
     "text": [
      "1.14.2\n"
     ]
    }
   ],
   "source": [
    "import numpy as np\n",
    "print(np.__version__)"
   ]
  },
  {
   "cell_type": "markdown",
   "metadata": {},
   "source": [
    "### NumPy Array"
   ]
  },
  {
   "cell_type": "code",
   "execution_count": 23,
   "metadata": {},
   "outputs": [
    {
     "name": "stdout",
     "output_type": "stream",
     "text": [
      "[1 2 3 4 5]\n",
      "1\n",
      "<class 'numpy.ndarray'>\n"
     ]
    }
   ],
   "source": [
    "a = np.array([1,2,3,4,5])\n",
    "print(a)\n",
    "print(a[0]) # prints element at 0 index\n",
    "print(type(a)) # prints class of a"
   ]
  },
  {
   "cell_type": "code",
   "execution_count": 24,
   "metadata": {},
   "outputs": [
    {
     "name": "stdout",
     "output_type": "stream",
     "text": [
      "(5,)\n",
      "1\n",
      "5\n",
      "int32\n"
     ]
    }
   ],
   "source": [
    "print(a.shape) # The shape of array, returns a tuple.\n",
    "print(a.ndim) # The number of dimensions of array. Also called as axes\n",
    "print(a.size) # Returns total number of elements in the array.\n",
    "print(a.dtype) # Returns type of element in object a"
   ]
  },
  {
   "cell_type": "code",
   "execution_count": 25,
   "metadata": {},
   "outputs": [
    {
     "name": "stdout",
     "output_type": "stream",
     "text": [
      "[[1 2 3]\n",
      " [4 5 6]]\n"
     ]
    }
   ],
   "source": [
    "# create 2 dimensional array\n",
    "b= np.array([[1,2,3],[4,5,6]])\n",
    "print(b)"
   ]
  },
  {
   "cell_type": "markdown",
   "metadata": {},
   "source": [
    "Numpy provides many functions to create arrays"
   ]
  },
  {
   "cell_type": "code",
   "execution_count": 26,
   "metadata": {},
   "outputs": [
    {
     "name": "stdout",
     "output_type": "stream",
     "text": [
      "arange:\n",
      " [0 1 2 3 4 5 6 7 8 9]\n",
      "zeros:\n",
      " [[0. 0. 0. 0. 0.]\n",
      " [0. 0. 0. 0. 0.]]\n",
      "ones:\n",
      " [[1 1 1]\n",
      " [1 1 1]]\n"
     ]
    }
   ],
   "source": [
    "print(\"arange:\\n\", np.arange(10)) # create an array with a range of numbers from 0 to 9. Used for creating counters.\n",
    "print(\"zeros:\\n\", np.zeros((2,5)) ) # creates an array of all zeros with size 2,5\n",
    "print(\"ones:\\n\", np.ones_like((b)) ) # creates an array of all ones with shape like 'b'"
   ]
  },
  {
   "cell_type": "code",
   "execution_count": 27,
   "metadata": {},
   "outputs": [
    {
     "name": "stdout",
     "output_type": "stream",
     "text": [
      "empty:\n",
      " [[ 1.65409572e-310  1.39802436e+294  2.11846467e+289  2.25218286e+289\n",
      "   3.39394647e-111  9.26723013e+242  2.66375182e+233  1.59712378e+241]\n",
      " [ 2.98644139e+180  7.76236222e+149  1.01486925e+267 -4.05340725e+125\n",
      "  -6.33495725e+127  4.54961459e-307  1.33360331e+241  6.84876091e+218]\n",
      " [ 4.83245961e+276  3.50341505e-311  1.42151259e+241  7.53308506e-312\n",
      "   5.43230922e-312  3.63964718e-310  1.78005909e-306  4.22982346e-307]]\n",
      "reshape:\n",
      " [[ 0  1  2  3]\n",
      " [ 4  5  6  7]\n",
      " [ 8  9 10 11]] \n",
      "\n"
     ]
    }
   ],
   "source": [
    "print(\"empty:\\n\", np.empty((3,8)) ) # initializes with random values\n",
    "print(\"reshape:\\n\", np.arange(12).reshape((3,4)), \"\\n\") #converting to two dimensional array"
   ]
  },
  {
   "cell_type": "code",
   "execution_count": 28,
   "metadata": {},
   "outputs": [
    {
     "name": "stdout",
     "output_type": "stream",
     "text": [
      "random numbers:\n",
      " [[-0.90552494 -2.13138262 -0.19798185 -1.98922804  2.0931751 ]\n",
      " [-1.35015324  0.92653758 -0.92891547 -1.19066643  0.82142685]\n",
      " [ 1.05779842  1.15950962  0.32571124 -0.38898074 -0.23018671]\n",
      " [ 0.39847141 -0.92547506  0.0440248   1.89647861  0.59576955]] \n",
      "\n",
      "identity matrix:\n",
      " [[1. 0.]\n",
      " [0. 1.]]\n"
     ]
    }
   ],
   "source": [
    "print(\"random numbers:\\n\", np.random.randn(4,5) ,'\\n') # creates an array with random numbers\n",
    "print(\"identity matrix:\\n\", np.eye(2)) #creates 2x2 identity matrix"
   ]
  },
  {
   "cell_type": "markdown",
   "metadata": {},
   "source": [
    "### NumPy Array Slicing"
   ]
  },
  {
   "cell_type": "code",
   "execution_count": 29,
   "metadata": {},
   "outputs": [
    {
     "name": "stdout",
     "output_type": "stream",
     "text": [
      "[1 3 5]\n",
      "[9 8 7 6 5 4 3 2 1 0]\n"
     ]
    }
   ],
   "source": [
    "a = np.arange(10)\n",
    "print(a[1:7:2])\n",
    "print(a[::-1])"
   ]
  },
  {
   "cell_type": "code",
   "execution_count": 30,
   "metadata": {},
   "outputs": [
    {
     "name": "stdout",
     "output_type": "stream",
     "text": [
      "7\n",
      "7\n",
      "[1 2 3]\n",
      "[[1 2 3]\n",
      " [5 6 7]]\n",
      "[1 2 3]\n"
     ]
    }
   ],
   "source": [
    "b = np.array([[1,2,3],[5,6,7]])\n",
    "print(b[1,2]) # prints element at (1,2) index i.e. 2st row and 3rd column\n",
    "print(b[1][2]) # prints the same as above\n",
    "print(b[0]) # prints 1st row\n",
    "print(b[0:]) # prints all elements\n",
    "print(b[0,:]) #prints 1st row with all columns"
   ]
  },
  {
   "cell_type": "code",
   "execution_count": 31,
   "metadata": {},
   "outputs": [
    {
     "name": "stdout",
     "output_type": "stream",
     "text": [
      "[[2 3]\n",
      " [6 7]]\n"
     ]
    }
   ],
   "source": [
    "print(b[:2, 1:]) # prints all rows till 2nd row(index 1) and all columns starting from 2nd column(index 1)"
   ]
  },
  {
   "cell_type": "markdown",
   "metadata": {},
   "source": [
    "### Basic Computation"
   ]
  },
  {
   "cell_type": "code",
   "execution_count": 32,
   "metadata": {},
   "outputs": [
    {
     "name": "stdout",
     "output_type": "stream",
     "text": [
      "5.5\n",
      "11\n",
      "0\n",
      "66\n"
     ]
    }
   ],
   "source": [
    "num = np.arange(12).reshape(3,4)\n",
    "print(num.mean())\n",
    "print(num.max())\n",
    "print(num.min())\n",
    "print(num.sum())"
   ]
  },
  {
   "cell_type": "code",
   "execution_count": 33,
   "metadata": {},
   "outputs": [
    {
     "name": "stdout",
     "output_type": "stream",
     "text": [
      "11\n",
      "0\n"
     ]
    }
   ],
   "source": [
    "print(num.argmax()) # returns index of max value\n",
    "print(num.argmin()) # returns index of min value"
   ]
  },
  {
   "cell_type": "code",
   "execution_count": 34,
   "metadata": {},
   "outputs": [
    {
     "data": {
      "text/plain": [
       "array(['multiple of 3', 'not a multiple of 3', 'not a multiple of 3',\n",
       "       'multiple of 3', 'not a multiple of 3', 'not a multiple of 3',\n",
       "       'multiple of 3', 'not a multiple of 3', 'not a multiple of 3',\n",
       "       'multiple of 3'], dtype='<U19')"
      ]
     },
     "execution_count": 34,
     "metadata": {},
     "output_type": "execute_result"
    }
   ],
   "source": [
    "np.where(a%3==0, \"multiple of 3\", \"not a multiple of 3\") # checks the condition a%3==0, if true returns 2nd argument, else returns 3rd arguments"
   ]
  },
  {
   "cell_type": "code",
   "execution_count": 35,
   "metadata": {},
   "outputs": [
    {
     "name": "stdout",
     "output_type": "stream",
     "text": [
      "[2.  3.5 4.  6. ]\n"
     ]
    }
   ],
   "source": [
    "a = np.array([4,2,6,3.5])\n",
    "a.sort() # performs sorting\n",
    "print(a)"
   ]
  },
  {
   "cell_type": "markdown",
   "metadata": {},
   "source": [
    "## Pandas"
   ]
  },
  {
   "cell_type": "markdown",
   "metadata": {},
   "source": [
    "Pandas is an open source library for Data Analysis which makes python stand out in the field of data analysis. This is one package we will be using extensively in this class.\n",
    "\n",
    "Pandas introduces two new datatypes - Series and DataFrame. Both are built on top of numPy."
   ]
  },
  {
   "cell_type": "code",
   "execution_count": 36,
   "metadata": {},
   "outputs": [
    {
     "name": "stdout",
     "output_type": "stream",
     "text": [
      "0.22.0\n"
     ]
    }
   ],
   "source": [
    "import pandas as pd\n",
    "print(pd.__version__)"
   ]
  },
  {
   "cell_type": "markdown",
   "metadata": {},
   "source": [
    "### Series"
   ]
  },
  {
   "cell_type": "markdown",
   "metadata": {},
   "source": [
    "A Series is a one dimensional object similiar to list. It asigns a labeled index to each item in the series by default."
   ]
  },
  {
   "cell_type": "code",
   "execution_count": 37,
   "metadata": {},
   "outputs": [
    {
     "name": "stdout",
     "output_type": "stream",
     "text": [
      "<class 'pandas.core.series.Series'>\n",
      "0       7\n",
      "1     abc\n",
      "2      10\n",
      "3    3.14\n",
      "dtype: object\n"
     ]
    }
   ],
   "source": [
    "x = pd.Series([7,'abc',10,3.14])\n",
    "print(type(x))\n",
    "print(x)"
   ]
  },
  {
   "cell_type": "markdown",
   "metadata": {},
   "source": [
    "We can assign index if we don't want a default one"
   ]
  },
  {
   "cell_type": "code",
   "execution_count": 38,
   "metadata": {},
   "outputs": [
    {
     "name": "stdout",
     "output_type": "stream",
     "text": [
      "A       7\n",
      "B     abc\n",
      "C      10\n",
      "D    3.14\n",
      "dtype: object\n"
     ]
    }
   ],
   "source": [
    "x = pd.Series([7,'abc',10,3.14],index=['A','B','C','D'])\n",
    "print(x)"
   ]
  },
  {
   "cell_type": "code",
   "execution_count": 39,
   "metadata": {},
   "outputs": [
    {
     "name": "stdout",
     "output_type": "stream",
     "text": [
      "[7 'abc' 10 3.14]\n",
      "Index(['A', 'B', 'C', 'D'], dtype='object')\n"
     ]
    }
   ],
   "source": [
    "print(x.values) # prints elements of x\n",
    "print(x.index) # prints index of x"
   ]
  },
  {
   "cell_type": "code",
   "execution_count": 40,
   "metadata": {},
   "outputs": [
    {
     "name": "stdout",
     "output_type": "stream",
     "text": [
      "<class 'dict'>\n",
      "Age                20\n",
      "Education    Graduate\n",
      "Language       Python\n",
      "Name              XYZ\n",
      "dtype: object\n",
      "20\n"
     ]
    }
   ],
   "source": [
    "# Series can convert dictionary into a series object using keys as index\n",
    "d = {'Name':'XYZ','Age':20,'Education':'Graduate','Language':'Python'}\n",
    "print(type(d))\n",
    "x = pd.Series(d) \n",
    "print(x)\n",
    "print(x['Age']) "
   ]
  },
  {
   "cell_type": "markdown",
   "metadata": {},
   "source": [
    "### DataFrame"
   ]
  },
  {
   "cell_type": "markdown",
   "metadata": {},
   "source": [
    "DataFrame is the central data structure in pandas. It is similiar to tabular data structure consisting of rows and columns. Think of it like a table in a database.\n",
    "\n",
    "The variables in a dataframe are stored as series. "
   ]
  },
  {
   "cell_type": "code",
   "execution_count": 41,
   "metadata": {},
   "outputs": [
    {
     "name": "stdout",
     "output_type": "stream",
     "text": [
      "      Industry  Sales  Year\n",
      "0           IT   1000  2005\n",
      "1  Agriculture   1200  2006\n",
      "2     Textiles   1100  2007\n",
      "3  Electronics   1400  2008\n",
      "4      BioTech   5000  2009\n"
     ]
    }
   ],
   "source": [
    "# creating dataframe from a dictionary of lists\n",
    "d = {'Year':[2005,2006,2007,2008,2009],\n",
    "    'Industry':['IT','Agriculture','Textiles','Electronics','BioTech'],\n",
    "    'Sales':[1000,1200,1100,1400,5000]}\n",
    "df = pd.DataFrame(d)\n",
    "print(df)"
   ]
  },
  {
   "cell_type": "code",
   "execution_count": 45,
   "metadata": {},
   "outputs": [
    {
     "data": {
      "text/html": [
       "<div>\n",
       "<style scoped>\n",
       "    .dataframe tbody tr th:only-of-type {\n",
       "        vertical-align: middle;\n",
       "    }\n",
       "\n",
       "    .dataframe tbody tr th {\n",
       "        vertical-align: top;\n",
       "    }\n",
       "\n",
       "    .dataframe thead th {\n",
       "        text-align: right;\n",
       "    }\n",
       "</style>\n",
       "<table border=\"1\" class=\"dataframe\">\n",
       "  <thead>\n",
       "    <tr style=\"text-align: right;\">\n",
       "      <th></th>\n",
       "      <th>pclass</th>\n",
       "      <th>survived</th>\n",
       "      <th>name</th>\n",
       "      <th>sex</th>\n",
       "      <th>age</th>\n",
       "      <th>sibsp</th>\n",
       "      <th>parch</th>\n",
       "      <th>ticket</th>\n",
       "      <th>fare</th>\n",
       "      <th>cabin</th>\n",
       "      <th>embarked</th>\n",
       "      <th>boat</th>\n",
       "      <th>body</th>\n",
       "      <th>home.dest</th>\n",
       "    </tr>\n",
       "  </thead>\n",
       "  <tbody>\n",
       "    <tr>\n",
       "      <th>0</th>\n",
       "      <td>1</td>\n",
       "      <td>1</td>\n",
       "      <td>Allen, Miss. Elisabeth Walton</td>\n",
       "      <td>female</td>\n",
       "      <td>29.0000</td>\n",
       "      <td>0</td>\n",
       "      <td>0</td>\n",
       "      <td>24160</td>\n",
       "      <td>211.3375</td>\n",
       "      <td>B5</td>\n",
       "      <td>S</td>\n",
       "      <td>2</td>\n",
       "      <td>NaN</td>\n",
       "      <td>St Louis, MO</td>\n",
       "    </tr>\n",
       "    <tr>\n",
       "      <th>1</th>\n",
       "      <td>1</td>\n",
       "      <td>1</td>\n",
       "      <td>Allison, Master. Hudson Trevor</td>\n",
       "      <td>male</td>\n",
       "      <td>0.9167</td>\n",
       "      <td>1</td>\n",
       "      <td>2</td>\n",
       "      <td>113781</td>\n",
       "      <td>151.5500</td>\n",
       "      <td>C22 C26</td>\n",
       "      <td>S</td>\n",
       "      <td>11</td>\n",
       "      <td>NaN</td>\n",
       "      <td>Montreal, PQ / Chesterville, ON</td>\n",
       "    </tr>\n",
       "    <tr>\n",
       "      <th>2</th>\n",
       "      <td>1</td>\n",
       "      <td>0</td>\n",
       "      <td>Allison, Miss. Helen Loraine</td>\n",
       "      <td>female</td>\n",
       "      <td>2.0000</td>\n",
       "      <td>1</td>\n",
       "      <td>2</td>\n",
       "      <td>113781</td>\n",
       "      <td>151.5500</td>\n",
       "      <td>C22 C26</td>\n",
       "      <td>S</td>\n",
       "      <td>NaN</td>\n",
       "      <td>NaN</td>\n",
       "      <td>Montreal, PQ / Chesterville, ON</td>\n",
       "    </tr>\n",
       "    <tr>\n",
       "      <th>3</th>\n",
       "      <td>1</td>\n",
       "      <td>0</td>\n",
       "      <td>Allison, Mr. Hudson Joshua Creighton</td>\n",
       "      <td>male</td>\n",
       "      <td>30.0000</td>\n",
       "      <td>1</td>\n",
       "      <td>2</td>\n",
       "      <td>113781</td>\n",
       "      <td>151.5500</td>\n",
       "      <td>C22 C26</td>\n",
       "      <td>S</td>\n",
       "      <td>NaN</td>\n",
       "      <td>135.0</td>\n",
       "      <td>Montreal, PQ / Chesterville, ON</td>\n",
       "    </tr>\n",
       "    <tr>\n",
       "      <th>4</th>\n",
       "      <td>1</td>\n",
       "      <td>0</td>\n",
       "      <td>Allison, Mrs. Hudson J C (Bessie Waldo Daniels)</td>\n",
       "      <td>female</td>\n",
       "      <td>25.0000</td>\n",
       "      <td>1</td>\n",
       "      <td>2</td>\n",
       "      <td>113781</td>\n",
       "      <td>151.5500</td>\n",
       "      <td>C22 C26</td>\n",
       "      <td>S</td>\n",
       "      <td>NaN</td>\n",
       "      <td>NaN</td>\n",
       "      <td>Montreal, PQ / Chesterville, ON</td>\n",
       "    </tr>\n",
       "  </tbody>\n",
       "</table>\n",
       "</div>"
      ],
      "text/plain": [
       "   pclass  survived                                             name     sex  \\\n",
       "0       1         1                    Allen, Miss. Elisabeth Walton  female   \n",
       "1       1         1                   Allison, Master. Hudson Trevor    male   \n",
       "2       1         0                     Allison, Miss. Helen Loraine  female   \n",
       "3       1         0             Allison, Mr. Hudson Joshua Creighton    male   \n",
       "4       1         0  Allison, Mrs. Hudson J C (Bessie Waldo Daniels)  female   \n",
       "\n",
       "       age  sibsp  parch  ticket      fare    cabin embarked boat   body  \\\n",
       "0  29.0000      0      0   24160  211.3375       B5        S    2    NaN   \n",
       "1   0.9167      1      2  113781  151.5500  C22 C26        S   11    NaN   \n",
       "2   2.0000      1      2  113781  151.5500  C22 C26        S  NaN    NaN   \n",
       "3  30.0000      1      2  113781  151.5500  C22 C26        S  NaN  135.0   \n",
       "4  25.0000      1      2  113781  151.5500  C22 C26        S  NaN    NaN   \n",
       "\n",
       "                         home.dest  \n",
       "0                     St Louis, MO  \n",
       "1  Montreal, PQ / Chesterville, ON  \n",
       "2  Montreal, PQ / Chesterville, ON  \n",
       "3  Montreal, PQ / Chesterville, ON  \n",
       "4  Montreal, PQ / Chesterville, ON  "
      ]
     },
     "execution_count": 45,
     "metadata": {},
     "output_type": "execute_result"
    }
   ],
   "source": [
    "# read from a file\n",
    "data = pd.read_csv('C:/Users/Sakura/Documents/Social Media Analysis/titanic.csv.bz2')\n",
    "data.head(5) #display top 5 rows"
   ]
  },
  {
   "cell_type": "code",
   "execution_count": 47,
   "metadata": {},
   "outputs": [
    {
     "data": {
      "text/html": [
       "<div>\n",
       "<style scoped>\n",
       "    .dataframe tbody tr th:only-of-type {\n",
       "        vertical-align: middle;\n",
       "    }\n",
       "\n",
       "    .dataframe tbody tr th {\n",
       "        vertical-align: top;\n",
       "    }\n",
       "\n",
       "    .dataframe thead th {\n",
       "        text-align: right;\n",
       "    }\n",
       "</style>\n",
       "<table border=\"1\" class=\"dataframe\">\n",
       "  <thead>\n",
       "    <tr style=\"text-align: right;\">\n",
       "      <th></th>\n",
       "      <th>pclass</th>\n",
       "      <th>survived</th>\n",
       "      <th>name</th>\n",
       "      <th>sex</th>\n",
       "      <th>age</th>\n",
       "      <th>sibsp</th>\n",
       "      <th>parch</th>\n",
       "      <th>ticket</th>\n",
       "      <th>fare</th>\n",
       "      <th>cabin</th>\n",
       "      <th>embarked</th>\n",
       "      <th>boat</th>\n",
       "      <th>body</th>\n",
       "      <th>home.dest</th>\n",
       "    </tr>\n",
       "  </thead>\n",
       "  <tbody>\n",
       "    <tr>\n",
       "      <th>1304</th>\n",
       "      <td>3</td>\n",
       "      <td>0</td>\n",
       "      <td>Zabour, Miss. Hileni</td>\n",
       "      <td>female</td>\n",
       "      <td>14.5</td>\n",
       "      <td>1</td>\n",
       "      <td>0</td>\n",
       "      <td>2665</td>\n",
       "      <td>14.4542</td>\n",
       "      <td>NaN</td>\n",
       "      <td>C</td>\n",
       "      <td>NaN</td>\n",
       "      <td>328.0</td>\n",
       "      <td>NaN</td>\n",
       "    </tr>\n",
       "    <tr>\n",
       "      <th>1305</th>\n",
       "      <td>3</td>\n",
       "      <td>0</td>\n",
       "      <td>Zabour, Miss. Thamine</td>\n",
       "      <td>female</td>\n",
       "      <td>NaN</td>\n",
       "      <td>1</td>\n",
       "      <td>0</td>\n",
       "      <td>2665</td>\n",
       "      <td>14.4542</td>\n",
       "      <td>NaN</td>\n",
       "      <td>C</td>\n",
       "      <td>NaN</td>\n",
       "      <td>NaN</td>\n",
       "      <td>NaN</td>\n",
       "    </tr>\n",
       "    <tr>\n",
       "      <th>1306</th>\n",
       "      <td>3</td>\n",
       "      <td>0</td>\n",
       "      <td>Zakarian, Mr. Mapriededer</td>\n",
       "      <td>male</td>\n",
       "      <td>26.5</td>\n",
       "      <td>0</td>\n",
       "      <td>0</td>\n",
       "      <td>2656</td>\n",
       "      <td>7.2250</td>\n",
       "      <td>NaN</td>\n",
       "      <td>C</td>\n",
       "      <td>NaN</td>\n",
       "      <td>304.0</td>\n",
       "      <td>NaN</td>\n",
       "    </tr>\n",
       "    <tr>\n",
       "      <th>1307</th>\n",
       "      <td>3</td>\n",
       "      <td>0</td>\n",
       "      <td>Zakarian, Mr. Ortin</td>\n",
       "      <td>male</td>\n",
       "      <td>27.0</td>\n",
       "      <td>0</td>\n",
       "      <td>0</td>\n",
       "      <td>2670</td>\n",
       "      <td>7.2250</td>\n",
       "      <td>NaN</td>\n",
       "      <td>C</td>\n",
       "      <td>NaN</td>\n",
       "      <td>NaN</td>\n",
       "      <td>NaN</td>\n",
       "    </tr>\n",
       "    <tr>\n",
       "      <th>1308</th>\n",
       "      <td>3</td>\n",
       "      <td>0</td>\n",
       "      <td>Zimmerman, Mr. Leo</td>\n",
       "      <td>male</td>\n",
       "      <td>29.0</td>\n",
       "      <td>0</td>\n",
       "      <td>0</td>\n",
       "      <td>315082</td>\n",
       "      <td>7.8750</td>\n",
       "      <td>NaN</td>\n",
       "      <td>S</td>\n",
       "      <td>NaN</td>\n",
       "      <td>NaN</td>\n",
       "      <td>NaN</td>\n",
       "    </tr>\n",
       "  </tbody>\n",
       "</table>\n",
       "</div>"
      ],
      "text/plain": [
       "      pclass  survived                       name     sex   age  sibsp  parch  \\\n",
       "1304       3         0       Zabour, Miss. Hileni  female  14.5      1      0   \n",
       "1305       3         0      Zabour, Miss. Thamine  female   NaN      1      0   \n",
       "1306       3         0  Zakarian, Mr. Mapriededer    male  26.5      0      0   \n",
       "1307       3         0        Zakarian, Mr. Ortin    male  27.0      0      0   \n",
       "1308       3         0         Zimmerman, Mr. Leo    male  29.0      0      0   \n",
       "\n",
       "      ticket     fare cabin embarked boat   body home.dest  \n",
       "1304    2665  14.4542   NaN        C  NaN  328.0       NaN  \n",
       "1305    2665  14.4542   NaN        C  NaN    NaN       NaN  \n",
       "1306    2656   7.2250   NaN        C  NaN  304.0       NaN  \n",
       "1307    2670   7.2250   NaN        C  NaN    NaN       NaN  \n",
       "1308  315082   7.8750   NaN        S  NaN    NaN       NaN  "
      ]
     },
     "execution_count": 47,
     "metadata": {},
     "output_type": "execute_result"
    }
   ],
   "source": [
    "data.tail(5) # display 5 rows from the bottom"
   ]
  },
  {
   "cell_type": "code",
   "execution_count": 48,
   "metadata": {},
   "outputs": [
    {
     "name": "stdout",
     "output_type": "stream",
     "text": [
      "RangeIndex(start=0, stop=1309, step=1)\n",
      "Index(['pclass', 'survived', 'name', 'sex', 'age', 'sibsp', 'parch', 'ticket',\n",
      "       'fare', 'cabin', 'embarked', 'boat', 'body', 'home.dest'],\n",
      "      dtype='object')\n"
     ]
    }
   ],
   "source": [
    "print(data.index) # print index start, stop and step value\n",
    "print(data.columns) # print column names"
   ]
  },
  {
   "cell_type": "markdown",
   "metadata": {},
   "source": [
    "### Indexing and Slicing"
   ]
  },
  {
   "cell_type": "code",
   "execution_count": 49,
   "metadata": {},
   "outputs": [
    {
     "name": "stdout",
     "output_type": "stream",
     "text": [
      "0                      Allen, Miss. Elisabeth Walton\n",
      "1                     Allison, Master. Hudson Trevor\n",
      "2                       Allison, Miss. Helen Loraine\n",
      "3               Allison, Mr. Hudson Joshua Creighton\n",
      "4    Allison, Mrs. Hudson J C (Bessie Waldo Daniels)\n",
      "Name: name, dtype: object \n",
      "\n",
      "0                      Allen, Miss. Elisabeth Walton\n",
      "1                     Allison, Master. Hudson Trevor\n",
      "2                       Allison, Miss. Helen Loraine\n",
      "3               Allison, Mr. Hudson Joshua Creighton\n",
      "4    Allison, Mrs. Hudson J C (Bessie Waldo Daniels)\n",
      "Name: name, dtype: object \n",
      "\n",
      "                                              name      age\n",
      "0                    Allen, Miss. Elisabeth Walton  29.0000\n",
      "1                   Allison, Master. Hudson Trevor   0.9167\n",
      "2                     Allison, Miss. Helen Loraine   2.0000\n",
      "3             Allison, Mr. Hudson Joshua Creighton  30.0000\n",
      "4  Allison, Mrs. Hudson J C (Bessie Waldo Daniels)  25.0000 \n",
      "\n"
     ]
    }
   ],
   "source": [
    "print( data[\"name\"][:5] , '\\n') # print names of people from top 5 rows\n",
    "print( data.name[:5] , '\\n') # another way to access column\n",
    "print( data[[\"name\", \"age\"]][:5], '\\n') # display name and age from top 5 rows"
   ]
  },
  {
   "cell_type": "code",
   "execution_count": 50,
   "metadata": {},
   "outputs": [
    {
     "name": "stdout",
     "output_type": "stream",
     "text": [
      "   pclass  survived                                           name     sex  \\\n",
      "0       1         1                  Allen, Miss. Elisabeth Walton  female   \n",
      "1       1         1                 Allison, Master. Hudson Trevor    male   \n",
      "5       1         1                            Anderson, Mr. Harry    male   \n",
      "6       1         1              Andrews, Miss. Kornelia Theodosia  female   \n",
      "8       1         1  Appleton, Mrs. Edward Dale (Charlotte Lamson)  female   \n",
      "\n",
      "       age  sibsp  parch  ticket      fare    cabin embarked boat  body  \\\n",
      "0  29.0000      0      0   24160  211.3375       B5        S    2   NaN   \n",
      "1   0.9167      1      2  113781  151.5500  C22 C26        S   11   NaN   \n",
      "5  48.0000      0      0   19952   26.5500      E12        S    3   NaN   \n",
      "6  63.0000      1      0   13502   77.9583       D7        S   10   NaN   \n",
      "8  53.0000      2      0   11769   51.4792     C101        S    D   NaN   \n",
      "\n",
      "                         home.dest  \n",
      "0                     St Louis, MO  \n",
      "1  Montreal, PQ / Chesterville, ON  \n",
      "5                     New York, NY  \n",
      "6                       Hudson, NY  \n",
      "8              Bayside, Queens, NY  \n"
     ]
    }
   ],
   "source": [
    "# Boolean indexing - create subset of people who survived\n",
    "survived = data[data.survived==1] \n",
    "print(survived.head(5))"
   ]
  },
  {
   "cell_type": "code",
   "execution_count": 51,
   "metadata": {},
   "outputs": [
    {
     "name": "stdout",
     "output_type": "stream",
     "text": [
      "51    101\n",
      "52    102\n",
      "53    103\n",
      "54    104\n",
      "dtype: int64\n"
     ]
    }
   ],
   "source": [
    "# iloc: select rows by integer row number\n",
    "s = pd.Series([101,102,103,104,105,106,107,108,109,110],index=[51,52,53,54,55,1,2,3,4,5])\n",
    "print(s.iloc[:4])    #Returns first 4 rows since it looks at the position"
   ]
  },
  {
   "cell_type": "code",
   "execution_count": 52,
   "metadata": {},
   "outputs": [
    {
     "data": {
      "text/plain": [
       "51    101\n",
       "52    102\n",
       "53    103\n",
       "54    104\n",
       "55    105\n",
       "1     106\n",
       "2     107\n",
       "3     108\n",
       "4     109\n",
       "dtype: int64"
      ]
     },
     "execution_count": 52,
     "metadata": {},
     "output_type": "execute_result"
    }
   ],
   "source": [
    "## loc: select by index\n",
    "s.loc[:4]     #Returns the elements up to index 4 since it looks at the labels"
   ]
  },
  {
   "cell_type": "markdown",
   "metadata": {},
   "source": [
    "## Data Aggregation and Grouping"
   ]
  },
  {
   "cell_type": "code",
   "execution_count": 53,
   "metadata": {},
   "outputs": [
    {
     "name": "stdout",
     "output_type": "stream",
     "text": [
      "        survived  name  sex  age  sibsp  parch  ticket  fare  cabin  embarked  \\\n",
      "pclass                                                                          \n",
      "1            323   323  323  284    323    323     323   323    256       321   \n",
      "2            277   277  277  261    277    277     277   277     23       277   \n",
      "3            709   709  709  501    709    709     709   708     16       709   \n",
      "\n",
      "        boat  body  home.dest  \n",
      "pclass                         \n",
      "1        201    35        289  \n",
      "2        112    31        261  \n",
      "3        173    55        195  \n"
     ]
    }
   ],
   "source": [
    "g1 = data.groupby(['pclass']).count()      #Pclass becomes Index having unique values as labels of index\n",
    "print(g1)"
   ]
  },
  {
   "cell_type": "code",
   "execution_count": 54,
   "metadata": {},
   "outputs": [
    {
     "name": "stdout",
     "output_type": "stream",
     "text": [
      "        survived        age     sibsp     parch       fare        body\n",
      "pclass                                                                \n",
      "1       0.619195  39.159918  0.436533  0.365325  87.508992  162.828571\n",
      "2       0.429603  29.506705  0.393502  0.368231  21.179196  167.387097\n",
      "3       0.255289  24.816367  0.568406  0.400564  13.302889  155.818182\n"
     ]
    }
   ],
   "source": [
    "#Beacuse we are taking mean which can only be performed over numerical values.\n",
    "#So all columns having string  were dropped automatically\n",
    "\n",
    "g1 = data.groupby(['pclass']).mean()      \n",
    "print(g1)"
   ]
  },
  {
   "cell_type": "code",
   "execution_count": 55,
   "metadata": {},
   "outputs": [
    {
     "name": "stdout",
     "output_type": "stream",
     "text": [
      "pclass\n",
      "1    87.508992\n",
      "2    21.179196\n",
      "3    13.302889\n",
      "Name: fare, dtype: float64\n"
     ]
    }
   ],
   "source": [
    "g1 = data.groupby(['pclass']).mean()['fare']\n",
    "print(g1)"
   ]
  },
  {
   "cell_type": "code",
   "execution_count": 56,
   "metadata": {},
   "outputs": [
    {
     "name": "stdout",
     "output_type": "stream",
     "text": [
      "   pclass  survived        age     sibsp     parch       fare        body\n",
      "0       1  0.619195  39.159918  0.436533  0.365325  87.508992  162.828571\n",
      "1       2  0.429603  29.506705  0.393502  0.368231  21.179196  167.387097\n",
      "2       3  0.255289  24.816367  0.568406  0.400564  13.302889  155.818182\n"
     ]
    }
   ],
   "source": [
    "g1 = data.groupby(['pclass']).mean().reset_index()\n",
    "print(g1)"
   ]
  },
  {
   "cell_type": "code",
   "execution_count": 57,
   "metadata": {},
   "outputs": [
    {
     "name": "stdout",
     "output_type": "stream",
     "text": [
      "                 name  sex  age  sibsp  parch  ticket  fare  cabin  embarked  \\\n",
      "pclass survived                                                                \n",
      "1      0          123  123  103    123    123     123   123     89       123   \n",
      "       1          200  200  181    200    200     200   200    167       198   \n",
      "2      0          158  158  146    158    158     158   158      6       158   \n",
      "       1          119  119  115    119    119     119   119     17       119   \n",
      "3      0          528  528  370    528    528     528   527      7       528   \n",
      "       1          181  181  131    181    181     181   181      9       181   \n",
      "\n",
      "                 boat  body  home.dest  \n",
      "pclass survived                         \n",
      "1      0            2    35        114  \n",
      "       1          199     0        175  \n",
      "2      0            1    31        144  \n",
      "       1          111     0        117  \n",
      "3      0            6    55        140  \n",
      "       1          167     0         55  \n"
     ]
    }
   ],
   "source": [
    "# Here we have hierarchical index\n",
    "g1 = data.groupby(['pclass','survived']).count()    \n",
    "print (g1)"
   ]
  },
  {
   "cell_type": "code",
   "execution_count": 58,
   "metadata": {},
   "outputs": [
    {
     "name": "stdout",
     "output_type": "stream",
     "text": [
      "          age                                                        body  \\\n",
      "        count       mean        std     min   25%   50%   75%   max count   \n",
      "pclass                                                                      \n",
      "1       284.0  39.159918  14.548059  0.9167  28.0  39.0  50.0  80.0  35.0   \n",
      "2       261.0  29.506705  13.638628  0.6667  22.0  29.0  36.0  70.0  31.0   \n",
      "3       501.0  24.816367  11.958202  0.1667  18.0  24.0  32.0  74.0  55.0   \n",
      "\n",
      "                   ...  sibsp      survived                                \\\n",
      "              mean ...    75%  max    count      mean       std  min  25%   \n",
      "pclass             ...                                                      \n",
      "1       162.828571 ...    1.0  3.0    323.0  0.619195  0.486338  0.0  0.0   \n",
      "2       167.387097 ...    1.0  3.0    277.0  0.429603  0.495915  0.0  0.0   \n",
      "3       155.818182 ...    1.0  8.0    709.0  0.255289  0.436331  0.0  0.0   \n",
      "\n",
      "                       \n",
      "        50%  75%  max  \n",
      "pclass                 \n",
      "1       1.0  1.0  1.0  \n",
      "2       0.0  1.0  1.0  \n",
      "3       0.0  1.0  1.0  \n",
      "\n",
      "[3 rows x 48 columns]\n"
     ]
    }
   ],
   "source": [
    "g1 = data.groupby(['pclass']).describe()\n",
    "print(g1)"
   ]
  },
  {
   "cell_type": "code",
   "execution_count": 59,
   "metadata": {},
   "outputs": [
    {
     "data": {
      "text/html": [
       "<div>\n",
       "<style scoped>\n",
       "    .dataframe tbody tr th:only-of-type {\n",
       "        vertical-align: middle;\n",
       "    }\n",
       "\n",
       "    .dataframe tbody tr th {\n",
       "        vertical-align: top;\n",
       "    }\n",
       "\n",
       "    .dataframe thead th {\n",
       "        text-align: right;\n",
       "    }\n",
       "</style>\n",
       "<table border=\"1\" class=\"dataframe\">\n",
       "  <thead>\n",
       "    <tr style=\"text-align: right;\">\n",
       "      <th></th>\n",
       "      <th>Company</th>\n",
       "      <th>Marks</th>\n",
       "      <th>Name</th>\n",
       "      <th>Sales</th>\n",
       "      <th>Subject</th>\n",
       "    </tr>\n",
       "  </thead>\n",
       "  <tbody>\n",
       "    <tr>\n",
       "      <th>0</th>\n",
       "      <td>NaN</td>\n",
       "      <td>30.0</td>\n",
       "      <td>ABC</td>\n",
       "      <td>NaN</td>\n",
       "      <td>Maths</td>\n",
       "    </tr>\n",
       "    <tr>\n",
       "      <th>1</th>\n",
       "      <td>NaN</td>\n",
       "      <td>50.0</td>\n",
       "      <td>BCD</td>\n",
       "      <td>NaN</td>\n",
       "      <td>science</td>\n",
       "    </tr>\n",
       "    <tr>\n",
       "      <th>2</th>\n",
       "      <td>NaN</td>\n",
       "      <td>20.0</td>\n",
       "      <td>CDE</td>\n",
       "      <td>NaN</td>\n",
       "      <td>History</td>\n",
       "    </tr>\n",
       "    <tr>\n",
       "      <th>0</th>\n",
       "      <td>Apple</td>\n",
       "      <td>NaN</td>\n",
       "      <td>NaN</td>\n",
       "      <td>2000.0</td>\n",
       "      <td>NaN</td>\n",
       "    </tr>\n",
       "    <tr>\n",
       "      <th>1</th>\n",
       "      <td>Google</td>\n",
       "      <td>NaN</td>\n",
       "      <td>NaN</td>\n",
       "      <td>3000.0</td>\n",
       "      <td>NaN</td>\n",
       "    </tr>\n",
       "    <tr>\n",
       "      <th>2</th>\n",
       "      <td>Yahoo</td>\n",
       "      <td>NaN</td>\n",
       "      <td>NaN</td>\n",
       "      <td>1000.0</td>\n",
       "      <td>NaN</td>\n",
       "    </tr>\n",
       "  </tbody>\n",
       "</table>\n",
       "</div>"
      ],
      "text/plain": [
       "  Company  Marks Name   Sales  Subject\n",
       "0     NaN   30.0  ABC     NaN    Maths\n",
       "1     NaN   50.0  BCD     NaN  science\n",
       "2     NaN   20.0  CDE     NaN  History\n",
       "0   Apple    NaN  NaN  2000.0      NaN\n",
       "1  Google    NaN  NaN  3000.0      NaN\n",
       "2   Yahoo    NaN  NaN  1000.0      NaN"
      ]
     },
     "execution_count": 59,
     "metadata": {},
     "output_type": "execute_result"
    }
   ],
   "source": [
    "df1 = pd.DataFrame({'Subject':['Maths','science','History'],\n",
    "                  'Marks':[30,50,20],\n",
    "                  'Name':['ABC','BCD','CDE']})\n",
    "\n",
    "\n",
    "df2 = pd.DataFrame({'Company':['Apple','Google','Yahoo'],\n",
    "                  'Sales':[2000,3000,1000]})\n",
    "\n",
    "pd.concat([df1,df2])"
   ]
  },
  {
   "cell_type": "code",
   "execution_count": 60,
   "metadata": {},
   "outputs": [
    {
     "data": {
      "text/html": [
       "<div>\n",
       "<style scoped>\n",
       "    .dataframe tbody tr th:only-of-type {\n",
       "        vertical-align: middle;\n",
       "    }\n",
       "\n",
       "    .dataframe tbody tr th {\n",
       "        vertical-align: top;\n",
       "    }\n",
       "\n",
       "    .dataframe thead th {\n",
       "        text-align: right;\n",
       "    }\n",
       "</style>\n",
       "<table border=\"1\" class=\"dataframe\">\n",
       "  <thead>\n",
       "    <tr style=\"text-align: right;\">\n",
       "      <th></th>\n",
       "      <th>Marks</th>\n",
       "      <th>Name</th>\n",
       "      <th>Subject</th>\n",
       "      <th>Company</th>\n",
       "      <th>Sales</th>\n",
       "    </tr>\n",
       "  </thead>\n",
       "  <tbody>\n",
       "    <tr>\n",
       "      <th>0</th>\n",
       "      <td>30</td>\n",
       "      <td>ABC</td>\n",
       "      <td>Maths</td>\n",
       "      <td>Apple</td>\n",
       "      <td>2000</td>\n",
       "    </tr>\n",
       "    <tr>\n",
       "      <th>1</th>\n",
       "      <td>50</td>\n",
       "      <td>BCD</td>\n",
       "      <td>science</td>\n",
       "      <td>Google</td>\n",
       "      <td>3000</td>\n",
       "    </tr>\n",
       "    <tr>\n",
       "      <th>2</th>\n",
       "      <td>20</td>\n",
       "      <td>CDE</td>\n",
       "      <td>History</td>\n",
       "      <td>Yahoo</td>\n",
       "      <td>1000</td>\n",
       "    </tr>\n",
       "  </tbody>\n",
       "</table>\n",
       "</div>"
      ],
      "text/plain": [
       "   Marks Name  Subject Company  Sales\n",
       "0     30  ABC    Maths   Apple   2000\n",
       "1     50  BCD  science  Google   3000\n",
       "2     20  CDE  History   Yahoo   1000"
      ]
     },
     "execution_count": 60,
     "metadata": {},
     "output_type": "execute_result"
    }
   ],
   "source": [
    "pd.concat([df1,df2],axis=1) #concatenate along x-axis"
   ]
  },
  {
   "cell_type": "code",
   "execution_count": 61,
   "metadata": {},
   "outputs": [
    {
     "name": "stdout",
     "output_type": "stream",
     "text": [
      "inner join\n",
      "    data1 key  data2\n",
      "0      0   b      1\n",
      "1      1   b      1\n",
      "2      6   b      1\n",
      "3      2   a      0\n",
      "4      4   a      0\n",
      "5      5   a      0\n",
      "outer join\n",
      "    data1 key  data2\n",
      "0    0.0   b    1.0\n",
      "1    1.0   b    1.0\n",
      "2    6.0   b    1.0\n",
      "3    2.0   a    0.0\n",
      "4    4.0   a    0.0\n",
      "5    5.0   a    0.0\n",
      "6    3.0   c    NaN\n",
      "7    NaN   d    2.0\n"
     ]
    }
   ],
   "source": [
    "df1 = pd.DataFrame({ 'key': ['b', 'b', 'a', 'c', 'a', 'a', 'b'], 'data1' : range(7) })\n",
    "df2 = pd.DataFrame({ 'key': ['a', 'b', 'd'], 'data2': range(3)})\n",
    "## many-to-one inner join\n",
    "print(\"inner join\\n\", pd.merge(df1, df2))\n",
    "## many-to-one outer join\n",
    "print(\"outer join\\n\", pd.merge(df1, df2, how='outer'))"
   ]
  },
  {
   "cell_type": "code",
   "execution_count": 62,
   "metadata": {},
   "outputs": [
    {
     "name": "stdout",
     "output_type": "stream",
     "text": [
      "many-to-many left join\n",
      "     data3 key  data4\n",
      "0       0   b    1.0\n",
      "1       0   b    3.0\n",
      "2       1   b    1.0\n",
      "3       1   b    3.0\n",
      "4       2   a    0.0\n",
      "5       2   a    2.0\n",
      "6       3   c    NaN\n",
      "7       4   a    0.0\n",
      "8       4   a    2.0\n",
      "9       5   b    1.0\n",
      "10      5   b    3.0\n"
     ]
    }
   ],
   "source": [
    "## Many-to-many joins\n",
    "df3 = pd.DataFrame({'key': ['b', 'b', 'a', 'c', 'a', 'b'], 'data3': range(6)})\n",
    "df4 = pd.DataFrame({'key': ['a', 'b', 'a', 'b', 'd'], 'data4': range(5)})\n",
    "print(\"many-to-many left join\\n\", pd.merge(df3, df4, on='key', how='left'))"
   ]
  },
  {
   "cell_type": "code",
   "execution_count": 63,
   "metadata": {},
   "outputs": [
    {
     "name": "stdout",
     "output_type": "stream",
     "text": [
      "long form\n",
      " state  number\n",
      "OH     one       0\n",
      "       two       1\n",
      "       three     2\n",
      "CO     one       3\n",
      "       two       4\n",
      "       three     5\n",
      "dtype: int32\n",
      "wide form\n",
      " number  one  two  three\n",
      "state                  \n",
      "OH        0    1      2\n",
      "CO        3    4      5\n",
      "wide with 0-level in columns:\n",
      " state   OH  CO\n",
      "number        \n",
      "one      0   3\n",
      "two      1   4\n",
      "three    2   5\n"
     ]
    }
   ],
   "source": [
    "data = pd.DataFrame(np.arange(6).reshape((2,3)), index=pd.Index(['OH','CO'], name='state'), columns=pd.Index(['one', 'two', 'three'], name='number'))\n",
    "long = data.stack() # pivot a level of the column labels returning a hierachical index\n",
    "print(\"long form\\n\", long)\n",
    "wide = long.unstack()\n",
    "print('wide form\\n', wide)\n",
    "print('wide with 0-level in columns:\\n', long.unstack(0))"
   ]
  },
  {
   "cell_type": "markdown",
   "metadata": {},
   "source": [
    "## Basic Statistics"
   ]
  },
  {
   "cell_type": "code",
   "execution_count": 64,
   "metadata": {},
   "outputs": [
    {
     "data": {
      "text/html": [
       "<div>\n",
       "<style scoped>\n",
       "    .dataframe tbody tr th:only-of-type {\n",
       "        vertical-align: middle;\n",
       "    }\n",
       "\n",
       "    .dataframe tbody tr th {\n",
       "        vertical-align: top;\n",
       "    }\n",
       "\n",
       "    .dataframe thead th {\n",
       "        text-align: right;\n",
       "    }\n",
       "</style>\n",
       "<table border=\"1\" class=\"dataframe\">\n",
       "  <thead>\n",
       "    <tr style=\"text-align: right;\">\n",
       "      <th></th>\n",
       "      <th>name</th>\n",
       "      <th>age</th>\n",
       "      <th>preTestScore</th>\n",
       "      <th>postTestScore</th>\n",
       "    </tr>\n",
       "  </thead>\n",
       "  <tbody>\n",
       "    <tr>\n",
       "      <th>0</th>\n",
       "      <td>Jason</td>\n",
       "      <td>42</td>\n",
       "      <td>4</td>\n",
       "      <td>25</td>\n",
       "    </tr>\n",
       "    <tr>\n",
       "      <th>1</th>\n",
       "      <td>Molly</td>\n",
       "      <td>52</td>\n",
       "      <td>24</td>\n",
       "      <td>94</td>\n",
       "    </tr>\n",
       "    <tr>\n",
       "      <th>2</th>\n",
       "      <td>Tina</td>\n",
       "      <td>36</td>\n",
       "      <td>31</td>\n",
       "      <td>57</td>\n",
       "    </tr>\n",
       "    <tr>\n",
       "      <th>3</th>\n",
       "      <td>Jake</td>\n",
       "      <td>24</td>\n",
       "      <td>2</td>\n",
       "      <td>62</td>\n",
       "    </tr>\n",
       "    <tr>\n",
       "      <th>4</th>\n",
       "      <td>Amy</td>\n",
       "      <td>73</td>\n",
       "      <td>3</td>\n",
       "      <td>70</td>\n",
       "    </tr>\n",
       "  </tbody>\n",
       "</table>\n",
       "</div>"
      ],
      "text/plain": [
       "    name  age  preTestScore  postTestScore\n",
       "0  Jason   42             4             25\n",
       "1  Molly   52            24             94\n",
       "2   Tina   36            31             57\n",
       "3   Jake   24             2             62\n",
       "4    Amy   73             3             70"
      ]
     },
     "execution_count": 64,
     "metadata": {},
     "output_type": "execute_result"
    }
   ],
   "source": [
    "data = {'name': ['Jason', 'Molly', 'Tina', 'Jake', 'Amy'],\n",
    "        'age': [42, 52, 36, 24, 73],\n",
    "        'preTestScore': [4, 24, 31, 2, 3],\n",
    "        'postTestScore': [25, 94, 57, 62, 70]}\n",
    "df = pd.DataFrame(data, columns = ['name', 'age', 'preTestScore', 'postTestScore'])\n",
    "df"
   ]
  },
  {
   "cell_type": "code",
   "execution_count": 65,
   "metadata": {},
   "outputs": [
    {
     "data": {
      "text/plain": [
       "227"
      ]
     },
     "execution_count": 65,
     "metadata": {},
     "output_type": "execute_result"
    }
   ],
   "source": [
    "df['age'].sum()     #Sum of all ages"
   ]
  },
  {
   "cell_type": "code",
   "execution_count": 66,
   "metadata": {},
   "outputs": [
    {
     "data": {
      "text/plain": [
       "0     71\n",
       "1    170\n",
       "2    124\n",
       "3     88\n",
       "4    146\n",
       "dtype: int64"
      ]
     },
     "execution_count": 66,
     "metadata": {},
     "output_type": "execute_result"
    }
   ],
   "source": [
    "df.sum(axis=1) # Sum of ages along axis"
   ]
  },
  {
   "cell_type": "code",
   "execution_count": 67,
   "metadata": {},
   "outputs": [
    {
     "data": {
      "text/plain": [
       "12.8"
      ]
     },
     "execution_count": 67,
     "metadata": {},
     "output_type": "execute_result"
    }
   ],
   "source": [
    "df['preTestScore'].mean()"
   ]
  },
  {
   "cell_type": "code",
   "execution_count": 68,
   "metadata": {},
   "outputs": [
    {
     "data": {
      "text/html": [
       "<div>\n",
       "<style scoped>\n",
       "    .dataframe tbody tr th:only-of-type {\n",
       "        vertical-align: middle;\n",
       "    }\n",
       "\n",
       "    .dataframe tbody tr th {\n",
       "        vertical-align: top;\n",
       "    }\n",
       "\n",
       "    .dataframe thead th {\n",
       "        text-align: right;\n",
       "    }\n",
       "</style>\n",
       "<table border=\"1\" class=\"dataframe\">\n",
       "  <thead>\n",
       "    <tr style=\"text-align: right;\">\n",
       "      <th></th>\n",
       "      <th>age</th>\n",
       "      <th>preTestScore</th>\n",
       "      <th>postTestScore</th>\n",
       "    </tr>\n",
       "  </thead>\n",
       "  <tbody>\n",
       "    <tr>\n",
       "      <th>age</th>\n",
       "      <td>1.000000</td>\n",
       "      <td>-0.105651</td>\n",
       "      <td>0.328852</td>\n",
       "    </tr>\n",
       "    <tr>\n",
       "      <th>preTestScore</th>\n",
       "      <td>-0.105651</td>\n",
       "      <td>1.000000</td>\n",
       "      <td>0.378039</td>\n",
       "    </tr>\n",
       "    <tr>\n",
       "      <th>postTestScore</th>\n",
       "      <td>0.328852</td>\n",
       "      <td>0.378039</td>\n",
       "      <td>1.000000</td>\n",
       "    </tr>\n",
       "  </tbody>\n",
       "</table>\n",
       "</div>"
      ],
      "text/plain": [
       "                    age  preTestScore  postTestScore\n",
       "age            1.000000     -0.105651       0.328852\n",
       "preTestScore  -0.105651      1.000000       0.378039\n",
       "postTestScore  0.328852      0.378039       1.000000"
      ]
     },
     "execution_count": 68,
     "metadata": {},
     "output_type": "execute_result"
    }
   ],
   "source": [
    "df.corr() #finding correlations"
   ]
  },
  {
   "cell_type": "code",
   "execution_count": 69,
   "metadata": {},
   "outputs": [
    {
     "data": {
      "text/plain": [
       "count     5.000000\n",
       "mean     12.800000\n",
       "std      13.663821\n",
       "min       2.000000\n",
       "25%       3.000000\n",
       "50%       4.000000\n",
       "75%      24.000000\n",
       "max      31.000000\n",
       "Name: preTestScore, dtype: float64"
      ]
     },
     "execution_count": 69,
     "metadata": {},
     "output_type": "execute_result"
    }
   ],
   "source": [
    "df['preTestScore'].describe()"
   ]
  },
  {
   "cell_type": "markdown",
   "metadata": {},
   "source": [
    "## Matplotlib"
   ]
  },
  {
   "cell_type": "markdown",
   "metadata": {},
   "source": [
    "Matplotlib is capable of creating most kinds of charts, like line graphs, scatter plots, bar charts, pie charts, stack plots, 3D graphs, and geographic map graphs.\n",
    "\n",
    "install via\n",
    "pip install matplotlib\n",
    "\n",
    "Some Notes :\n",
    "1) matplotlib.pyplot is a collection of command style functions that make matplotlib work like MATLAB.\n",
    "\n",
    "2) Each pyplot function makes some change to a figure: e.g., creates a figure, creates a plotting area in a figure, plots some lines in a plotting area, decorates the plot with labels, etc.\n",
    "\n",
    "3) In matplotlib.pyplot various states are preserved across function calls, so that it keeps track of things like the current figure and plotting area, and the plotting functions are directed to the current axes"
   ]
  },
  {
   "cell_type": "code",
   "execution_count": 70,
   "metadata": {},
   "outputs": [],
   "source": [
    "import matplotlib.pyplot as plt\n",
    "%matplotlib inline"
   ]
  },
  {
   "cell_type": "code",
   "execution_count": 71,
   "metadata": {},
   "outputs": [
    {
     "data": {
      "image/png": "[encoded data removed]",
      "text/plain": [
       "<matplotlib.figure.Figure at 0x1c8cd4e8748>"
      ]
     },
     "metadata": {},
     "output_type": "display_data"
    }
   ],
   "source": [
    "#plotting with index as x coordinate\n",
    "x=[1,2,3,4]\n",
    "plt.plot(x)\n",
    "plt.show()"
   ]
  },
  {
   "cell_type": "code",
   "execution_count": 72,
   "metadata": {},
   "outputs": [
    {
     "data": {
      "image/png": "[encoded data removed]",
      "text/plain": [
       "<matplotlib.figure.Figure at 0x1c8cd5cb470>"
      ]
     },
     "metadata": {},
     "output_type": "display_data"
    }
   ],
   "source": [
    "#Plotting x,y\n",
    "x=[1,2,3,4]\n",
    "y=[2,4,4,3]\n",
    "plt.plot(x,y)\n",
    "plt.show()"
   ]
  },
  {
   "cell_type": "code",
   "execution_count": 73,
   "metadata": {},
   "outputs": [
    {
     "data": {
      "image/png": "[encoded data removed]",
      "text/plain": [
       "<matplotlib.figure.Figure at 0x1c8cd5cb828>"
      ]
     },
     "metadata": {},
     "output_type": "display_data"
    }
   ],
   "source": [
    "#plot with grid on\n",
    "x=[1,2,3,4]\n",
    "y=[2,4,4,3]\n",
    "plt.plot(x,y)\n",
    "plt.grid(True)\n",
    "plt.show()"
   ]
  },
  {
   "cell_type": "code",
   "execution_count": 74,
   "metadata": {},
   "outputs": [
    {
     "data": {
      "image/png": "[encoded data removed]",
      "text/plain": [
       "<matplotlib.figure.Figure at 0x1c8cb8a3f98>"
      ]
     },
     "metadata": {},
     "output_type": "display_data"
    }
   ],
   "source": [
    "#change colors\n",
    "plt.plot(x,'r')\n",
    "plt.show()"
   ]
  },
  {
   "cell_type": "code",
   "execution_count": 75,
   "metadata": {},
   "outputs": [
    {
     "data": {
      "image/png": "[encoded data removed]",
      "text/plain": [
       "<matplotlib.figure.Figure at 0x1c8cd647a58>"
      ]
     },
     "metadata": {},
     "output_type": "display_data"
    }
   ],
   "source": [
    "#adding labels and titles\n",
    "x=[1,2,3,4]\n",
    "plt.plot(x)\n",
    "plt.xlabel(\"Some X Label\")\n",
    "plt.ylabel(\"Some Y Label\")\n",
    "plt.title(\"Some title\")\n",
    "plt.show()"
   ]
  },
  {
   "cell_type": "code",
   "execution_count": 76,
   "metadata": {},
   "outputs": [
    {
     "data": {
      "image/png": "[encoded data removed]",
      "text/plain": [
       "<matplotlib.figure.Figure at 0x1c8ce9f6c88>"
      ]
     },
     "metadata": {},
     "output_type": "display_data"
    }
   ],
   "source": [
    "#adding annotations\n",
    "x=[1,2,3,3,4]\n",
    "y=[2,4,4,3,3]\n",
    "plt.plot(x,y,'ro')\n",
    "plt.grid(True)\n",
    "plt.annotate('special point', xy=(3, 3), xytext=(3, 3))\n",
    "plt.show()"
   ]
  },
  {
   "cell_type": "code",
   "execution_count": 77,
   "metadata": {},
   "outputs": [
    {
     "data": {
      "image/png": "[encoded data removed]",
      "text/plain": [
       "<matplotlib.figure.Figure at 0x1c8ccd67da0>"
      ]
     },
     "metadata": {},
     "output_type": "display_data"
    }
   ],
   "source": [
    "# adding legends\n",
    "x=[1,2,3,4]\n",
    "plt.plot(x, label='I am legend !!')\n",
    "plt.xlabel(\"Some X Label\")\n",
    "plt.ylabel(\"Some Y Label\")\n",
    "plt.title(\"Some title\")\n",
    "plt.legend()\n",
    "plt.show()"
   ]
  },
  {
   "cell_type": "code",
   "execution_count": 78,
   "metadata": {},
   "outputs": [
    {
     "data": {
      "image/png": "[encoded data removed]",
      "text/plain": [
       "<matplotlib.figure.Figure at 0x1c8ceb0d3c8>"
      ]
     },
     "metadata": {},
     "output_type": "display_data"
    }
   ],
   "source": [
    "# plotting multiple curves\n",
    "# red dashes, blue squares and green triangles\n",
    "t=np.arange(0,1,0.001)\n",
    "plt.plot(t, t, 'r--',label='curve1')\n",
    "plt.plot(t, t**0.2,'bs',label='curve2')\n",
    "plt.plot(t, t**0.3,'g^' ,label='curve3')\n",
    "plt.plot(t,np.sin(t),'m4',label='curve4' )\n",
    "plt.xlabel(\"Some X Label\")\n",
    "plt.ylabel(\"Some Y Label\")\n",
    "plt.title(\"Some title\")\n",
    "plt.legend(loc=0,title=\"all curves\")\n",
    "plt.show()"
   ]
  },
  {
   "cell_type": "code",
   "execution_count": 80,
   "metadata": {},
   "outputs": [
    {
     "data": {
      "image/png": "[encoded data removed]",
      "text/plain": [
       "<matplotlib.figure.Figure at 0x1c8cf161978>"
      ]
     },
     "metadata": {},
     "output_type": "display_data"
    }
   ],
   "source": [
    "# multiple graphs in one subplot window\n",
    "\n",
    "t1 = np.arange(0.0, 10.0, 0.1)\n",
    "f=plt.figure()\n",
    "# change figure dimensions\n",
    "f.set_figheight(15)\n",
    "f.set_figwidth(15)\n",
    "\n",
    "ax=plt.subplot(221)\n",
    "plt.plot(t1, np.sin(t1), 'bo')\n",
    "ax.set_title(\"Title for first plot\")\n",
    "ax.set_xlabel(\"xlabel1\")\n",
    "ax.set_ylabel(\"ylabel1\")\n",
    "\n",
    "ax=plt.subplot(222)\n",
    "plt.plot(t1, np.cos(t1), 'r--')\n",
    "ax.set_title(\"Title for second plot\")\n",
    "ax.set_xlabel(\"xlabel2\")\n",
    "ax.set_ylabel(\"ylabel2\")\n",
    "\n",
    "ax=plt.subplot(223)\n",
    "plt.plot(t1, np.sin(t1)+np.cos(t1), 'g1')\n",
    "ax.set_title(\"Title for third plot\")\n",
    "ax.set_xlabel(\"xlabel3\")\n",
    "ax.set_ylabel(\"ylabel3\")\n",
    "\n",
    "ax=plt.subplot(224)\n",
    "plt.plot(t1, 'bp')\n",
    "ax.set_title(\"Title for fourth plot\")\n",
    "ax.set_xlabel(\"xlabel4\")\n",
    "ax.set_ylabel(\"ylabel4\")\n",
    "\n",
    "\n",
    "plt.show()"
   ]
  },
  {
   "cell_type": "code",
   "execution_count": 81,
   "metadata": {},
   "outputs": [
    {
     "data": {
      "image/png": "[encoded data removed]",
      "text/plain": [
       "<matplotlib.figure.Figure at 0x1c8cf137b00>"
      ]
     },
     "metadata": {},
     "output_type": "display_data"
    }
   ],
   "source": [
    "# x-axis sharing\n",
    "x=np.array([1,2,3,4])\n",
    "y=np.array([3,4,5,6])\n",
    "\n",
    "f, axarr = plt.subplots(2, sharex=True)\n",
    "axarr[0].plot(x, y)\n",
    "axarr[0].set_title('Sharing X axis')\n",
    "axarr[1].plot(x, y**2)\n",
    "\n",
    "plt.show()"
   ]
  },
  {
   "cell_type": "code",
   "execution_count": null,
   "metadata": {},
   "outputs": [],
   "source": []
  }
 ],
 "metadata": {
  "kernelspec": {
   "display_name": "Python 3",
   "language": "python",
   "name": "python3"
  },
  "language_info": {
   "codemirror_mode": {
    "name": "ipython",
    "version": 3
   },
   "file_extension": ".py",
   "mimetype": "text/x-python",
   "name": "python",
   "nbconvert_exporter": "python",
   "pygments_lexer": "ipython3",
   "version": "3.6.4"
  }
 },
 "nbformat": 4,
 "nbformat_minor": 2
}
