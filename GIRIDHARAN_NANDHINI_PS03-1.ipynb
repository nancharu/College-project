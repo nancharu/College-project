{
 "cells": [
  {
   "cell_type": "markdown",
   "metadata": {
    "ein.tags": "worksheet-0",
    "slideshow": {
     "slide_type": "-"
    }
   },
   "source": [
    "# Problem Set 3, due Wednesday, May 3rd, 5:30pm."
   ]
  },
  {
   "cell_type": "markdown",
   "metadata": {
    "ein.tags": "worksheet-0",
    "slideshow": {
     "slide_type": "-"
    }
   },
   "source": [
    "## Introduction to the assignment\n",
    "\n",
    "For this assignment, you will be using data from the [Progresa\n",
    "program](http://en.wikipedia.org/wiki/Oportunidades), a government\n",
    "social assistance program in Mexico. This program, as well as the\n",
    "details of its impact, are described in the paper \"[School subsidies\n",
    "for the poor: evaluating the Mexican Progresa poverty\n",
    "program](http://www.sciencedirect.com/science/article/pii/S0304387803001858)\",\n",
    "by Paul Shultz (available on Canvas).  The data\n",
    "(progresa_sample.csv.gz) is available on canvas\n",
    "in files/data.\n",
    "\n",
    "Please read the paper to familiarize yourself with\n",
    "the PROGRESA program before beginning this problem set, so you have a\n",
    "rough sense of where the data come from and how they were\n",
    "generated. If you just proceed into the problem set without\n",
    "understanding Progresa or the data, it will be very difficult!\n",
    "\n",
    "The goal of this problem set is to implement some of the basic\n",
    "econometric techniques that you are learning in class to measure the\n",
    "impact of Progresa on secondary school enrollment rates, in particular\n",
    "differences-in-differences.  Your task is to **estimate the impact of\n",
    "_progresa_ subsidies on the school attendance**.  Note: this asks to\n",
    "estimate a causal effect.\n",
    "\n",
    "The timeline of the program was:\n",
    "\n",
    " * Baseline survey conducted in 1997\n",
    " * Intervention begins in 1998, \"Wave 1\" of data collected in 1998\n",
    " * \"Wave 2 of data\" collected in 1999\n",
    " * Evaluation ends in 2000, at which point the control villages were treated. \n",
    " \n",
    "When you are ready, download the progresa_sample.csv data from\n",
    "Canvas. The data are actual data collected to evaluate the impact of\n",
    "the Progresa program.  In this file, each row corresponds to an\n",
    "observation taken for a given child for a given year. There are two\n",
    "years of data (1997 and 1998), and just under 40,000 children who are\n",
    "surveyed in both years.  For each child-year observation, the\n",
    "following variables are collected:\n",
    "\n",
    "| Variable name | Description|\n",
    "|------|------|\n",
    "|year\t  |year in which data is collected\n",
    "|sex\t  |male = 1|\n",
    "|indig\t  |indigenous = 1|\n",
    "|dist_sec |nearest distance to a secondary school|\n",
    "|sc\t      |enrolled in school in year of survey (=1)|\n",
    "|grc      |grade enrolled|\n",
    "|fam_n    |family size|\n",
    "|min_dist |\tmin distance to an urban center|\n",
    "|dist_cap |\tmin distance to the capital|\n",
    "|poor     |\tpoor = \"pobre\", not poor = \"no pobre\"|\n",
    "|progresa |treatment = \"basal\", control = \"0\"|\n",
    "|hohedu\t  |years of schooling of head of household|\n",
    "|hohwag\t  |monthly wages of head of household|\n",
    "|welfare_index|\twelfare index used to classify poor|\n",
    "|hohsex\t|gender of head of household (male=1)|\n",
    "|hohage\t|age of head of household|\n",
    "|age\t|years old|\n",
    "|folnum\t|individual id|\n",
    "|village|\tvillage id|\n",
    "|sc97\t|enrolled in school in 1997 (=1) |"
   ]
  },
  {
   "cell_type": "markdown",
   "metadata": {
    "ein.tags": "worksheet-0",
    "slideshow": {
     "slide_type": "-"
    }
   },
   "source": [
    "## Part 1: Descriptive analysis\n",
    "\n",
    "### 1.1\tSummary Statistics\n",
    "\n",
    "Report summary statistics (mean, standard deviation, and number of missings) for all of\n",
    "the demographic variables in the dataset (i.e., everything except\n",
    "year, folnum, village).  Present the actual levels for 'progresa' and\n",
    "'poor'.  Do these fit with the documentation above?\n",
    "\n",
    "Present these in a single table alphabetized\n",
    "by variable name. Do NOT simply expect the grader to scroll through\n",
    "your output!"
   ]
  },
  {
   "cell_type": "code",
   "execution_count": 1,
   "metadata": {
    "autoscroll": false,
    "ein.tags": "worksheet-0",
    "slideshow": {
     "slide_type": "-"
    }
   },
   "outputs": [
    {
     "name": "stdout",
     "output_type": "stream",
     "text": [
      "   year  sex  indig  dist_sec   sc  grc  fam_n   min_dist   dist_cap   poor  \\\n",
      "0    97  0.0    0.0     4.473  1.0  7.0      7  21.168384  21.168384  pobre   \n",
      "1    98  0.0    0.0     4.473  1.0  8.0      7  21.168384  21.168384  pobre   \n",
      "2    97  1.0    0.0     4.473  1.0  6.0      7  21.168384  21.168384  pobre   \n",
      "\n",
      "   ...  hohedu  hohwag  welfare_index  hohsex  hohage  age  village  folnum  \\\n",
      "0  ...       6     0.0          583.0     1.0    35.0   13      163       1   \n",
      "1  ...       6     0.0          583.0     1.0    35.0   14      163       1   \n",
      "2  ...       6     0.0          583.0     1.0    35.0   12      163       2   \n",
      "\n",
      "   grc97  sc97  \n",
      "0      7   1.0  \n",
      "1      7   1.0  \n",
      "2      6   1.0  \n",
      "\n",
      "[3 rows x 21 columns]\n",
      "Progresa levels: ['0' 'basal']\n",
      "Count by Progresa level:   progresa  count\n",
      "0        0  29690\n",
      "1    basal  47560\n",
      "\n",
      "Poor levels: ['pobre' 'no pobre']\n",
      "Count by Poor level:        poor  count\n",
      "0  no pobre  11858\n",
      "1     pobre  65392\n",
      "                     Mean  Missing values  Standard dev.\n",
      "age             11.366460               0       3.167744\n",
      "dist_cap       147.674452               0      76.063134\n",
      "dist_sec         2.418910               0       2.234109\n",
      "fam_n            7.215715               0       2.352900\n",
      "grc              3.963537            6549       2.499063\n",
      "grc97            3.705372               0       2.572387\n",
      "hohage          44.436717              10      11.620372\n",
      "hohedu           2.768104               0       2.656106\n",
      "hohsex           0.925185              20       0.263095\n",
      "hohwag         586.985312               0     788.133664\n",
      "indig            0.298324             300       0.457525\n",
      "min_dist       103.447520               0      42.089441\n",
      "poor                  NaN               0            NaN\n",
      "progresa              NaN               0            NaN\n",
      "sc               0.819818            8453       0.384342\n",
      "sc97             0.813922            3872       0.389172\n",
      "sex              0.512211              24       0.499854\n",
      "welfare_index  690.346564             210     139.491130\n"
     ]
    }
   ],
   "source": [
    "# your code here\n",
    "import numpy as np\n",
    "import matplotlib.pyplot as plt\n",
    "%matplotlib inline\n",
    "import pandas as pd\n",
    "import scipy\n",
    "from scipy import stats\n",
    "\n",
    "\n",
    "pro = pd.read_csv(\"/Users/nandy/Downloads/progresa_sample.csv.gz\")\n",
    "print(pro.head(3))\n",
    "\n",
    "print(\"Progresa levels:\",pro.progresa.unique())\n",
    "print(\"Count by Progresa level:\",pro.groupby(['progresa'])['age'].count().reset_index(name=\"count\"))\n",
    "\n",
    "print(\"\\nPoor levels:\",pro.poor.unique())\n",
    "print(\"Count by Poor level:\",pro.groupby(['poor'])['age'].count().reset_index(name=\"count\"))\n",
    "\n",
    "y=pd.DataFrame({\n",
    "                'Mean':pro[['progresa','age','sex', 'indig', 'dist_sec', 'sc','grc','fam_n','min_dist','dist_cap','hohedu','hohwag','welfare_index','hohsex','hohage','grc97','sc97','poor']].mean(),\n",
    "               'Standard dev.':pro[['progresa','age','sex', 'indig', 'dist_sec', 'sc','grc','fam_n','min_dist','dist_cap','hohedu','hohwag','welfare_index','hohsex','hohage','grc97','sc97','poor']].std(),\n",
    "                'Missing values':pro[['progresa','age','sex', 'indig', 'dist_sec', 'sc','grc','fam_n','min_dist','dist_cap','hohedu','hohwag','welfare_index','hohsex','hohage','grc97','sc97','poor']].isnull().sum()          \n",
    "               })\n",
    "print(y)\n"
   ]
  },
  {
   "cell_type": "markdown",
   "metadata": {},
   "source": [
    "Progresa has 2 levels - 0 & basal\n",
    "Poor has 2 levels - pobre and no pobre\n",
    "In the summary table, Poor & Progressa has NaN as it is a categorical variable"
   ]
  },
  {
   "cell_type": "markdown",
   "metadata": {
    "ein.tags": "worksheet-0",
    "slideshow": {
     "slide_type": "-"
    }
   },
   "source": [
    "### 1.2 Differences at baseline?\n",
    "Now let's investigate the differences in baseline.  Are the baseline (1997) demographic characteristics **for the poor**\n",
    "different in treatment and control villages?\n",
    "\n",
    "I suggest you to use a T-Test to\n",
    "determine whether there is a statistically significant difference in\n",
    "the average values of each of the variables in the dataset. Focus only\n",
    "on the data from 1997 for poor.\n",
    "\n",
    "Present your results in a single table with the following columns and 14 (or so) rows:\n",
    "\n",
    "| Variable name | Average value (Treatment villages) | Average value (Control villages) | Difference (Treat - Control) | p-value |\n",
    "|------|------|------|------|------|\n",
    "|Male|?|?|?|?|\n"
   ]
  },
  {
   "cell_type": "code",
   "execution_count": 2,
   "metadata": {
    "autoscroll": false,
    "ein.tags": "worksheet-0",
    "slideshow": {
     "slide_type": "-"
    }
   },
   "outputs": [
    {
     "name": "stdout",
     "output_type": "stream",
     "text": [
      "                    Variable  Mean_treat  Mean_control  difference  \\\n",
      "age                      age   10.716991     10.742023   -0.025032   \n",
      "sex                      sex    0.519317      0.505052    0.014265   \n",
      "indig                  indig    0.325986      0.332207   -0.006222   \n",
      "dist_sec            dist_sec    2.453122      2.507662   -0.054540   \n",
      "sc                        sc    0.822697      0.815186    0.007511   \n",
      "grc                      grc    3.531599      3.543050   -0.011450   \n",
      "fam_n                  fam_n    7.281327      7.302469   -0.021142   \n",
      "min_dist            min_dist  107.152915    103.237854    3.915060   \n",
      "dist_cap            dist_cap  150.829074    153.769730   -2.940656   \n",
      "hohedu                hohedu    2.663139      2.590348    0.072791   \n",
      "hohwag                hohwag  544.339544    573.163558  -28.824015   \n",
      "welfare_index  welfare_index  655.428377    659.579100   -4.150723   \n",
      "hohsex                hohsex    0.924656      0.922947    0.001709   \n",
      "hohage                hohage   43.648828     44.276918   -0.628090   \n",
      "grc97                  grc97    3.531599      3.543050   -0.011450   \n",
      "sc97                    sc97    0.822697      0.815186    0.007511   \n",
      "\n",
      "                       pval  \n",
      "age            4.785594e-01  \n",
      "sex            1.219172e-02  \n",
      "indig          2.453603e-01  \n",
      "dist_sec       3.569843e-02  \n",
      "sc             9.517806e-02  \n",
      "grc            6.890151e-01  \n",
      "fam_n          4.271039e-01  \n",
      "min_dist       2.358312e-16  \n",
      "dist_cap       8.415005e-04  \n",
      "hohedu         1.105093e-02  \n",
      "hohwag         3.253835e-04  \n",
      "welfare_index  1.431016e-03  \n",
      "hohsex         5.711858e-01  \n",
      "hohage         1.796243e-06  \n",
      "grc97          6.890151e-01  \n",
      "sc97           9.517806e-02  \n"
     ]
    }
   ],
   "source": [
    "# your code here\n",
    "pro.poor.unique()\n",
    "pro['poor_num'] = np.where(pro['poor']=='pobre', 1, 0)\n",
    "\n",
    "#Calculate metrics for Poor & Treatment\n",
    "y1 = pro[(pro.poor=='pobre')& (pro.progresa=='basal') & (pro.year==97)]\n",
    "y2=pd.DataFrame({'Mean_treat':y1[['age','sex', 'indig', 'dist_sec', 'sc','grc','fam_n','min_dist','dist_cap','hohedu','hohwag','welfare_index','hohsex','hohage','grc97','sc97']].mean(),\n",
    "                'Variable':['age','sex', 'indig', 'dist_sec', 'sc','grc','fam_n','min_dist','dist_cap','hohedu','hohwag','welfare_index','hohsex','hohage','grc97','sc97'],\n",
    "                'Count_treat':y1[['age','sex', 'indig', 'dist_sec', 'sc','grc','fam_n','min_dist','dist_cap','hohedu','hohwag','welfare_index','hohsex','hohage','grc97','sc97']].count()\n",
    "                })\n",
    "\n",
    "#Calculate metrics for Poor & Control\n",
    "y3 = pro[(pro.poor=='pobre')& (pro.progresa!='basal')& (pro.year==97)]\n",
    "y4=pd.DataFrame({'Mean_control':y3[['age','sex', 'indig', 'dist_sec', 'sc','grc','fam_n','min_dist','dist_cap','hohedu','hohwag','welfare_index','hohsex','hohage','grc97','sc97']].mean(),\n",
    "                'Variable':['age','sex', 'indig', 'dist_sec', 'sc','grc','fam_n','min_dist','dist_cap','hohedu','hohwag','welfare_index','hohsex','hohage','grc97','sc97'],\n",
    "                 'Count_control':y3[['age','sex', 'indig', 'dist_sec', 'sc','grc','fam_n','min_dist','dist_cap','hohedu','hohwag','welfare_index','hohsex','hohage','grc97','sc97']].count()\n",
    "                })\n",
    "\n",
    "#Join the two tables based on variables\n",
    "y5 = pd.merge(y2, y4, left_index=True, left_on='Variable',right_on='Variable')\n",
    "\n",
    "#Rearrange columns\n",
    "y5 = y5[['Variable', 'Mean_treat', 'Mean_control','Count_treat','Count_control']]\n",
    "\n",
    "#Find difference between means\n",
    "y5['difference']=y5['Mean_treat']-y5['Mean_control']\n",
    "\n",
    "#Subset the data to satisfy the question requirement\n",
    "xf=0\n",
    "pval=list()\n",
    "for xf in range(0,len(y5.Variable)):\n",
    "    r1= y1.loc[:,y5.Variable[xf]]\n",
    "    r2= y3.loc[:,y5.Variable[xf]]\n",
    "    t2,p2=(scipy.stats.ttest_ind(r1.dropna(), r2.dropna()))\n",
    "    pval.append(p2)\n",
    "    xf=xf+1\n",
    "    \n",
    "y5['pval']=pval\n",
    "y6=y5[['Variable', 'Mean_treat', 'Mean_control','difference','pval']]\n",
    "print(y6)\n"
   ]
  },
  {
   "cell_type": "markdown",
   "metadata": {
    "ein.tags": "worksheet-0",
    "slideshow": {
     "slide_type": "-"
    }
   },
   "source": [
    "### 1.3 Interpretation\n",
    "\n",
    "* A: Are there statistically significant differences between treatment and control villages as baseline? \n",
    "\n",
    "Only variables such as age,indig,grc,fam_n, hohsex,grc97 have no statistical difference. Other variables are different between the treatment and control villages\n",
    "\n",
    "* B: Why does it matter if there are differences at baseline?\n",
    "\n",
    "It is important that the baselines are not different, as it would confirm that the treatment and control data sets are not different and any difference in population might be only due to the treatment. It would mean that with all variables being constant, the impact is only due to treatment. \n",
    "\n",
    "\n",
    "\n",
    "* C: What does this imply about how to measure the impact of the treatment?\n",
    "\n",
    "As we have some variables failing T test, we need to be cautious when using such variables in models. \n",
    "This implies that, any change observed is not only due to the impact of treatment. \n",
    "\n"
   ]
  },
  {
   "cell_type": "markdown",
   "metadata": {
    "ein.tags": "worksheet-0",
    "slideshow": {
     "slide_type": "-"
    }
   },
   "source": []
  },
  {
   "cell_type": "markdown",
   "metadata": {
    "ein.tags": "worksheet-0",
    "slideshow": {
     "slide_type": "-"
    }
   },
   "source": [
    "### 1.4 Graphical exploration, part 1\n",
    "\n",
    "For each level of household head education, compute the average\n",
    "enrollment rate in 1997. Create a scatterplot that shows this\n",
    "relationship. What do you notice?"
   ]
  },
  {
   "cell_type": "code",
   "execution_count": 3,
   "metadata": {
    "autoscroll": false,
    "ein.tags": "worksheet-0",
    "slideshow": {
     "slide_type": "-"
    }
   },
   "outputs": [
    {
     "data": {
      "text/plain": [
       "<matplotlib.collections.PathCollection at 0x1a17fcf828>"
      ]
     },
     "execution_count": 3,
     "metadata": {},
     "output_type": "execute_result"
    },
    {
     "data": {
      "image/png": "[encoded data removed]",
      "text/plain": [
       "<matplotlib.figure.Figure at 0x10e41acc0>"
      ]
     },
     "metadata": {},
     "output_type": "display_data"
    }
   ],
   "source": [
    "#Subset the data for year 1997\n",
    "y1 = pro[(pro.year==97)]\n",
    "x=pd.DataFrame(y1.groupby(['hohedu'])['sc97'].mean().reset_index(name='Average_enrollment_rate'))\n",
    "plt.scatter(x['hohedu'],x['Average_enrollment_rate'],color='darkblue')"
   ]
  },
  {
   "cell_type": "markdown",
   "metadata": {
    "ein.tags": "worksheet-0",
    "slideshow": {
     "slide_type": "-"
    }
   },
   "source": [
    "The scatterplot depicts that with increase in educational level, the enrollment rate increases. This might imply that well educated households pay more attention towards education. "
   ]
  },
  {
   "cell_type": "markdown",
   "metadata": {
    "ein.tags": "worksheet-0",
    "slideshow": {
     "slide_type": "-"
    }
   },
   "source": [
    "### 1.5 Graphical exploration, part 2\n",
    "\n",
    "Create a histogram of village enrollment rates **among poor households\n",
    "in treated villages**, before and after treatment.  Specifically, for\n",
    "each village, calculate the average rate of enrollment of poor\n",
    "households in treated villages in 1997, then compute the average rate\n",
    "of enrollment of poor households in treated villages in 1998. Create\n",
    "two separate histograms showing the distribution of these average\n",
    "enrollments rates, one histogram for 1997 and one histogram for\n",
    "1998. On each histogram, draw a vertical line that intersects the\n",
    "x-axis at the average value (across all households). Does there appear\n",
    "to be a difference? Is this difference statistically significant?"
   ]
  },
  {
   "cell_type": "code",
   "execution_count": 4,
   "metadata": {
    "autoscroll": false,
    "ein.tags": "worksheet-0",
    "slideshow": {
     "slide_type": "-"
    }
   },
   "outputs": [
    {
     "data": {
      "text/plain": [
       "<matplotlib.lines.Line2D at 0x10e450198>"
      ]
     },
     "execution_count": 4,
     "metadata": {},
     "output_type": "execute_result"
    },
    {
     "data": {
      "image/png": "[encoded data removed]",
      "text/plain": [
       "<matplotlib.figure.Figure at 0x10e41ae48>"
      ]
     },
     "metadata": {},
     "output_type": "display_data"
    }
   ],
   "source": [
    "# Your code here\n",
    "#Subset for 1997(before treatment and poor families )\n",
    "y1 = pro[(pro.year==97)&(pro.poor=='pobre') &(pro.progresa=='basal')]\n",
    "x=pd.DataFrame(y1.groupby(['village'])['sc97'].mean().reset_index(name='Average_enrollment_rate'))\n",
    "plt.hist(x['Average_enrollment_rate'].dropna(), color = 'blue', edgecolor = 'black')\n",
    "#print(y1['sc97'])\n",
    "plt.axvline(y1['sc97'].mean(), color='k', linestyle='dashed', linewidth=1)"
   ]
  },
  {
   "cell_type": "code",
   "execution_count": 5,
   "metadata": {},
   "outputs": [
    {
     "name": "stdout",
     "output_type": "stream",
     "text": [
      "-2.6365121429171556 0.008379519936799229\n"
     ]
    },
    {
     "data": {
      "image/png": "[encoded data removed]",
      "text/plain": [
       "<matplotlib.figure.Figure at 0x10dabb1d0>"
      ]
     },
     "metadata": {},
     "output_type": "display_data"
    }
   ],
   "source": [
    "y2 = pro[(pro.year!=97)&(pro.poor=='pobre') &(pro.progresa=='basal')]\n",
    "x=pd.DataFrame(y2.groupby(['village'])['sc'].mean().reset_index(name='Average_enrollment_rate'))\n",
    "\n",
    "plt.hist(x['Average_enrollment_rate'].dropna(), color = 'blue', edgecolor = 'black')\n",
    "plt.axvline(y2['sc'].mean(), color='k', linestyle='dashed', linewidth=1)\n",
    "\n",
    "t2, p2 = scipy.stats.ttest_ind_from_stats(y1['sc97'].mean(), np.sqrt(y1['sc97'].mean()), len(y1['sc97']),y2['sc'].mean(), np.sqrt(y2['sc97'].mean()), len(y2['sc']),equal_var=False)\n",
    "print(t2,p2)"
   ]
  },
  {
   "cell_type": "markdown",
   "metadata": {
    "ein.tags": "worksheet-0",
    "slideshow": {
     "slide_type": "-"
    }
   },
   "source": [
    "The mean of enrollment rate after treatment has increased from before treatment. The difference is also statistically significant as p value is less than .05"
   ]
  },
  {
   "cell_type": "markdown",
   "metadata": {
    "ein.tags": "worksheet-0",
    "slideshow": {
     "slide_type": "-"
    }
   },
   "source": [
    "## Part 2: Measuring Impact\n",
    "\n",
    "Our goal is to estimate the causal impact of the PROGRESA program on\n",
    "the social and economic outcomes of individuals in Mexico. We will\n",
    "focus on the impact of the program on the poor (those with\n",
    "poor=='pobre'), since only the poor were eligible to receive the\n",
    "PROGRESA assistance.\n",
    "\n",
    "### 2.1 Cross-Sectional Estimator: T-test\n",
    "\n",
    "Begin by estimating the impact of Progresa using \"simple differences.\"\n",
    "Restricting yourself to data from 1998 (after treatment), calculate\n",
    "the average enrollment rate among **poor** households in the Treatment\n",
    "villages and the average enrollment rate among **poor** households in\n",
    "the control villages. Use a t-test to determine if this difference is\n",
    "statistically significant. What do you conclude?"
   ]
  },
  {
   "cell_type": "code",
   "execution_count": 6,
   "metadata": {
    "autoscroll": false,
    "ein.tags": "worksheet-0",
    "slideshow": {
     "slide_type": "-"
    }
   },
   "outputs": [
    {
     "name": "stdout",
     "output_type": "stream",
     "text": [
      "Ttest_indResult(statistic=8.101650305300375, pvalue=5.656455605358843e-16)\n"
     ]
    }
   ],
   "source": [
    "#Filter the dataset only for poor and in year 1998\n",
    "y3 = pro[(pro.poor=='pobre')&(pro.year==98)]\n",
    "\n",
    "#Find average enrollment rate after the trearment (1998) in treatment and control villages\n",
    "y3.groupby(['progresa'])['sc'].mean().reset_index(name='Average_enrollment_rate')\n",
    "\n",
    "print(scipy.stats.ttest_ind(y3[(y3['progresa'] =='basal')].dropna().sc, y3[(y3['progresa'] !='basal')].dropna().sc))\n"
   ]
  },
  {
   "cell_type": "markdown",
   "metadata": {
    "ein.tags": "worksheet-0",
    "slideshow": {
     "slide_type": "-"
    }
   },
   "source": [
    "The difference is statistically significant. Hence we can conclude based on this result that there was a difference in enrollment rate between villages that were in treatment and control. \n",
    "\n",
    "This implies that the enrollment rate is different. This might be due to the program or due to the other factors which were different between the population"
   ]
  },
  {
   "cell_type": "markdown",
   "metadata": {
    "ein.tags": "worksheet-0",
    "slideshow": {
     "slide_type": "-"
    }
   },
   "source": [
    "### 2.2 Cross-Sectional Estimator: Regression\n",
    "\n",
    "Estimate the effects of Progresa on enrollment using a regression\n",
    "model, by regressing the 1998 enrollment rates **of the poor** on\n",
    "treatment assignment.  Do not include any additional control\n",
    "variables.\n",
    "Discuss the following:\n",
    "\n",
    "* Based on this model, how much did Progresa increase the likelihood of a child enrolling?\n",
    "* How does your regression estimate compare to your t-test estimate from part 2.1?\n",
    "* Based on this regression model, can we reject the null hypothesis that the treatment effects are zero? \n",
    "* What is the counterfactual assumption underlying this regression?\n",
    "\n",
    "Note: I recommend to use statsmodels.formula.api as this allows to use\n",
    "convenient R-style formulas and provedes nice summaries of the results."
   ]
  },
  {
   "cell_type": "code",
   "execution_count": 12,
   "metadata": {
    "autoscroll": false,
    "ein.tags": "worksheet-0",
    "slideshow": {
     "slide_type": "-"
    }
   },
   "outputs": [
    {
     "data": {
      "text/html": [
       "<table class=\"simpletable\">\n",
       "<caption>OLS Regression Results</caption>\n",
       "<tr>\n",
       "  <th>Dep. Variable:</th>           <td>sc</td>        <th>  R-squared:         </th> <td>   0.003</td> \n",
       "</tr>\n",
       "<tr>\n",
       "  <th>Model:</th>                   <td>OLS</td>       <th>  Adj. R-squared:    </th> <td>   0.003</td> \n",
       "</tr>\n",
       "<tr>\n",
       "  <th>Method:</th>             <td>Least Squares</td>  <th>  F-statistic:       </th> <td>   69.87</td> \n",
       "</tr>\n",
       "<tr>\n",
       "  <th>Date:</th>             <td>Wed, 02 May 2018</td> <th>  Prob (F-statistic):</th> <td>6.64e-17</td> \n",
       "</tr>\n",
       "<tr>\n",
       "  <th>Time:</th>                 <td>13:46:18</td>     <th>  Log-Likelihood:    </th> <td> -11926.</td> \n",
       "</tr>\n",
       "<tr>\n",
       "  <th>No. Observations:</th>      <td> 27450</td>      <th>  AIC:               </th> <td>2.386e+04</td>\n",
       "</tr>\n",
       "<tr>\n",
       "  <th>Df Residuals:</th>          <td> 27448</td>      <th>  BIC:               </th> <td>2.387e+04</td>\n",
       "</tr>\n",
       "<tr>\n",
       "  <th>Df Model:</th>              <td>     1</td>      <th>                     </th>     <td> </td>    \n",
       "</tr>\n",
       "<tr>\n",
       "  <th>Covariance Type:</th>      <td>nonrobust</td>    <th>                     </th>     <td> </td>    \n",
       "</tr>\n",
       "</table>\n",
       "<table class=\"simpletable\">\n",
       "<tr>\n",
       "          <td></td>             <th>coef</th>     <th>std err</th>      <th>t</th>      <th>P>|t|</th>  <th>[0.025</th>    <th>0.975]</th>  \n",
       "</tr>\n",
       "<tr>\n",
       "  <th>Intercept</th>         <td>    0.8076</td> <td>    0.004</td> <td>  220.676</td> <td> 0.000</td> <td>    0.800</td> <td>    0.815</td>\n",
       "</tr>\n",
       "<tr>\n",
       "  <th>progresa[T.basal]</th> <td>    0.0388</td> <td>    0.005</td> <td>    8.359</td> <td> 0.000</td> <td>    0.030</td> <td>    0.048</td>\n",
       "</tr>\n",
       "</table>\n",
       "<table class=\"simpletable\">\n",
       "<tr>\n",
       "  <th>Omnibus:</th>       <td>7638.939</td> <th>  Durbin-Watson:     </th> <td>   1.734</td> \n",
       "</tr>\n",
       "<tr>\n",
       "  <th>Prob(Omnibus):</th>  <td> 0.000</td>  <th>  Jarque-Bera (JB):  </th> <td>15767.534</td>\n",
       "</tr>\n",
       "<tr>\n",
       "  <th>Skew:</th>           <td>-1.767</td>  <th>  Prob(JB):          </th> <td>    0.00</td> \n",
       "</tr>\n",
       "<tr>\n",
       "  <th>Kurtosis:</th>       <td> 4.140</td>  <th>  Cond. No.          </th> <td>    3.01</td> \n",
       "</tr>\n",
       "</table>"
      ],
      "text/plain": [
       "<class 'statsmodels.iolib.summary.Summary'>\n",
       "\"\"\"\n",
       "                            OLS Regression Results                            \n",
       "==============================================================================\n",
       "Dep. Variable:                     sc   R-squared:                       0.003\n",
       "Model:                            OLS   Adj. R-squared:                  0.003\n",
       "Method:                 Least Squares   F-statistic:                     69.87\n",
       "Date:                Wed, 02 May 2018   Prob (F-statistic):           6.64e-17\n",
       "Time:                        13:46:18   Log-Likelihood:                -11926.\n",
       "No. Observations:               27450   AIC:                         2.386e+04\n",
       "Df Residuals:                   27448   BIC:                         2.387e+04\n",
       "Df Model:                           1                                         \n",
       "Covariance Type:            nonrobust                                         \n",
       "=====================================================================================\n",
       "                        coef    std err          t      P>|t|      [0.025      0.975]\n",
       "-------------------------------------------------------------------------------------\n",
       "Intercept             0.8076      0.004    220.676      0.000       0.800       0.815\n",
       "progresa[T.basal]     0.0388      0.005      8.359      0.000       0.030       0.048\n",
       "==============================================================================\n",
       "Omnibus:                     7638.939   Durbin-Watson:                   1.734\n",
       "Prob(Omnibus):                  0.000   Jarque-Bera (JB):            15767.534\n",
       "Skew:                          -1.767   Prob(JB):                         0.00\n",
       "Kurtosis:                       4.140   Cond. No.                         3.01\n",
       "==============================================================================\n",
       "\n",
       "Warnings:\n",
       "[1] Standard Errors assume that the covariance matrix of the errors is correctly specified.\n",
       "\"\"\""
      ]
     },
     "execution_count": 12,
     "metadata": {},
     "output_type": "execute_result"
    }
   ],
   "source": [
    "# Your code here\n",
    "import statsmodels.formula.api as smf\n",
    "\n",
    "#y3 has only poor and 98 data\n",
    "m1=smf.ols(formula='sc ~ progresa ', data=y3)\n",
    "r1=m1.fit()\n",
    "r1.summary()"
   ]
  },
  {
   "cell_type": "markdown",
   "metadata": {
    "ein.tags": "worksheet-0",
    "slideshow": {
     "slide_type": "-"
    }
   },
   "source": [
    "1. The model suggests that progresa increases the likelihood of enrollment by .0388. So it would mean that, even if not enrolled in Progresa, the enrollment rate is .8076, and if they have gone through Progresa, then enrollment rate reaches .8464(.8076+.0388) \n",
    "\n",
    "2. The regression estimate and t test estimates are close.\n",
    "\n",
    "3. As the Progresa variable is significant, we can reject the Null hypothesis and state that the Progresa indeed has impact on enrollment rate.\n",
    "\n",
    "4. Basis of this regression analysis was to check whether Progresa has any impact on enrollment rate and model states -yes. \n",
    "\n",
    "Model says that Progresa had positive impact on enrollment rate. The counterfactual statement could be that only families with low chance of enrollment rate are not selected for Progresa program. Or Government is holding a different initiative, where it is providing enrollment assistance and progresa progam for poor people at the same time.\n"
   ]
  },
  {
   "cell_type": "markdown",
   "metadata": {
    "ein.tags": "worksheet-0",
    "slideshow": {
     "slide_type": "-"
    }
   },
   "source": [
    "### 2.3 Multiple Regression\n",
    "\n",
    "Re-run the above regression estimated but this time include a set of\n",
    "relevant control variables. Include, for instance, age, distance to a secondary\n",
    "school, gender, education of household head, welfare index,\n",
    "indigenous, etc.\n",
    "\n",
    "* How do the controls affect the point estimate of treatment effect?\n",
    "* How do the controls affect the standard error on the treatment effect? \n",
    "* How do you interpret the differences (or similarities) between your estimates of 2.2 and 2.3?"
   ]
  },
  {
   "cell_type": "code",
   "execution_count": 13,
   "metadata": {
    "autoscroll": false,
    "ein.tags": "worksheet-0",
    "slideshow": {
     "slide_type": "-"
    }
   },
   "outputs": [
    {
     "data": {
      "text/html": [
       "<table class=\"simpletable\">\n",
       "<caption>OLS Regression Results</caption>\n",
       "<tr>\n",
       "  <th>Dep. Variable:</th>           <td>sc</td>        <th>  R-squared:         </th> <td>   0.302</td> \n",
       "</tr>\n",
       "<tr>\n",
       "  <th>Model:</th>                   <td>OLS</td>       <th>  Adj. R-squared:    </th> <td>   0.302</td> \n",
       "</tr>\n",
       "<tr>\n",
       "  <th>Method:</th>             <td>Least Squares</td>  <th>  F-statistic:       </th> <td>   1477.</td> \n",
       "</tr>\n",
       "<tr>\n",
       "  <th>Date:</th>             <td>Wed, 02 May 2018</td> <th>  Prob (F-statistic):</th>  <td>  0.00</td>  \n",
       "</tr>\n",
       "<tr>\n",
       "  <th>Time:</th>                 <td>13:46:22</td>     <th>  Log-Likelihood:    </th> <td> -7003.5</td> \n",
       "</tr>\n",
       "<tr>\n",
       "  <th>No. Observations:</th>      <td> 27280</td>      <th>  AIC:               </th> <td>1.403e+04</td>\n",
       "</tr>\n",
       "<tr>\n",
       "  <th>Df Residuals:</th>          <td> 27271</td>      <th>  BIC:               </th> <td>1.410e+04</td>\n",
       "</tr>\n",
       "<tr>\n",
       "  <th>Df Model:</th>              <td>     8</td>      <th>                     </th>     <td> </td>    \n",
       "</tr>\n",
       "<tr>\n",
       "  <th>Covariance Type:</th>      <td>nonrobust</td>    <th>                     </th>     <td> </td>    \n",
       "</tr>\n",
       "</table>\n",
       "<table class=\"simpletable\">\n",
       "<tr>\n",
       "          <td></td>             <th>coef</th>     <th>std err</th>      <th>t</th>      <th>P>|t|</th>  <th>[0.025</th>    <th>0.975]</th>  \n",
       "</tr>\n",
       "<tr>\n",
       "  <th>Intercept</th>         <td>    1.6282</td> <td>    0.011</td> <td>  143.901</td> <td> 0.000</td> <td>    1.606</td> <td>    1.650</td>\n",
       "</tr>\n",
       "<tr>\n",
       "  <th>progresa[T.basal]</th> <td>    0.0332</td> <td>    0.004</td> <td>    8.470</td> <td> 0.000</td> <td>    0.025</td> <td>    0.041</td>\n",
       "</tr>\n",
       "<tr>\n",
       "  <th>sex</th>               <td>    0.0337</td> <td>    0.004</td> <td>    8.879</td> <td> 0.000</td> <td>    0.026</td> <td>    0.041</td>\n",
       "</tr>\n",
       "<tr>\n",
       "  <th>indig</th>             <td>    0.0240</td> <td>    0.005</td> <td>    5.232</td> <td> 0.000</td> <td>    0.015</td> <td>    0.033</td>\n",
       "</tr>\n",
       "<tr>\n",
       "  <th>grc</th>               <td>    0.0521</td> <td>    0.001</td> <td>   35.856</td> <td> 0.000</td> <td>    0.049</td> <td>    0.055</td>\n",
       "</tr>\n",
       "<tr>\n",
       "  <th>min_dist</th>          <td>    0.0003</td> <td>  6.2e-05</td> <td>    4.947</td> <td> 0.000</td> <td>    0.000</td> <td>    0.000</td>\n",
       "</tr>\n",
       "<tr>\n",
       "  <th>dist_cap</th>          <td>    0.0002</td> <td> 3.59e-05</td> <td>    6.385</td> <td> 0.000</td> <td>    0.000</td> <td>    0.000</td>\n",
       "</tr>\n",
       "<tr>\n",
       "  <th>hohedu</th>            <td>    0.0049</td> <td>    0.001</td> <td>    6.438</td> <td> 0.000</td> <td>    0.003</td> <td>    0.006</td>\n",
       "</tr>\n",
       "<tr>\n",
       "  <th>age</th>               <td>   -0.1009</td> <td>    0.001</td> <td>  -84.748</td> <td> 0.000</td> <td>   -0.103</td> <td>   -0.099</td>\n",
       "</tr>\n",
       "</table>\n",
       "<table class=\"simpletable\">\n",
       "<tr>\n",
       "  <th>Omnibus:</th>       <td>3287.615</td> <th>  Durbin-Watson:     </th> <td>   1.727</td>\n",
       "</tr>\n",
       "<tr>\n",
       "  <th>Prob(Omnibus):</th>  <td> 0.000</td>  <th>  Jarque-Bera (JB):  </th> <td>4619.760</td>\n",
       "</tr>\n",
       "<tr>\n",
       "  <th>Skew:</th>           <td>-0.954</td>  <th>  Prob(JB):          </th> <td>    0.00</td>\n",
       "</tr>\n",
       "<tr>\n",
       "  <th>Kurtosis:</th>       <td> 3.653</td>  <th>  Cond. No.          </th> <td>1.23e+03</td>\n",
       "</tr>\n",
       "</table>"
      ],
      "text/plain": [
       "<class 'statsmodels.iolib.summary.Summary'>\n",
       "\"\"\"\n",
       "                            OLS Regression Results                            \n",
       "==============================================================================\n",
       "Dep. Variable:                     sc   R-squared:                       0.302\n",
       "Model:                            OLS   Adj. R-squared:                  0.302\n",
       "Method:                 Least Squares   F-statistic:                     1477.\n",
       "Date:                Wed, 02 May 2018   Prob (F-statistic):               0.00\n",
       "Time:                        13:46:22   Log-Likelihood:                -7003.5\n",
       "No. Observations:               27280   AIC:                         1.403e+04\n",
       "Df Residuals:                   27271   BIC:                         1.410e+04\n",
       "Df Model:                           8                                         \n",
       "Covariance Type:            nonrobust                                         \n",
       "=====================================================================================\n",
       "                        coef    std err          t      P>|t|      [0.025      0.975]\n",
       "-------------------------------------------------------------------------------------\n",
       "Intercept             1.6282      0.011    143.901      0.000       1.606       1.650\n",
       "progresa[T.basal]     0.0332      0.004      8.470      0.000       0.025       0.041\n",
       "sex                   0.0337      0.004      8.879      0.000       0.026       0.041\n",
       "indig                 0.0240      0.005      5.232      0.000       0.015       0.033\n",
       "grc                   0.0521      0.001     35.856      0.000       0.049       0.055\n",
       "min_dist              0.0003    6.2e-05      4.947      0.000       0.000       0.000\n",
       "dist_cap              0.0002   3.59e-05      6.385      0.000       0.000       0.000\n",
       "hohedu                0.0049      0.001      6.438      0.000       0.003       0.006\n",
       "age                  -0.1009      0.001    -84.748      0.000      -0.103      -0.099\n",
       "==============================================================================\n",
       "Omnibus:                     3287.615   Durbin-Watson:                   1.727\n",
       "Prob(Omnibus):                  0.000   Jarque-Bera (JB):             4619.760\n",
       "Skew:                          -0.954   Prob(JB):                         0.00\n",
       "Kurtosis:                       3.653   Cond. No.                     1.23e+03\n",
       "==============================================================================\n",
       "\n",
       "Warnings:\n",
       "[1] Standard Errors assume that the covariance matrix of the errors is correctly specified.\n",
       "[2] The condition number is large, 1.23e+03. This might indicate that there are\n",
       "strong multicollinearity or other numerical problems.\n",
       "\"\"\""
      ]
     },
     "execution_count": 13,
     "metadata": {},
     "output_type": "execute_result"
    }
   ],
   "source": [
    "# Your code here\n",
    "m1=smf.ols(formula='sc ~ progresa+ sex+indig+grc+min_dist+dist_cap+hohedu+age', data=y3)\n",
    "r1=m1.fit()\n",
    "r1.summary()\n"
   ]
  },
  {
   "cell_type": "markdown",
   "metadata": {
    "ein.tags": "worksheet-0",
    "slideshow": {
     "slide_type": "-"
    }
   },
   "source": [
    "*Initially the model included all the other variables, but I have removed the variables which were not significant. I have also not considered interaction effect in this model.\n",
    "*The impact of progresa variable is still around .03, but we have other variables in the model with positive or negative coefficients\n",
    "*Only age has negative impact, as the age increases, the enrollment rate decreases\n",
    "\n",
    "1. The controls have impacted the progresa's coefficient slightly, and the intercept value has changed. And with addition of new controls, when we look at prediction of enrollment rate, it is better when compared to the previous model.\n",
    "2. The standard error for the Progresa variable has dropped by .001. Even the model's R square has increased from .003 to .30 which is a really huge jump.\n",
    "3. The progresa estimates are close, but intercept has changed drastically between 2.2 and 2.3. As the R square has increased in 2.3, the model can be read and interpreted better in 2.3(Which also implies that the change in enrollment rate is not restricted only to Progreso programme).\n"
   ]
  },
  {
   "cell_type": "markdown",
   "metadata": {
    "ein.tags": "worksheet-0",
    "slideshow": {
     "slide_type": "-"
    }
   },
   "source": [
    "### 2.4 Difference-in-Difference, version 1 (tabular)\n",
    "\n",
    "Thus far, we have computed the effects of Progresa by estimating the\n",
    "difference in 1998 enrollment rates across villages. An alternative\n",
    "approach would be to compute the treatment effect using a\n",
    "difference-in-differences framework.\n",
    "\n",
    "Begin by estimating the average treatment effects of the program for poor households using data from 1997 and 1998. Specifically, calculate:\n",
    "\n",
    "a) the difference (between 1997 and 1998) in enrollment rates among poor households in treated villages\n",
    "\n",
    "b) the difference (between 1997 and 1998) in enrollment rates among poor households in control villages.\n",
    "\n",
    "c) The difference between these two differences is your estimate.\n",
    "\n",
    "* What is your estimate of the impact, and how does it compare to your earlier (simple difference) results?\n",
    "\n",
    "* What is the counterfactual assumption underlying this estimate? \n"
   ]
  },
  {
   "cell_type": "code",
   "execution_count": 14,
   "metadata": {
    "autoscroll": false,
    "ein.tags": "worksheet-0",
    "slideshow": {
     "slide_type": "-"
    }
   },
   "outputs": [
    {
     "name": "stdout",
     "output_type": "stream",
     "text": [
      "   year progresa        sc\n",
      "0    97        0  0.806578\n",
      "1    97    basal  0.818495\n",
      "2    98        0  0.802917\n",
      "3    98    basal  0.841182\n",
      "Difference between 1997 and 1998 in treated village: 0.02268638643289378\n",
      "Difference between 1997 and 1998 in control village: -0.0036609043082972414\n",
      "Difference in difference: 0.02634729074119102\n",
      "\n",
      "\n",
      "Second type of dif in dif:\n",
      "Difference between treated and controlled in 1997: 0.011917783712771635\n",
      "Difference between treated and controlled in 1998: 0.038265074453962655\n",
      "Difference in difference: 0.02634729074119102\n"
     ]
    }
   ],
   "source": [
    "# Your code here\n",
    "ym = pro.groupby(['year', 'progresa']).sc.mean().reset_index()\n",
    "print(ym)\n",
    "\n",
    "cs1=ym.iat[3,2]-ym.iat[1,2]\n",
    "print(\"Difference between 1997 and 1998 in treated village:\",cs1)\n",
    "cs2=ym.iat[2,2]-ym.iat[0,2]\n",
    "print(\"Difference between 1997 and 1998 in control village:\",cs2)\n",
    "d=cs1-cs2\n",
    "print(\"Difference in difference:\",d)\n",
    "\n",
    "#Otherway to calculate dif in dif\n",
    "cs1=ym.iat[1,2]-ym.iat[0,2]\n",
    "print(\"\\n\\nSecond type of dif in dif:\\nDifference between treated and controlled in 1997:\",cs1)\n",
    "cs2=ym.iat[3,2]-ym.iat[2,2]\n",
    "print(\"Difference between treated and controlled in 1998:\",cs2)\n",
    "d=cs2-cs1\n",
    "print(\"Difference in difference:\",d)\n"
   ]
  },
  {
   "cell_type": "markdown",
   "metadata": {
    "ein.tags": "worksheet-0",
    "slideshow": {
     "slide_type": "-"
    }
   },
   "source": [
    "In the regression model, I have compared the enrollment rate between the treated and control villages in the year of 1998(which is similar to crosssectional analysis & not before -after analysis). I have not compared the increase in enrollment rate between the years 1997 and 1998 for in the model. So the results cannot be compared directly.\n",
    "\n",
    "To compare the diff in diff results with the model, I had done the dif in dif analysis in a different way and found that the model coefficient match."
   ]
  },
  {
   "cell_type": "markdown",
   "metadata": {
    "ein.tags": "worksheet-0",
    "slideshow": {
     "slide_type": "-"
    }
   },
   "source": [
    "### 2.5 Difference-in-Difference, version 2 (regression)\n",
    "\n",
    "Now use a regression specification to estimate the average treatment\n",
    "effects of the program in a difference-in-differences\n",
    "framework. Include at least 5 control variables.\n",
    "\n",
    "* What is your estimate of the impact of Progresa? Be very specific in\n",
    "  interpreting your coefficients and standard errors, and make sure to\n",
    "  specify exactly what units you are measuring and estimating.\n",
    "\n",
    "* How do these estimates of the treatment effect compare to the\n",
    "  estimates based on the simple difference?\n",
    "\n",
    "* How do these estimates compare to the difference-in-difference\n",
    "  estimates from 2.4 above? What accounts for these differences?\n",
    "\n",
    "* What is the counterfactual assumption underlying this regression? "
   ]
  },
  {
   "cell_type": "code",
   "execution_count": 15,
   "metadata": {
    "autoscroll": false,
    "ein.tags": "worksheet-0",
    "slideshow": {
     "slide_type": "-"
    }
   },
   "outputs": [
    {
     "data": {
      "text/html": [
       "<table class=\"simpletable\">\n",
       "<caption>OLS Regression Results</caption>\n",
       "<tr>\n",
       "  <th>Dep. Variable:</th>           <td>sc</td>        <th>  R-squared:         </th> <td>   0.314</td> \n",
       "</tr>\n",
       "<tr>\n",
       "  <th>Model:</th>                   <td>OLS</td>       <th>  Adj. R-squared:    </th> <td>   0.313</td> \n",
       "</tr>\n",
       "<tr>\n",
       "  <th>Method:</th>             <td>Least Squares</td>  <th>  F-statistic:       </th> <td>   3126.</td> \n",
       "</tr>\n",
       "<tr>\n",
       "  <th>Date:</th>             <td>Wed, 02 May 2018</td> <th>  Prob (F-statistic):</th>  <td>  0.00</td>  \n",
       "</tr>\n",
       "<tr>\n",
       "  <th>Time:</th>                 <td>13:46:30</td>     <th>  Log-Likelihood:    </th> <td> -18834.</td> \n",
       "</tr>\n",
       "<tr>\n",
       "  <th>No. Observations:</th>      <td> 68468</td>      <th>  AIC:               </th> <td>3.769e+04</td>\n",
       "</tr>\n",
       "<tr>\n",
       "  <th>Df Residuals:</th>          <td> 68457</td>      <th>  BIC:               </th> <td>3.779e+04</td>\n",
       "</tr>\n",
       "<tr>\n",
       "  <th>Df Model:</th>              <td>    10</td>      <th>                     </th>     <td> </td>    \n",
       "</tr>\n",
       "<tr>\n",
       "  <th>Covariance Type:</th>      <td>nonrobust</td>    <th>                     </th>     <td> </td>    \n",
       "</tr>\n",
       "</table>\n",
       "<table class=\"simpletable\">\n",
       "<tr>\n",
       "                 <td></td>                    <th>coef</th>     <th>std err</th>      <th>t</th>      <th>P>|t|</th>  <th>[0.025</th>    <th>0.975]</th>  \n",
       "</tr>\n",
       "<tr>\n",
       "  <th>Intercept</th>                       <td>    1.6121</td> <td>    0.007</td> <td>  222.370</td> <td> 0.000</td> <td>    1.598</td> <td>    1.626</td>\n",
       "</tr>\n",
       "<tr>\n",
       "  <th>progresa[T.basal]</th>               <td>    0.0071</td> <td>    0.003</td> <td>    2.065</td> <td> 0.039</td> <td>    0.000</td> <td>    0.014</td>\n",
       "</tr>\n",
       "<tr>\n",
       "  <th>C(year)[T.98]</th>                   <td>    0.0258</td> <td>    0.004</td> <td>    6.537</td> <td> 0.000</td> <td>    0.018</td> <td>    0.034</td>\n",
       "</tr>\n",
       "<tr>\n",
       "  <th>progresa[T.basal]:C(year)[T.98]</th> <td>    0.0248</td> <td>    0.005</td> <td>    4.948</td> <td> 0.000</td> <td>    0.015</td> <td>    0.035</td>\n",
       "</tr>\n",
       "<tr>\n",
       "  <th>sex</th>                             <td>    0.0365</td> <td>    0.002</td> <td>   14.962</td> <td> 0.000</td> <td>    0.032</td> <td>    0.041</td>\n",
       "</tr>\n",
       "<tr>\n",
       "  <th>indig</th>                           <td>    0.0271</td> <td>    0.003</td> <td>    8.964</td> <td> 0.000</td> <td>    0.021</td> <td>    0.033</td>\n",
       "</tr>\n",
       "<tr>\n",
       "  <th>grc</th>                             <td>    0.0524</td> <td>    0.001</td> <td>   56.960</td> <td> 0.000</td> <td>    0.051</td> <td>    0.054</td>\n",
       "</tr>\n",
       "<tr>\n",
       "  <th>min_dist</th>                        <td>    0.0002</td> <td> 4.01e-05</td> <td>    6.059</td> <td> 0.000</td> <td>    0.000</td> <td>    0.000</td>\n",
       "</tr>\n",
       "<tr>\n",
       "  <th>dist_cap</th>                        <td>    0.0003</td> <td> 2.35e-05</td> <td>   10.731</td> <td> 0.000</td> <td>    0.000</td> <td>    0.000</td>\n",
       "</tr>\n",
       "<tr>\n",
       "  <th>hohedu</th>                          <td>    0.0046</td> <td>    0.000</td> <td>    9.817</td> <td> 0.000</td> <td>    0.004</td> <td>    0.006</td>\n",
       "</tr>\n",
       "<tr>\n",
       "  <th>age</th>                             <td>   -0.1017</td> <td>    0.001</td> <td> -134.822</td> <td> 0.000</td> <td>   -0.103</td> <td>   -0.100</td>\n",
       "</tr>\n",
       "</table>\n",
       "<table class=\"simpletable\">\n",
       "<tr>\n",
       "  <th>Omnibus:</th>       <td>6629.764</td> <th>  Durbin-Watson:     </th> <td>   1.519</td>\n",
       "</tr>\n",
       "<tr>\n",
       "  <th>Prob(Omnibus):</th>  <td> 0.000</td>  <th>  Jarque-Bera (JB):  </th> <td>8711.104</td>\n",
       "</tr>\n",
       "<tr>\n",
       "  <th>Skew:</th>           <td>-0.851</td>  <th>  Prob(JB):          </th> <td>    0.00</td>\n",
       "</tr>\n",
       "<tr>\n",
       "  <th>Kurtosis:</th>       <td> 3.397</td>  <th>  Cond. No.          </th> <td>1.27e+03</td>\n",
       "</tr>\n",
       "</table>"
      ],
      "text/plain": [
       "<class 'statsmodels.iolib.summary.Summary'>\n",
       "\"\"\"\n",
       "                            OLS Regression Results                            \n",
       "==============================================================================\n",
       "Dep. Variable:                     sc   R-squared:                       0.314\n",
       "Model:                            OLS   Adj. R-squared:                  0.313\n",
       "Method:                 Least Squares   F-statistic:                     3126.\n",
       "Date:                Wed, 02 May 2018   Prob (F-statistic):               0.00\n",
       "Time:                        13:46:30   Log-Likelihood:                -18834.\n",
       "No. Observations:               68468   AIC:                         3.769e+04\n",
       "Df Residuals:                   68457   BIC:                         3.779e+04\n",
       "Df Model:                          10                                         \n",
       "Covariance Type:            nonrobust                                         \n",
       "===================================================================================================\n",
       "                                      coef    std err          t      P>|t|      [0.025      0.975]\n",
       "---------------------------------------------------------------------------------------------------\n",
       "Intercept                           1.6121      0.007    222.370      0.000       1.598       1.626\n",
       "progresa[T.basal]                   0.0071      0.003      2.065      0.039       0.000       0.014\n",
       "C(year)[T.98]                       0.0258      0.004      6.537      0.000       0.018       0.034\n",
       "progresa[T.basal]:C(year)[T.98]     0.0248      0.005      4.948      0.000       0.015       0.035\n",
       "sex                                 0.0365      0.002     14.962      0.000       0.032       0.041\n",
       "indig                               0.0271      0.003      8.964      0.000       0.021       0.033\n",
       "grc                                 0.0524      0.001     56.960      0.000       0.051       0.054\n",
       "min_dist                            0.0002   4.01e-05      6.059      0.000       0.000       0.000\n",
       "dist_cap                            0.0003   2.35e-05     10.731      0.000       0.000       0.000\n",
       "hohedu                              0.0046      0.000      9.817      0.000       0.004       0.006\n",
       "age                                -0.1017      0.001   -134.822      0.000      -0.103      -0.100\n",
       "==============================================================================\n",
       "Omnibus:                     6629.764   Durbin-Watson:                   1.519\n",
       "Prob(Omnibus):                  0.000   Jarque-Bera (JB):             8711.104\n",
       "Skew:                          -0.851   Prob(JB):                         0.00\n",
       "Kurtosis:                       3.397   Cond. No.                     1.27e+03\n",
       "==============================================================================\n",
       "\n",
       "Warnings:\n",
       "[1] Standard Errors assume that the covariance matrix of the errors is correctly specified.\n",
       "[2] The condition number is large, 1.27e+03. This might indicate that there are\n",
       "strong multicollinearity or other numerical problems.\n",
       "\"\"\""
      ]
     },
     "execution_count": 15,
     "metadata": {},
     "output_type": "execute_result"
    }
   ],
   "source": [
    "m2=smf.ols(formula='sc ~ progresa* C(year)+ sex+indig+grc+min_dist+dist_cap+hohedu+age', data=pro)\n",
    "r2=m2.fit()\n",
    "r2.summary()"
   ]
  },
  {
   "cell_type": "markdown",
   "metadata": {
    "ein.tags": "worksheet-0",
    "slideshow": {
     "slide_type": "-"
    }
   },
   "source": [
    "1. With other controls in the model, impact of Progresa has reduced, but it is still significant.\n",
    "2. This change in variable coefficient is because of presence other controls' with relationship enrollment rate.\n",
    "3. Only the variables with p value <.05 and t stat >2 are retained in the model.\n",
    "4. Diff in Diff estimate(0.0248) is close to the interaction variable(.0248).\n",
    "5. Comparing the result with simple differences, the t test value has reduced (May be because of other controls)\n",
    "6. Comparing the result with dif in dif, only the dif in dif is the same, both year & Progresa variables' effect is not similar(2.4)\n",
    "\n",
    "To answer counterfactual question:\n",
    "1. Progresa & Year have positive impact on enrollment rate - program was really effective and in addition with other variables it is impacting enrollment rate.\n",
    "2. Enrollment rate to have impact on year, is difficult to explain. But eagerness to enrol, might have had impact on min_dist\n",
    "3. The families might have received benefits from a different program or schools were made free for poor families. Hence progresa and enrollment rate might be having a positive impact as a side effect"
   ]
  },
  {
   "cell_type": "markdown",
   "metadata": {
    "ein.tags": "worksheet-0",
    "slideshow": {
     "slide_type": "-"
    }
   },
   "source": [
    "### 2.6 Summary\n",
    "\n",
    "* Based on all the analysis you have undertaken to date, do you\n",
    "  believe that Progresa had a causal impact on the enrollment rates of\n",
    "  poor households in Mexico?  Explain by referring to the methods and\n",
    "  results above."
   ]
  },
  {
   "cell_type": "markdown",
   "metadata": {
    "ein.tags": "worksheet-0",
    "slideshow": {
     "slide_type": "-"
    }
   },
   "source": [
    "1. The Progresa program does seem like it has made an impact in enrolment rate - analysis such as histogram by village helped us track that. \n",
    "2. But this progresa programme is not the only cause of enrollment. We have observed that there is significant difference between the treatment and control groups. Maybe the underlying population itself had effect on the results.\n",
    "3. We also observed that the model works better with additional variables instead of just the Progresa as the impact.\n",
    "4. My take on this program is: It looks like Progresa has had impact on enrollment, but whether it was worth the effort taken - ROI of this programme needs to be evaluated, to see whether the targeted result was acheived.  "
   ]
  },
  {
   "cell_type": "code",
   "execution_count": null,
   "metadata": {},
   "outputs": [],
   "source": []
  }
 ],
 "metadata": {
  "kernelspec": {
   "display_name": "Python 3",
   "language": "python",
   "name": "python3"
  },
  "language_info": {
   "codemirror_mode": {
    "name": "ipython",
    "version": 3
   },
   "file_extension": ".py",
   "mimetype": "text/x-python",
   "name": "python",
   "nbconvert_exporter": "python",
   "pygments_lexer": "ipython3",
   "version": "3.6.4"
  },
  "name": "ps03_progresa.ipynb"
 },
 "nbformat": 4,
 "nbformat_minor": 1
}
