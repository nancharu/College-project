{
 "cells": [
  {
   "cell_type": "markdown",
   "metadata": {},
   "source": [
    "Lab 2"
   ]
  },
  {
   "cell_type": "code",
   "execution_count": 3,
   "metadata": {},
   "outputs": [
    {
     "name": "stdout",
     "output_type": "stream",
     "text": [
      "   pclass  survived                                             name     sex  \\\n",
      "0       1         1                    Allen, Miss. Elisabeth Walton  female   \n",
      "1       1         1                   Allison, Master. Hudson Trevor    male   \n",
      "2       1         0                     Allison, Miss. Helen Loraine  female   \n",
      "3       1         0             Allison, Mr. Hudson Joshua Creighton    male   \n",
      "4       1         0  Allison, Mrs. Hudson J C (Bessie Waldo Daniels)  female   \n",
      "\n",
      "       age  sibsp  parch  ticket      fare    cabin embarked boat   body  \\\n",
      "0  29.0000      0      0   24160  211.3375       B5        S    2    NaN   \n",
      "1   0.9167      1      2  113781  151.5500  C22 C26        S   11    NaN   \n",
      "2   2.0000      1      2  113781  151.5500  C22 C26        S  NaN    NaN   \n",
      "3  30.0000      1      2  113781  151.5500  C22 C26        S  NaN  135.0   \n",
      "4  25.0000      1      2  113781  151.5500  C22 C26        S  NaN    NaN   \n",
      "\n",
      "                         home.dest  \n",
      "0                     St Louis, MO  \n",
      "1  Montreal, PQ / Chesterville, ON  \n",
      "2  Montreal, PQ / Chesterville, ON  \n",
      "3  Montreal, PQ / Chesterville, ON  \n",
      "4  Montreal, PQ / Chesterville, ON  \n"
     ]
    }
   ],
   "source": [
    "import numpy as np\n",
    "import pandas as pd\n",
    "from sklearn.datasets import load_boston\n",
    "\n",
    "import sklearn.linear_model as lm\n",
    "import statsmodels.formula.api as smf\n",
    "\n",
    "import matplotlib.pyplot as plt\n",
    "%matplotlib inline\n",
    "\n",
    "#1\n",
    "titanic_df = pd.read_csv('/Users/nandy/Downloads/titanic.csv.bz2')\n",
    "print(titanic_df.head())"
   ]
  },
  {
   "cell_type": "markdown",
   "metadata": {},
   "source": [
    "The target variable is survived(0/1), pclass is a continuous variable and sex is Male/Female(categorical variable). Hence pclass needs to converted to a categorical variable."
   ]
  },
  {
   "cell_type": "code",
   "execution_count": 89,
   "metadata": {},
   "outputs": [
    {
     "data": {
      "text/html": [
       "<table class=\"simpletable\">\n",
       "<caption>OLS Regression Results</caption>\n",
       "<tr>\n",
       "  <th>Dep. Variable:</th>        <td>survived</td>     <th>  R-squared:         </th> <td>   0.341</td> \n",
       "</tr>\n",
       "<tr>\n",
       "  <th>Model:</th>                   <td>OLS</td>       <th>  Adj. R-squared:    </th> <td>   0.340</td> \n",
       "</tr>\n",
       "<tr>\n",
       "  <th>Method:</th>             <td>Least Squares</td>  <th>  F-statistic:       </th> <td>   225.5</td> \n",
       "</tr>\n",
       "<tr>\n",
       "  <th>Date:</th>             <td>Wed, 11 Apr 2018</td> <th>  Prob (F-statistic):</th> <td>7.79e-118</td>\n",
       "</tr>\n",
       "<tr>\n",
       "  <th>Time:</th>                 <td>21:00:48</td>     <th>  Log-Likelihood:    </th> <td> -639.22</td> \n",
       "</tr>\n",
       "<tr>\n",
       "  <th>No. Observations:</th>      <td>  1309</td>      <th>  AIC:               </th> <td>   1286.</td> \n",
       "</tr>\n",
       "<tr>\n",
       "  <th>Df Residuals:</th>          <td>  1305</td>      <th>  BIC:               </th> <td>   1307.</td> \n",
       "</tr>\n",
       "<tr>\n",
       "  <th>Df Model:</th>              <td>     3</td>      <th>                     </th>     <td> </td>    \n",
       "</tr>\n",
       "<tr>\n",
       "  <th>Covariance Type:</th>      <td>nonrobust</td>    <th>                     </th>     <td> </td>    \n",
       "</tr>\n",
       "</table>\n",
       "<table class=\"simpletable\">\n",
       "<tr>\n",
       "         <td></td>           <th>coef</th>     <th>std err</th>      <th>t</th>      <th>P>|t|</th>  <th>[0.025</th>    <th>0.975]</th>  \n",
       "</tr>\n",
       "<tr>\n",
       "  <th>Intercept</th>      <td>    0.8990</td> <td>    0.025</td> <td>   35.398</td> <td> 0.000</td> <td>    0.849</td> <td>    0.949</td>\n",
       "</tr>\n",
       "<tr>\n",
       "  <th>C(pclass)[T.2]</th> <td>   -0.1577</td> <td>    0.032</td> <td>   -4.872</td> <td> 0.000</td> <td>   -0.221</td> <td>   -0.094</td>\n",
       "</tr>\n",
       "<tr>\n",
       "  <th>C(pclass)[T.3]</th> <td>   -0.2926</td> <td>    0.027</td> <td>  -10.957</td> <td> 0.000</td> <td>   -0.345</td> <td>   -0.240</td>\n",
       "</tr>\n",
       "<tr>\n",
       "  <th>sex[T.male]</th>    <td>   -0.5049</td> <td>    0.023</td> <td>  -21.974</td> <td> 0.000</td> <td>   -0.550</td> <td>   -0.460</td>\n",
       "</tr>\n",
       "</table>\n",
       "<table class=\"simpletable\">\n",
       "<tr>\n",
       "  <th>Omnibus:</th>       <td>60.055</td> <th>  Durbin-Watson:     </th> <td>   1.760</td>\n",
       "</tr>\n",
       "<tr>\n",
       "  <th>Prob(Omnibus):</th> <td> 0.000</td> <th>  Jarque-Bera (JB):  </th> <td>  67.798</td>\n",
       "</tr>\n",
       "<tr>\n",
       "  <th>Skew:</th>          <td> 0.557</td> <th>  Prob(JB):          </th> <td>1.90e-15</td>\n",
       "</tr>\n",
       "<tr>\n",
       "  <th>Kurtosis:</th>      <td> 2.961</td> <th>  Cond. No.          </th> <td>    5.25</td>\n",
       "</tr>\n",
       "</table>"
      ],
      "text/plain": [
       "<class 'statsmodels.iolib.summary.Summary'>\n",
       "\"\"\"\n",
       "                            OLS Regression Results                            \n",
       "==============================================================================\n",
       "Dep. Variable:               survived   R-squared:                       0.341\n",
       "Model:                            OLS   Adj. R-squared:                  0.340\n",
       "Method:                 Least Squares   F-statistic:                     225.5\n",
       "Date:                Wed, 11 Apr 2018   Prob (F-statistic):          7.79e-118\n",
       "Time:                        21:00:48   Log-Likelihood:                -639.22\n",
       "No. Observations:                1309   AIC:                             1286.\n",
       "Df Residuals:                    1305   BIC:                             1307.\n",
       "Df Model:                           3                                         \n",
       "Covariance Type:            nonrobust                                         \n",
       "==================================================================================\n",
       "                     coef    std err          t      P>|t|      [0.025      0.975]\n",
       "----------------------------------------------------------------------------------\n",
       "Intercept          0.8990      0.025     35.398      0.000       0.849       0.949\n",
       "C(pclass)[T.2]    -0.1577      0.032     -4.872      0.000      -0.221      -0.094\n",
       "C(pclass)[T.3]    -0.2926      0.027    -10.957      0.000      -0.345      -0.240\n",
       "sex[T.male]       -0.5049      0.023    -21.974      0.000      -0.550      -0.460\n",
       "==============================================================================\n",
       "Omnibus:                       60.055   Durbin-Watson:                   1.760\n",
       "Prob(Omnibus):                  0.000   Jarque-Bera (JB):               67.798\n",
       "Skew:                           0.557   Prob(JB):                     1.90e-15\n",
       "Kurtosis:                       2.961   Cond. No.                         5.25\n",
       "==============================================================================\n",
       "\n",
       "Warnings:\n",
       "[1] Standard Errors assume that the covariance matrix of the errors is correctly specified.\n",
       "\"\"\""
      ]
     },
     "execution_count": 89,
     "metadata": {},
     "output_type": "execute_result"
    }
   ],
   "source": [
    "#2\n",
    "m1=smf.ols(formula='survived ~ C(pclass) + sex', data=titanic_df)\n",
    "r1=m1.fit()\n",
    "r1.summary()\n"
   ]
  },
  {
   "cell_type": "markdown",
   "metadata": {},
   "source": [
    "The model has both the variables significant.  "
   ]
  },
  {
   "cell_type": "code",
   "execution_count": 90,
   "metadata": {},
   "outputs": [
    {
     "name": "stdout",
     "output_type": "stream",
     "text": [
      "0       0.898984\n",
      "1       0.394113\n",
      "2       0.898984\n",
      "3       0.394113\n",
      "4       0.898984\n",
      "5       0.394113\n",
      "6       0.898984\n",
      "7       0.394113\n",
      "8       0.898984\n",
      "9       0.394113\n",
      "10      0.394113\n",
      "11      0.898984\n",
      "12      0.898984\n",
      "13      0.898984\n",
      "14      0.394113\n",
      "15      0.394113\n",
      "16      0.394113\n",
      "17      0.898984\n",
      "18      0.898984\n",
      "19      0.394113\n",
      "20      0.394113\n",
      "21      0.898984\n",
      "22      0.394113\n",
      "23      0.898984\n",
      "24      0.898984\n",
      "25      0.394113\n",
      "26      0.394113\n",
      "27      0.898984\n",
      "28      0.898984\n",
      "29      0.394113\n",
      "          ...   \n",
      "1279    0.606349\n",
      "1280    0.101478\n",
      "1281    0.101478\n",
      "1282    0.101478\n",
      "1283    0.101478\n",
      "1284    0.101478\n",
      "1285    0.101478\n",
      "1286    0.606349\n",
      "1287    0.101478\n",
      "1288    0.101478\n",
      "1289    0.101478\n",
      "1290    0.606349\n",
      "1291    0.101478\n",
      "1292    0.101478\n",
      "1293    0.101478\n",
      "1294    0.101478\n",
      "1295    0.101478\n",
      "1296    0.101478\n",
      "1297    0.101478\n",
      "1298    0.101478\n",
      "1299    0.101478\n",
      "1300    0.606349\n",
      "1301    0.101478\n",
      "1302    0.101478\n",
      "1303    0.101478\n",
      "1304    0.606349\n",
      "1305    0.606349\n",
      "1306    0.101478\n",
      "1307    0.101478\n",
      "1308    0.101478\n",
      "Name: yhat, Length: 1309, dtype: float64\n"
     ]
    },
    {
     "data": {
      "image/png": "[encoded data removed]",
      "text/plain": [
       "<matplotlib.figure.Figure at 0x1a0e943c50>"
      ]
     },
     "metadata": {},
     "output_type": "display_data"
    }
   ],
   "source": [
    "#3 \n",
    "titanic_df['yhat']=r1.predict()\n",
    "plt.scatter(titanic_df.survived,titanic_df.yhat)\n",
    "\n",
    "print(titanic_df['yhat'])"
   ]
  },
  {
   "cell_type": "markdown",
   "metadata": {},
   "source": [
    "yhat has the predicted survived value based on the linear model built with pclass and gender as variables. It has values between 0 & 1"
   ]
  },
  {
   "cell_type": "code",
   "execution_count": 91,
   "metadata": {},
   "outputs": [
    {
     "name": "stdout",
     "output_type": "stream",
     "text": [
      "Max:  0.9652777777777781\n",
      "Min:  0.14619883040935722\n"
     ]
    }
   ],
   "source": [
    "#4 Max & Min values of predicted survival\n",
    "\n",
    "print(\"Max: \",max(titanic_df.yhat))\n",
    "\n",
    "print(\"Min: \",min(titanic_df.yhat))"
   ]
  },
  {
   "cell_type": "markdown",
   "metadata": {},
   "source": [
    "No, the values lie between 0 and 1. They do not get the exact value of 0 / 1"
   ]
  },
  {
   "cell_type": "code",
   "execution_count": 92,
   "metadata": {},
   "outputs": [
    {
     "name": "stdout",
     "output_type": "stream",
     "text": [
      "Cross tab: \n",
      " yhat_new    0    1\n",
      "survived          \n",
      "0         682  127\n",
      "1         161  339\n",
      "Accuracy: \n",
      " 0.7799847211611918\n"
     ]
    }
   ],
   "source": [
    "#5 \n",
    "titanic_df['yhat_new']=[1 if x >= 0.5 else 0 for x in titanic_df['yhat']]\n",
    "\n",
    "temp1 = pd.DataFrame(pd.crosstab(titanic_df['survived'],titanic_df['yhat_new']))\n",
    "print(\"Cross tab: \\n\",temp1)\n",
    "\n",
    "\n",
    "accuracy = (temp1.iloc[0].iloc[0]+temp1.iloc[1].iloc[1])/titanic_df.pclass.count()\n",
    "print(\"Accuracy: \\n\",accuracy)\n"
   ]
  },
  {
   "cell_type": "markdown",
   "metadata": {},
   "source": [
    "Accuracy of the model is 78%"
   ]
  },
  {
   "cell_type": "code",
   "execution_count": 93,
   "metadata": {},
   "outputs": [
    {
     "data": {
      "text/html": [
       "<table class=\"simpletable\">\n",
       "<caption>OLS Regression Results</caption>\n",
       "<tr>\n",
       "  <th>Dep. Variable:</th>        <td>survived</td>     <th>  R-squared:         </th> <td>   0.370</td> \n",
       "</tr>\n",
       "<tr>\n",
       "  <th>Model:</th>                   <td>OLS</td>       <th>  Adj. R-squared:    </th> <td>   0.368</td> \n",
       "</tr>\n",
       "<tr>\n",
       "  <th>Method:</th>             <td>Least Squares</td>  <th>  F-statistic:       </th> <td>   153.2</td> \n",
       "</tr>\n",
       "<tr>\n",
       "  <th>Date:</th>             <td>Wed, 11 Apr 2018</td> <th>  Prob (F-statistic):</th> <td>4.02e-128</td>\n",
       "</tr>\n",
       "<tr>\n",
       "  <th>Time:</th>                 <td>21:03:11</td>     <th>  Log-Likelihood:    </th> <td> -609.86</td> \n",
       "</tr>\n",
       "<tr>\n",
       "  <th>No. Observations:</th>      <td>  1309</td>      <th>  AIC:               </th> <td>   1232.</td> \n",
       "</tr>\n",
       "<tr>\n",
       "  <th>Df Residuals:</th>          <td>  1303</td>      <th>  BIC:               </th> <td>   1263.</td> \n",
       "</tr>\n",
       "<tr>\n",
       "  <th>Df Model:</th>              <td>     5</td>      <th>                     </th>     <td> </td>    \n",
       "</tr>\n",
       "<tr>\n",
       "  <th>Covariance Type:</th>      <td>nonrobust</td>    <th>                     </th>     <td> </td>    \n",
       "</tr>\n",
       "</table>\n",
       "<table class=\"simpletable\">\n",
       "<tr>\n",
       "               <td></td>                 <th>coef</th>     <th>std err</th>      <th>t</th>      <th>P>|t|</th>  <th>[0.025</th>    <th>0.975]</th>  \n",
       "</tr>\n",
       "<tr>\n",
       "  <th>Intercept</th>                  <td>    0.9653</td> <td>    0.032</td> <td>   29.974</td> <td> 0.000</td> <td>    0.902</td> <td>    1.028</td>\n",
       "</tr>\n",
       "<tr>\n",
       "  <th>C(pclass)[T.2]</th>             <td>   -0.0785</td> <td>    0.049</td> <td>   -1.587</td> <td> 0.113</td> <td>   -0.176</td> <td>    0.019</td>\n",
       "</tr>\n",
       "<tr>\n",
       "  <th>C(pclass)[T.3]</th>             <td>   -0.4745</td> <td>    0.042</td> <td>  -11.414</td> <td> 0.000</td> <td>   -0.556</td> <td>   -0.393</td>\n",
       "</tr>\n",
       "<tr>\n",
       "  <th>sex[T.male]</th>                <td>   -0.6245</td> <td>    0.043</td> <td>  -14.436</td> <td> 0.000</td> <td>   -0.709</td> <td>   -0.540</td>\n",
       "</tr>\n",
       "<tr>\n",
       "  <th>C(pclass)[T.2]:sex[T.male]</th> <td>   -0.1161</td> <td>    0.064</td> <td>   -1.801</td> <td> 0.072</td> <td>   -0.243</td> <td>    0.010</td>\n",
       "</tr>\n",
       "<tr>\n",
       "  <th>C(pclass)[T.3]:sex[T.male]</th> <td>    0.2859</td> <td>    0.054</td> <td>    5.340</td> <td> 0.000</td> <td>    0.181</td> <td>    0.391</td>\n",
       "</tr>\n",
       "</table>\n",
       "<table class=\"simpletable\">\n",
       "<tr>\n",
       "  <th>Omnibus:</th>       <td>113.251</td> <th>  Durbin-Watson:     </th> <td>   1.746</td>\n",
       "</tr>\n",
       "<tr>\n",
       "  <th>Prob(Omnibus):</th> <td> 0.000</td>  <th>  Jarque-Bera (JB):  </th> <td> 142.526</td>\n",
       "</tr>\n",
       "<tr>\n",
       "  <th>Skew:</th>          <td> 0.805</td>  <th>  Prob(JB):          </th> <td>1.12e-31</td>\n",
       "</tr>\n",
       "<tr>\n",
       "  <th>Kurtosis:</th>      <td> 3.136</td>  <th>  Cond. No.          </th> <td>    13.3</td>\n",
       "</tr>\n",
       "</table>"
      ],
      "text/plain": [
       "<class 'statsmodels.iolib.summary.Summary'>\n",
       "\"\"\"\n",
       "                            OLS Regression Results                            \n",
       "==============================================================================\n",
       "Dep. Variable:               survived   R-squared:                       0.370\n",
       "Model:                            OLS   Adj. R-squared:                  0.368\n",
       "Method:                 Least Squares   F-statistic:                     153.2\n",
       "Date:                Wed, 11 Apr 2018   Prob (F-statistic):          4.02e-128\n",
       "Time:                        21:03:11   Log-Likelihood:                -609.86\n",
       "No. Observations:                1309   AIC:                             1232.\n",
       "Df Residuals:                    1303   BIC:                             1263.\n",
       "Df Model:                           5                                         \n",
       "Covariance Type:            nonrobust                                         \n",
       "==============================================================================================\n",
       "                                 coef    std err          t      P>|t|      [0.025      0.975]\n",
       "----------------------------------------------------------------------------------------------\n",
       "Intercept                      0.9653      0.032     29.974      0.000       0.902       1.028\n",
       "C(pclass)[T.2]                -0.0785      0.049     -1.587      0.113      -0.176       0.019\n",
       "C(pclass)[T.3]                -0.4745      0.042    -11.414      0.000      -0.556      -0.393\n",
       "sex[T.male]                   -0.6245      0.043    -14.436      0.000      -0.709      -0.540\n",
       "C(pclass)[T.2]:sex[T.male]    -0.1161      0.064     -1.801      0.072      -0.243       0.010\n",
       "C(pclass)[T.3]:sex[T.male]     0.2859      0.054      5.340      0.000       0.181       0.391\n",
       "==============================================================================\n",
       "Omnibus:                      113.251   Durbin-Watson:                   1.746\n",
       "Prob(Omnibus):                  0.000   Jarque-Bera (JB):              142.526\n",
       "Skew:                           0.805   Prob(JB):                     1.12e-31\n",
       "Kurtosis:                       3.136   Cond. No.                         13.3\n",
       "==============================================================================\n",
       "\n",
       "Warnings:\n",
       "[1] Standard Errors assume that the covariance matrix of the errors is correctly specified.\n",
       "\"\"\""
      ]
     },
     "execution_count": 93,
     "metadata": {},
     "output_type": "execute_result"
    }
   ],
   "source": [
    "#7\n",
    "m1=smf.ols(formula='survived ~ C(pclass) * sex', data=titanic_df)\n",
    "r1=m1.fit()\n",
    "r1.summary()\n"
   ]
  },
  {
   "cell_type": "markdown",
   "metadata": {},
   "source": [
    "#8\n",
    "We find that the pclass 2 is not significant, but it was before. This model says that being Female & 1st class(intercept) has high chances of survival. \n",
    "Being Male and in class 1 has slightly better chance of survival. \n",
    "Female and in class 2 & 3, have low chances of survival\n"
   ]
  },
  {
   "cell_type": "code",
   "execution_count": 97,
   "metadata": {},
   "outputs": [
    {
     "name": "stdout",
     "output_type": "stream",
     "text": [
      "Cross tab: \n",
      " yhat_new    0    1\n",
      "survived          \n",
      "0         792   17\n",
      "1         267  233\n",
      "Accuracy: \n",
      " 0.7830404889228418\n"
     ]
    }
   ],
   "source": [
    "#9\n",
    "titanic_df['yhat']=r1.predict()\n",
    "\n",
    "titanic_df['yhat_new']=[1 if x >= 0.5 else 0 for x in titanic_df['yhat']]\n",
    "\n",
    "temp1 = pd.DataFrame(pd.crosstab(titanic_df['survived'],titanic_df['yhat_new']))\n",
    "print(\"Cross tab: \\n\",temp1)\n",
    "\n",
    "accuracy = (temp1.iloc[0].iloc[0]+temp1.iloc[1].iloc[1])/titanic_df.pclass.count()\n",
    "print(\"Accuracy: \\n\",accuracy)\n"
   ]
  },
  {
   "cell_type": "markdown",
   "metadata": {},
   "source": [
    "Accuracy has increased by 1 percent after including the interaction variables."
   ]
  },
  {
   "cell_type": "code",
   "execution_count": null,
   "metadata": {},
   "outputs": [],
   "source": []
  }
 ],
 "metadata": {
  "kernelspec": {
   "display_name": "Python 3",
   "language": "python",
   "name": "python3"
  },
  "language_info": {
   "codemirror_mode": {
    "name": "ipython",
    "version": 3
   },
   "file_extension": ".py",
   "mimetype": "text/x-python",
   "name": "python",
   "nbconvert_exporter": "python",
   "pygments_lexer": "ipython3",
   "version": "3.6.4"
  }
 },
 "nbformat": 4,
 "nbformat_minor": 2
}
